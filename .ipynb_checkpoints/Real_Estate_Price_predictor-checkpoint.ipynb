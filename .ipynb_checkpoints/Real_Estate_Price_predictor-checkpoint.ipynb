{
 "cells": [
  {
   "cell_type": "code",
   "execution_count": 518,
   "id": "61e8a2d6",
   "metadata": {},
   "outputs": [],
   "source": [
    "import pandas as pd\n",
    "import numpy as np\n",
    "import matplotlib.pyplot as plt\n",
    "import seaborn as sns\n",
    "\n",
    "from sklearn.model_selection import KFold, cross_val_score\n",
    "from sklearn.linear_model import LinearRegression, Ridge\n",
    "from sklearn.pipeline import Pipeline\n",
    "from sklearn.preprocessing import OneHotEncoder, StandardScaler, OrdinalEncoder\n",
    "from sklearn.compose import ColumnTransformer\n",
    "from sklearn.svm import SVR\n",
    "from sklearn.tree import DecisionTreeRegressor, ExtraTreeRegressor\n",
    "from sklearn.ensemble import GradientBoostingRegressor, AdaBoostRegressor, ExtraTreesRegressor\n",
    "from xgboost import XGBRegressor\n",
    "from sklearn.neural_network import MLPRegressor\n",
    "\n",
    "from sklearn.model_selection import train_test_split\n",
    "from sklearn.metrics import mean_absolute_error\n",
    "\n",
    "from sklearn.decomposition import PCA\n",
    "\n",
    "import warnings\n",
    "warnings.filterwarnings('ignore')"
   ]
  },
  {
   "cell_type": "code",
   "execution_count": null,
   "id": "d05d1882",
   "metadata": {},
   "outputs": [],
   "source": [
    "pd.set_option('display.max_row',None)\n",
    "pd.set_option('display.max_columns',None)"
   ]
  },
  {
   "cell_type": "markdown",
   "id": "ac16686f",
   "metadata": {},
   "source": [
    "## Load Flat Dataset"
   ]
  },
  {
   "cell_type": "code",
   "execution_count": null,
   "id": "0140e786",
   "metadata": {},
   "outputs": [],
   "source": [
    "df_flat = pd.read_excel('flats.xlsx')\n",
    "df_flat.head()"
   ]
  },
  {
   "cell_type": "code",
   "execution_count": null,
   "id": "e0537a20",
   "metadata": {},
   "outputs": [],
   "source": [
    "df_flat.shape"
   ]
  },
  {
   "cell_type": "code",
   "execution_count": null,
   "id": "6acaf54c",
   "metadata": {},
   "outputs": [],
   "source": [
    "df_flat.info()"
   ]
  },
  {
   "cell_type": "markdown",
   "id": "5d9cf56f",
   "metadata": {},
   "source": [
    "1. all most every column have  missing value\n",
    "2. All columns have string data type"
   ]
  },
  {
   "cell_type": "code",
   "execution_count": null,
   "id": "c7a3499a",
   "metadata": {},
   "outputs": [],
   "source": [
    "df_flat.duplicated().sum()"
   ]
  },
  {
   "cell_type": "markdown",
   "id": "ec366561",
   "metadata": {},
   "source": [
    "=> No duplicate entries found"
   ]
  },
  {
   "cell_type": "code",
   "execution_count": null,
   "id": "918fee35",
   "metadata": {},
   "outputs": [],
   "source": [
    "df_flat.isnull().sum()"
   ]
  },
  {
   "cell_type": "markdown",
   "id": "efae2db9",
   "metadata": {},
   "source": [
    "Lot of missing value in my data set"
   ]
  },
  {
   "cell_type": "code",
   "execution_count": null,
   "id": "15a93272",
   "metadata": {},
   "outputs": [],
   "source": [
    "# Deleting unwanted columns\n",
    "df_flat.drop(columns=['link','property_id'], axis=1, inplace=True)\n",
    "df_flat.head()"
   ]
  },
  {
   "cell_type": "code",
   "execution_count": null,
   "id": "b6ce50f4",
   "metadata": {},
   "outputs": [],
   "source": [
    "# rename column \"area\" to \"Price per sq feets\"\n",
    "\n",
    "df_flat.rename(columns={'area':'Price_Per_sqFeets'},inplace=True)\n",
    "df_flat.head()"
   ]
  },
  {
   "cell_type": "code",
   "execution_count": null,
   "id": "eb9607b2",
   "metadata": {},
   "outputs": [],
   "source": [
    "df_flat['society'].value_counts()"
   ]
  },
  {
   "cell_type": "code",
   "execution_count": null,
   "id": "ec6ad0ce",
   "metadata": {},
   "outputs": [],
   "source": [
    "df_flat['society'].value_counts().shape"
   ]
  },
  {
   "cell_type": "code",
   "execution_count": null,
   "id": "d24e6680",
   "metadata": {},
   "outputs": [],
   "source": [
    "import re\n",
    "df_flat['society'] = df_flat['society'].apply(lambda x: re.sub(r'\\d+(\\.\\d+)?\\s★', '', str(x)).strip()).str.lower()"
   ]
  },
  {
   "cell_type": "code",
   "execution_count": null,
   "id": "8dcce4a3",
   "metadata": {},
   "outputs": [],
   "source": [
    "df_flat['society'].value_counts().shape"
   ]
  },
  {
   "cell_type": "code",
   "execution_count": null,
   "id": "6b2d4f1a",
   "metadata": {},
   "outputs": [],
   "source": [
    "df_flat['price'].value_counts()"
   ]
  },
  {
   "cell_type": "code",
   "execution_count": null,
   "id": "48b25c6a",
   "metadata": {},
   "outputs": [],
   "source": [
    "df_flat= df_flat[df_flat['price'] != 'Price on Request']"
   ]
  },
  {
   "cell_type": "code",
   "execution_count": null,
   "id": "30c50a74",
   "metadata": {},
   "outputs": [],
   "source": [
    "df_flat.head()"
   ]
  },
  {
   "cell_type": "code",
   "execution_count": null,
   "id": "1511299b",
   "metadata": {},
   "outputs": [],
   "source": [
    "df_flat['price'].value_counts()"
   ]
  },
  {
   "cell_type": "code",
   "execution_count": null,
   "id": "946020ab",
   "metadata": {},
   "outputs": [],
   "source": [
    "# create a function for remove string from price column\n",
    "\n",
    "def price_update(x):\n",
    "    if type(x) == float:\n",
    "        return x\n",
    "    else:\n",
    "        try:\n",
    "            if x[1] == 'Lac':\n",
    "                return round(float(x[0])/100,2)\n",
    "            else:\n",
    "                return round(float(x[0]),2)\n",
    "        except:\n",
    "            pass"
   ]
  },
  {
   "cell_type": "code",
   "execution_count": null,
   "id": "db40f375",
   "metadata": {},
   "outputs": [],
   "source": [
    "df_flat['price'] = df_flat['price'].str.split(' ').apply(price_update)"
   ]
  },
  {
   "cell_type": "code",
   "execution_count": null,
   "id": "941c511e",
   "metadata": {},
   "outputs": [],
   "source": [
    "df_flat.head()"
   ]
  },
  {
   "cell_type": "code",
   "execution_count": null,
   "id": "81e1a337",
   "metadata": {},
   "outputs": [],
   "source": [
    "df_flat['Price_Per_sqFeets']= df_flat['Price_Per_sqFeets'].str.split(' ').str.get(1).str.split('/').str.get(0).str.replace(',','').str.strip().astype(float)"
   ]
  },
  {
   "cell_type": "code",
   "execution_count": null,
   "id": "80685b72",
   "metadata": {},
   "outputs": [],
   "source": [
    "df_flat.head()"
   ]
  },
  {
   "cell_type": "code",
   "execution_count": null,
   "id": "ee04745b",
   "metadata": {},
   "outputs": [],
   "source": [
    "df_flat['areaWithType'].value_counts()"
   ]
  },
  {
   "cell_type": "code",
   "execution_count": null,
   "id": "e7c4f9d9",
   "metadata": {},
   "outputs": [],
   "source": [
    "#bedroom\n",
    "df_flat['bedRoom'].value_counts()"
   ]
  },
  {
   "cell_type": "code",
   "execution_count": null,
   "id": "8ee4bc48",
   "metadata": {},
   "outputs": [],
   "source": [
    "df_flat[df_flat['bedRoom'].isnull()]"
   ]
  },
  {
   "cell_type": "code",
   "execution_count": null,
   "id": "51f564a4",
   "metadata": {},
   "outputs": [],
   "source": [
    "df_flat = df_flat[~df_flat['bedRoom'].isnull()]"
   ]
  },
  {
   "cell_type": "code",
   "execution_count": null,
   "id": "c63bc278",
   "metadata": {},
   "outputs": [],
   "source": [
    "df_flat"
   ]
  },
  {
   "cell_type": "code",
   "execution_count": null,
   "id": "61fd18d3",
   "metadata": {},
   "outputs": [],
   "source": [
    "df_flat['bedRoom']= df_flat['bedRoom'].str.split(' ').str.get(0).str.strip().astype('int')"
   ]
  },
  {
   "cell_type": "code",
   "execution_count": null,
   "id": "74127390",
   "metadata": {},
   "outputs": [],
   "source": [
    "df_flat.head()"
   ]
  },
  {
   "cell_type": "code",
   "execution_count": null,
   "id": "4d60521e",
   "metadata": {},
   "outputs": [],
   "source": [
    "df_flat['bathroom'].value_counts()"
   ]
  },
  {
   "cell_type": "code",
   "execution_count": null,
   "id": "77476196",
   "metadata": {},
   "outputs": [],
   "source": [
    "df_flat['bathroom'].isnull().sum()"
   ]
  },
  {
   "cell_type": "code",
   "execution_count": null,
   "id": "2d8d88e5",
   "metadata": {},
   "outputs": [],
   "source": [
    "df_flat['bathroom']=df_flat['bathroom'].str.split(' ').str.get(0).astype('int')"
   ]
  },
  {
   "cell_type": "code",
   "execution_count": null,
   "id": "3827b5a6",
   "metadata": {},
   "outputs": [],
   "source": [
    "df_flat['balcony'].value_counts()"
   ]
  },
  {
   "cell_type": "code",
   "execution_count": null,
   "id": "495c0707",
   "metadata": {},
   "outputs": [],
   "source": [
    "df_flat['balcony'].isnull().sum()"
   ]
  },
  {
   "cell_type": "code",
   "execution_count": null,
   "id": "ad7f22aa",
   "metadata": {},
   "outputs": [],
   "source": [
    "df_flat['balcony'] = df_flat['balcony'].str.split(' ').str.get(0).str.replace('No','0')"
   ]
  },
  {
   "cell_type": "code",
   "execution_count": null,
   "id": "5d8a7704",
   "metadata": {},
   "outputs": [],
   "source": [
    "df_flat.head()"
   ]
  },
  {
   "cell_type": "code",
   "execution_count": null,
   "id": "103604dd",
   "metadata": {},
   "outputs": [],
   "source": [
    "df_flat['additionalRoom'].value_counts()"
   ]
  },
  {
   "cell_type": "code",
   "execution_count": null,
   "id": "a75be660",
   "metadata": {},
   "outputs": [],
   "source": [
    "df_flat['additionalRoom'].isnull().sum()"
   ]
  },
  {
   "cell_type": "code",
   "execution_count": null,
   "id": "b2ff545f",
   "metadata": {},
   "outputs": [],
   "source": [
    "df_flat['additionalRoom'].fillna('not available', inplace=True)"
   ]
  },
  {
   "cell_type": "code",
   "execution_count": null,
   "id": "a48e699a",
   "metadata": {},
   "outputs": [],
   "source": [
    "df_flat['additionalRoom'] = df_flat['additionalRoom'].str.lower()"
   ]
  },
  {
   "cell_type": "code",
   "execution_count": null,
   "id": "58a6e538",
   "metadata": {},
   "outputs": [],
   "source": [
    "df_flat.head()"
   ]
  },
  {
   "cell_type": "code",
   "execution_count": null,
   "id": "c8cf536e",
   "metadata": {},
   "outputs": [],
   "source": [
    "# floor nu\n",
    "\n",
    "df_flat['floorNum']"
   ]
  },
  {
   "cell_type": "code",
   "execution_count": null,
   "id": "d30d9ee8",
   "metadata": {},
   "outputs": [],
   "source": [
    "df_flat['floorNum'].isnull().sum()"
   ]
  },
  {
   "cell_type": "code",
   "execution_count": null,
   "id": "42e0b724",
   "metadata": {},
   "outputs": [],
   "source": [
    "df_flat['floorNum'] = df_flat['floorNum'].str.split(' ').str.get(0).str.replace('Ground','0').str.replace('Basement','-1').str.replace('Lower','0').str.extract(r'(\\d+)')"
   ]
  },
  {
   "cell_type": "code",
   "execution_count": null,
   "id": "37310f4c",
   "metadata": {},
   "outputs": [],
   "source": [
    "df_flat['floorNum'] = df_flat['floorNum'].astype('float')"
   ]
  },
  {
   "cell_type": "code",
   "execution_count": null,
   "id": "ceeb1981",
   "metadata": {},
   "outputs": [],
   "source": [
    "df_flat.head()"
   ]
  },
  {
   "cell_type": "code",
   "execution_count": null,
   "id": "c9d4ff2d",
   "metadata": {},
   "outputs": [],
   "source": [
    "df_flat['facing'].value_counts()"
   ]
  },
  {
   "cell_type": "code",
   "execution_count": null,
   "id": "9876d1a4",
   "metadata": {},
   "outputs": [],
   "source": [
    "df_flat['facing'].isnull().sum()"
   ]
  },
  {
   "cell_type": "code",
   "execution_count": null,
   "id": "47925c7a",
   "metadata": {},
   "outputs": [],
   "source": [
    "df_flat['facing'].fillna('NA',inplace=True)"
   ]
  },
  {
   "cell_type": "code",
   "execution_count": null,
   "id": "bc816689",
   "metadata": {},
   "outputs": [],
   "source": [
    "df_flat.insert(loc=4,column='area', value=round((df_flat['price']*10000000)/df_flat['Price_Per_sqFeets']))"
   ]
  },
  {
   "cell_type": "code",
   "execution_count": null,
   "id": "d9d30933",
   "metadata": {},
   "outputs": [],
   "source": [
    "df_flat.insert(loc=1,column='Property_type',value='flat')"
   ]
  },
  {
   "cell_type": "code",
   "execution_count": null,
   "id": "d56dacb3",
   "metadata": {},
   "outputs": [],
   "source": [
    "df_flat.head()"
   ]
  },
  {
   "cell_type": "code",
   "execution_count": null,
   "id": "31cc21a4",
   "metadata": {},
   "outputs": [],
   "source": [
    "df_flat.info()"
   ]
  },
  {
   "cell_type": "code",
   "execution_count": null,
   "id": "f565e0ff",
   "metadata": {},
   "outputs": [],
   "source": [
    "df_flat.shape"
   ]
  },
  {
   "cell_type": "markdown",
   "id": "50b2f98f",
   "metadata": {},
   "source": [
    "## Load House data set"
   ]
  },
  {
   "cell_type": "code",
   "execution_count": null,
   "id": "804b4169",
   "metadata": {},
   "outputs": [],
   "source": [
    "# load dataset\n",
    "\n",
    "df_house = pd.read_excel('independent-house.xlsx')\n",
    "df_house.head()"
   ]
  },
  {
   "cell_type": "code",
   "execution_count": null,
   "id": "4678e053",
   "metadata": {},
   "outputs": [],
   "source": [
    "df_house.drop(columns=['link','property_id'], axis=1, inplace=True)\n",
    "df_house.head()"
   ]
  },
  {
   "cell_type": "code",
   "execution_count": null,
   "id": "3a73b8c5",
   "metadata": {},
   "outputs": [],
   "source": [
    "df_house.isnull().sum()"
   ]
  },
  {
   "cell_type": "code",
   "execution_count": null,
   "id": "6a1a81a1",
   "metadata": {},
   "outputs": [],
   "source": [
    "df_house.duplicated().sum()"
   ]
  },
  {
   "cell_type": "code",
   "execution_count": null,
   "id": "8b351b0f",
   "metadata": {},
   "outputs": [],
   "source": [
    "df_house.drop_duplicates(inplace=True)"
   ]
  },
  {
   "cell_type": "code",
   "execution_count": null,
   "id": "8be0fbd8",
   "metadata": {},
   "outputs": [],
   "source": [
    "df_house.shape"
   ]
  },
  {
   "cell_type": "code",
   "execution_count": null,
   "id": "2eb15eac",
   "metadata": {},
   "outputs": [],
   "source": [
    "df_house.info()"
   ]
  },
  {
   "cell_type": "code",
   "execution_count": null,
   "id": "0d4b3979",
   "metadata": {},
   "outputs": [],
   "source": [
    "df_house.rename(columns={'rate':'Price_Per_sqFeets'},inplace=True)"
   ]
  },
  {
   "cell_type": "code",
   "execution_count": null,
   "id": "459183ea",
   "metadata": {},
   "outputs": [],
   "source": [
    "df_house['society'].value_counts()"
   ]
  },
  {
   "cell_type": "code",
   "execution_count": null,
   "id": "85fdca4a",
   "metadata": {},
   "outputs": [],
   "source": [
    "df_house['society'].value_counts().sum()"
   ]
  },
  {
   "cell_type": "code",
   "execution_count": null,
   "id": "81ba55fb",
   "metadata": {},
   "outputs": [],
   "source": [
    "import re\n",
    "df_house['society'] = df_house['society'].apply(lambda x: re.sub(r'\\d+(\\.\\d+)?\\s★', '', str(x)).strip()).str.lower()"
   ]
  },
  {
   "cell_type": "code",
   "execution_count": null,
   "id": "dbd2abea",
   "metadata": {},
   "outputs": [],
   "source": [
    "df_house['society'].value_counts()"
   ]
  },
  {
   "cell_type": "code",
   "execution_count": null,
   "id": "7ceb2879",
   "metadata": {},
   "outputs": [],
   "source": [
    "df_house['society'] = df_house['society'].str.replace('nan','independent')"
   ]
  },
  {
   "cell_type": "code",
   "execution_count": null,
   "id": "e4a1b9bc",
   "metadata": {},
   "outputs": [],
   "source": [
    "def correct_price(x):\n",
    "    if type(x) == float:\n",
    "        return x\n",
    "    else:\n",
    "        if x[1] == 'Lac':\n",
    "            return round(float(x[0])/100,2)\n",
    "        else:\n",
    "            return round(float(x[0]),2)"
   ]
  },
  {
   "cell_type": "code",
   "execution_count": null,
   "id": "0c691b41",
   "metadata": {},
   "outputs": [],
   "source": [
    "df_house['price'].value_counts()"
   ]
  },
  {
   "cell_type": "code",
   "execution_count": null,
   "id": "c06232a9",
   "metadata": {},
   "outputs": [],
   "source": [
    "df_house = df_house[df_house['price'] != 'Price on Request']"
   ]
  },
  {
   "cell_type": "code",
   "execution_count": null,
   "id": "dc16f82f",
   "metadata": {},
   "outputs": [],
   "source": [
    "df_house.shape"
   ]
  },
  {
   "cell_type": "code",
   "execution_count": null,
   "id": "716598e9",
   "metadata": {},
   "outputs": [],
   "source": [
    "df_house['price'] = df_house['price'].str.split().apply(correct_price)"
   ]
  },
  {
   "cell_type": "code",
   "execution_count": null,
   "id": "a29fc372",
   "metadata": {},
   "outputs": [],
   "source": [
    "df_house.info()"
   ]
  },
  {
   "cell_type": "code",
   "execution_count": null,
   "id": "ba3b881c",
   "metadata": {},
   "outputs": [],
   "source": [
    "df_house['Price_Per_sqFeets'].value_counts()"
   ]
  },
  {
   "cell_type": "code",
   "execution_count": null,
   "id": "c40d42cf",
   "metadata": {},
   "outputs": [],
   "source": [
    "df_house['Price_Per_sqFeets'].value_counts().sum()"
   ]
  },
  {
   "cell_type": "code",
   "execution_count": null,
   "id": "0ab46c18",
   "metadata": {},
   "outputs": [],
   "source": [
    "df_house['Price_Per_sqFeets'] = df_house['Price_Per_sqFeets'].str.split(' ').str.get(1).str.split('/').str.get(0).str.replace(',','')"
   ]
  },
  {
   "cell_type": "code",
   "execution_count": null,
   "id": "d2927faa",
   "metadata": {},
   "outputs": [],
   "source": [
    "df_house['Price_Per_sqFeets'] = df_house['Price_Per_sqFeets'].astype('float')"
   ]
  },
  {
   "cell_type": "code",
   "execution_count": null,
   "id": "097d1631",
   "metadata": {},
   "outputs": [],
   "source": [
    "df_house.info()"
   ]
  },
  {
   "cell_type": "code",
   "execution_count": null,
   "id": "46c26b0b",
   "metadata": {},
   "outputs": [],
   "source": [
    "df_house.head()"
   ]
  },
  {
   "cell_type": "code",
   "execution_count": null,
   "id": "3d6a16e4",
   "metadata": {},
   "outputs": [],
   "source": [
    "df_house['area'].value_counts()"
   ]
  },
  {
   "cell_type": "code",
   "execution_count": null,
   "id": "77d53fef",
   "metadata": {},
   "outputs": [],
   "source": [
    "df_house['area'].value_counts().sum()"
   ]
  },
  {
   "cell_type": "code",
   "execution_count": null,
   "id": "8e1f6bd3",
   "metadata": {},
   "outputs": [],
   "source": [
    "df_house['bedRoom'].value_counts()"
   ]
  },
  {
   "cell_type": "code",
   "execution_count": null,
   "id": "250ab288",
   "metadata": {},
   "outputs": [],
   "source": [
    "df_house['bedRoom'].isnull().sum()"
   ]
  },
  {
   "cell_type": "code",
   "execution_count": null,
   "id": "bfb5331d",
   "metadata": {},
   "outputs": [],
   "source": [
    "df_house = df_house[~df_house['bedRoom'].isnull()]"
   ]
  },
  {
   "cell_type": "code",
   "execution_count": null,
   "id": "3f6d1ae6",
   "metadata": {},
   "outputs": [],
   "source": [
    "df_house.head()"
   ]
  },
  {
   "cell_type": "code",
   "execution_count": null,
   "id": "6803f129",
   "metadata": {},
   "outputs": [],
   "source": [
    "df_house['bedRoom'] = df_house['bedRoom'].str.split(' ').str.get(0).astype('int')"
   ]
  },
  {
   "cell_type": "code",
   "execution_count": null,
   "id": "f1f102c2",
   "metadata": {},
   "outputs": [],
   "source": [
    "df_house['bathroom'].isnull().sum()"
   ]
  },
  {
   "cell_type": "code",
   "execution_count": null,
   "id": "10e867df",
   "metadata": {},
   "outputs": [],
   "source": [
    "df_house['bathroom'] = df_house['bathroom'].str.split(' ').str.get(0).astype('int')"
   ]
  },
  {
   "cell_type": "code",
   "execution_count": null,
   "id": "f8b554aa",
   "metadata": {},
   "outputs": [],
   "source": [
    "df_house['balcony'].isnull().sum()"
   ]
  },
  {
   "cell_type": "code",
   "execution_count": null,
   "id": "c50f6e0e",
   "metadata": {},
   "outputs": [],
   "source": [
    "df_house['balcony'].value_counts()"
   ]
  },
  {
   "cell_type": "code",
   "execution_count": null,
   "id": "8490a236",
   "metadata": {},
   "outputs": [],
   "source": [
    "df_house['balcony'] = df_house['balcony'].str.split(' ').str.get(0).str.replace('No','0')"
   ]
  },
  {
   "cell_type": "code",
   "execution_count": null,
   "id": "856a1fe5",
   "metadata": {},
   "outputs": [],
   "source": [
    "df_house.sample(10)"
   ]
  },
  {
   "cell_type": "code",
   "execution_count": null,
   "id": "c936611a",
   "metadata": {},
   "outputs": [],
   "source": [
    "df_house['additionalRoom'].value_counts()"
   ]
  },
  {
   "cell_type": "code",
   "execution_count": null,
   "id": "fcf4b4ba",
   "metadata": {},
   "outputs": [],
   "source": [
    "df_house['additionalRoom'].isnull().sum()"
   ]
  },
  {
   "cell_type": "code",
   "execution_count": null,
   "id": "249ff9b4",
   "metadata": {},
   "outputs": [],
   "source": [
    "df_house['additionalRoom'].fillna('Not available',inplace=True)"
   ]
  },
  {
   "cell_type": "code",
   "execution_count": null,
   "id": "6ea79fbf",
   "metadata": {},
   "outputs": [],
   "source": [
    "df_house['noOfFloor'].value_counts()"
   ]
  },
  {
   "cell_type": "code",
   "execution_count": null,
   "id": "5f713e7c",
   "metadata": {},
   "outputs": [],
   "source": [
    "df_house['noOfFloor'].isnull().sum()"
   ]
  },
  {
   "cell_type": "code",
   "execution_count": null,
   "id": "132a5730",
   "metadata": {},
   "outputs": [],
   "source": [
    "df_house['noOfFloor'] = df_house['noOfFloor'].str.split(' ').str.get(0)"
   ]
  },
  {
   "cell_type": "code",
   "execution_count": null,
   "id": "c0718239",
   "metadata": {},
   "outputs": [],
   "source": [
    "df_house.rename(columns={'noOfFloor':'floorNum'},inplace=True)"
   ]
  },
  {
   "cell_type": "code",
   "execution_count": null,
   "id": "7c605acf",
   "metadata": {},
   "outputs": [],
   "source": [
    "df_house['floorNum'] = df_house['floorNum'].astype('float')"
   ]
  },
  {
   "cell_type": "code",
   "execution_count": null,
   "id": "05aa88f9",
   "metadata": {},
   "outputs": [],
   "source": [
    "df_house['facing'].isnull().sum()"
   ]
  },
  {
   "cell_type": "code",
   "execution_count": null,
   "id": "8c00480c",
   "metadata": {},
   "outputs": [],
   "source": [
    "df_house['facing'].fillna('NA',inplace=True)"
   ]
  },
  {
   "cell_type": "code",
   "execution_count": null,
   "id": "94bd06e2",
   "metadata": {},
   "outputs": [],
   "source": [
    "df_house['area'] = round((df_house['price']*10000000)/df_house['Price_Per_sqFeets'])"
   ]
  },
  {
   "cell_type": "code",
   "execution_count": null,
   "id": "8267619d",
   "metadata": {},
   "outputs": [],
   "source": [
    "df_house.head()"
   ]
  },
  {
   "cell_type": "code",
   "execution_count": null,
   "id": "ff39a7e1",
   "metadata": {},
   "outputs": [],
   "source": [
    "df_house.insert(loc=1,column='Property_type', value='house')"
   ]
  },
  {
   "cell_type": "code",
   "execution_count": null,
   "id": "496ccccc",
   "metadata": {},
   "outputs": [],
   "source": [
    "df_house.shape"
   ]
  },
  {
   "cell_type": "code",
   "execution_count": null,
   "id": "b5df24d3",
   "metadata": {},
   "outputs": [],
   "source": [
    "df_house.info()"
   ]
  },
  {
   "cell_type": "markdown",
   "id": "9caf85c0",
   "metadata": {},
   "source": [
    "### Concatenate House dataset and Flat dataset"
   ]
  },
  {
   "cell_type": "code",
   "execution_count": null,
   "id": "9b8aad98",
   "metadata": {},
   "outputs": [],
   "source": [
    "df = pd.concat([df_flat,df_house],axis=0).reset_index(drop=True)"
   ]
  },
  {
   "cell_type": "code",
   "execution_count": null,
   "id": "379f2624",
   "metadata": {},
   "outputs": [],
   "source": [
    "df.head()"
   ]
  },
  {
   "cell_type": "code",
   "execution_count": null,
   "id": "a4c15cd8",
   "metadata": {},
   "outputs": [],
   "source": [
    "df.shape"
   ]
  },
  {
   "cell_type": "code",
   "execution_count": null,
   "id": "30911327",
   "metadata": {},
   "outputs": [],
   "source": [
    "df.info()"
   ]
  },
  {
   "cell_type": "code",
   "execution_count": null,
   "id": "8afa911e",
   "metadata": {},
   "outputs": [],
   "source": [
    "df.shape"
   ]
  },
  {
   "cell_type": "code",
   "execution_count": null,
   "id": "862f062a",
   "metadata": {},
   "outputs": [],
   "source": [
    "df.isnull().sum()"
   ]
  },
  {
   "cell_type": "code",
   "execution_count": null,
   "id": "65faf679",
   "metadata": {
    "scrolled": true
   },
   "outputs": [],
   "source": [
    "df['property_name'].value_counts()"
   ]
  },
  {
   "cell_type": "code",
   "execution_count": null,
   "id": "a58868c3",
   "metadata": {},
   "outputs": [],
   "source": [
    "df.insert(loc=3,column='sector',value=df['property_name'].str.split('in').str.get(1).str.replace('Gurgaon',''))"
   ]
  },
  {
   "cell_type": "code",
   "execution_count": null,
   "id": "24f3970b",
   "metadata": {},
   "outputs": [],
   "source": [
    "df.head()"
   ]
  },
  {
   "cell_type": "code",
   "execution_count": null,
   "id": "56e644f9",
   "metadata": {},
   "outputs": [],
   "source": [
    "df['sector'] = df['sector'].str.lower()"
   ]
  },
  {
   "cell_type": "code",
   "execution_count": null,
   "id": "16c8e6fd",
   "metadata": {},
   "outputs": [],
   "source": [
    "df.head()"
   ]
  },
  {
   "cell_type": "code",
   "execution_count": null,
   "id": "354a2722",
   "metadata": {},
   "outputs": [],
   "source": [
    "df.duplicated().sum()"
   ]
  },
  {
   "cell_type": "code",
   "execution_count": null,
   "id": "557bc823",
   "metadata": {},
   "outputs": [],
   "source": [
    "df['sector'].value_counts()"
   ]
  },
  {
   "cell_type": "code",
   "execution_count": null,
   "id": "07a8b8bf",
   "metadata": {},
   "outputs": [],
   "source": [
    "df['sector'].value_counts().sum()"
   ]
  },
  {
   "cell_type": "code",
   "execution_count": null,
   "id": "3639b7cf",
   "metadata": {},
   "outputs": [],
   "source": [
    "df['sector'] = df['sector'].str.replace('sohna','sector 35')"
   ]
  },
  {
   "cell_type": "code",
   "execution_count": null,
   "id": "4e26377b",
   "metadata": {},
   "outputs": [],
   "source": [
    "df['sector'] = df['sector'].str.replace('nirvana country','sector 50')\n",
    "df['sector'] = df['sector'].str.replace('sector-33 sector 35','sector 35')\n",
    "df['sector'] = df['sector'].str.replace('palam vihar','sector 23')\n",
    "df['sector'] = df['sector'].str.replace('dlf phase 1','sector 26')\n",
    "df['sector'] = df['sector'].str.replace('dlf phase 2','sector 25')\n",
    "df['sector'] = df['sector'].str.replace('sushant lok phase 1','sector 43')"
   ]
  },
  {
   "cell_type": "code",
   "execution_count": null,
   "id": "22a93188",
   "metadata": {},
   "outputs": [],
   "source": [
    "df['sector'] = df['sector'].str.replace('laxman vihar','sector 43')"
   ]
  },
  {
   "cell_type": "code",
   "execution_count": null,
   "id": "a1e932cb",
   "metadata": {},
   "outputs": [],
   "source": [
    "import re\n",
    "\n",
    "def extract_sector(x):\n",
    "    \n",
    "    match = re.search(r'sector\\s\\d+', x)\n",
    "    \n",
    "    if match:\n",
    "        extracted_text = match.group()\n",
    "        return extracted_text\n",
    "    else:\n",
    "        return x"
   ]
  },
  {
   "cell_type": "code",
   "execution_count": null,
   "id": "6c9aa6d7",
   "metadata": {},
   "outputs": [],
   "source": [
    "df['sector'] = df['sector'].apply(extract_sector)"
   ]
  },
  {
   "cell_type": "code",
   "execution_count": null,
   "id": "4c10a6ec",
   "metadata": {},
   "outputs": [],
   "source": [
    "df['sector'] = df['sector'].str.replace('sector 105, sector-105', 'sector 105')\n"
   ]
  },
  {
   "cell_type": "code",
   "execution_count": null,
   "id": "61996a19",
   "metadata": {},
   "outputs": [],
   "source": [
    "df['sector'] = df['sector'].str.replace('block g sector-57', 'sector 57')\n",
    "df['sector'] = df['sector'].str.replace('sector-7 hous', 'sector 7')\n",
    "df['sector'] = df['sector'].str.replace('sector-5 sheetla colony', 'sector 5')"
   ]
  },
  {
   "cell_type": "code",
   "execution_count": null,
   "id": "76a26fb6",
   "metadata": {},
   "outputs": [],
   "source": [
    "df['sector'] = df['sector'].str.replace('laxman vihar','Sector 4')\n",
    "df['sector'] = df['sector'].str.replace('dlf phase 4','Sector 27')\n",
    "df['sector'] = df['sector'].str.replace('dlf phase 3','Sector 24')\n",
    "df['sector'] = df['sector'].str.replace('sushant lok phase 3','Sector 57')\n",
    "df['sector'] = df['sector'].str.replace('rajendra park','Sector 105')\n",
    "df['sector'] = df['sector'].str.replace('gwal pahari','Sector 79')\n",
    "df['sector'] = df['sector'].str.replace('dlf phase 5','Sector 53')\n",
    "df['sector'] = df['sector'].str.replace('laxman vihar phase 2','Sector 4')\n",
    "df['sector'] = df['sector'].str.replace('uppals southend','Sector 49')\n",
    "df['sector'] = df['sector'].str.replace('ashok vihar phase 3 extension','Sector 35')\n",
    "df['sector'] = df['sector'].str.replace('ashok vihar phase 2','Sector 37')\n",
    "df['sector'] = df['sector'].str.replace('south city 1','Sector 41')\n",
    "df['sector'] = df['sector'].str.replace('mehrauli  road','Sector 14')\n",
    "df['sector'] = df['sector'].str.replace('dwarka expressway','Sector 104')\n",
    "df['sector'] = df['sector'].str.replace('malibu town','Sector 47')\n",
    "df['sector'] = df['sector'].str.replace('surat nagar 1','Sector 104')\n",
    "df['sector'] = df['sector'].str.replace('new colony','Sector 7')\n",
    "df['sector'] = df['sector'].str.replace('mianwali colony','Sector 12A')\n",
    "df['sector'] = df['sector'].str.replace('rajiv nagar','Sector 13')\n",
    "df['sector'] = df['sector'].str.replace('ashok vihar','Sector 5')\n",
    "df['sector'] = df['sector'].str.replace('jyoti park','Sector 7')\n",
    "df['sector'] = df['sector'].str.replace('jacobpura','Sector 12A')\n",
    "df['sector'] = df['sector'].str.replace('greenwood city','Sector 45')\n",
    "df['sector'] = df['sector'].str.replace('subhash nagar','Sector 10')\n",
    "df['sector'] = df['sector'].str.replace('dayanand colony','Sector 7')\n",
    "df['sector'] = df['sector'].str.replace('manesar','Sector 1')\n",
    "df['sector'] = df['sector'].str.replace('saraswati vihar','Sector 10')\n",
    "df['sector'] = df['sector'].str.replace('arjun nagar','Sector 52')\n",
    "df['sector'] = df['sector'].str.replace('sushant lok phase 2','Sector 56')\n",
    "df['sector'] = df['sector'].str.replace('ansal plaza','Sector 23')\n",
    "df['sector'] = df['sector'].str.replace('chakkarpur','Sector 28')\n",
    "df['sector'] = df['sector'].str.replace('krishna colony','Sector 7')\n",
    "df['sector'] = df['sector'].str.replace('vishnu garden','Sector 105')\n",
    "df['sector'] = df['sector'].str.replace('madanpuri','Sector 7')\n",
    "df['sector'] = df['sector'].str.replace('shivaji nagar','Sector 9')\n",
    "df['sector'] = df['sector'].str.replace('dharam colony','Sector 9')\n",
    "df['sector'] = df['sector'].str.replace('valley view estate','Sector 46')\n",
    "df['sector'] = df['sector'].str.replace('devilal colony','Sector 9')\n",
    "df['sector'] = df['sector'].str.replace('adarsh nagar','Sector 12')\n",
    "df['sector'] = df['sector'].str.replace('shivpuri','Sector 9')\n",
    "df['sector'] = df['sector'].str.replace('surya vihar','Sector 21')\n",
    "df['sector'] = df['sector'].str.replace('new','Unknown')\n",
    "df['sector'] = df['sector'].str.replace('imt manesar','IMT Manesar')\n",
    "df['sector'] = df['sector'].str.replace('bhim nagar','Sector 6')\n",
    "df['sector'] = df['sector'].str.replace('suncity','Sector 54')\n",
    "df['sector'] = df['sector'].str.replace('ravi nagar','Sector 23')\n",
    "df['sector'] = df['sector'].str.replace('baldev nagar','Sector 9')\n",
    "df['sector'] = df['sector'].str.replace('garhi harsaru','Garhi Harsaru')\n",
    "df['sector'] = df['sector'].str.replace('bhondsi','Bhondsi')\n",
    "df['sector'] = df['sector'].str.replace('laxmi garden','Sector 9')\n",
    "df['sector'] = df['sector'].str.replace('prem nagar','Sector 13')\n",
    "df['sector'] = df['sector'].str.replace('gandhi nagar','Sector 9')\n",
    "df['sector'] = df['sector'].str.replace('shakti nagar','Sector 10')\n",
    "df['sector'] = df['sector'].str.replace('maruti kunj','Sector 67')\n",
    "df['sector'] = df['sector'].str.replace('mg road','Sector 28')\n",
    "df['sector'] = df['sector'].str.replace('patel nagar','Sector 15')\n",
    "df['sector'] = df['sector'].str.replace('iffco chowk','Sector 29')\n",
    "df['sector'] = df['sector'].str.replace('acharya puri','Sector 12')\n",
    "df['sector'] = df['sector'].str.replace('surat nagar','Sector 104')\n",
    "df['sector'] = df['sector'].str.replace('ambience island','Ambience Island')\n",
    "df['sector'] = df['sector'].str.replace('west rajiv nagar','Sector 6')\n",
    "df['sector'] = df['sector'].str.replace('sheetla colony','Sector 5')\n",
    "df['sector'] = df['sector'].str.replace('farukhnagar','Farukhnagar')\n",
    "df['sector'] = df['sector'].str.replace('golf course road','Golf Course Road')\n",
    "df['sector'] = df['sector'].str.replace('bhawani enclave','Sector 9')\n",
    "df['sector'] = df['sector'].str.replace('surat nagar phase 2','Sector 104')\n",
    "df['sector'] = df['sector'].str.replace('pratap nagar','Sector 8')\n",
    "df['sector'] = df['sector'].str.replace('manohar nagar','Sector 7')\n",
    "df['sector'] = df['sector'].str.replace('rajiv chowk','Sector 33')\n",
    "df['sector'] = df['sector'].str.replace('block a surya vihar','Sector 21')\n",
    "df['sector'] = df['sector'].str.replace('mayfield garden','Mayfield Garden')\n",
    "df['sector'] = df['sector'].str.replace('rosewood','Sector 49')\n",
    "df['sector'] = df['sector'].str.replace('lajpat nagar','Sector 15')\n",
    "df['sector'] = df['sector'].str.replace('bissar','Sector 3')\n",
    "df['sector'] = df['sector'].str.replace('mohan nagar','Sector 13')\n",
    "df['sector'] = df['sector'].str.replace('samaspur','Sector 51')\n",
    "df['sector'] = df['sector'].str.replace('nars','Unknown')\n",
    "df['sector'] = df['sector'].str.replace('daulatabad','Daulatabad')\n",
    "df['sector'] = df['sector'].str.replace('hira nagar','Sector 15')\n",
    "df['sector'] = df['sector'].str.replace('sushant lok','Sushant Lok')\n",
    "df['sector'] = df['sector'].str.replace('new basti','Unknown')\n",
    "df['sector'] = df['sector'].str.replace('shanti nagar','Sector 10')\n",
    "df['sector'] = df['sector'].str.replace('sispal vihar','Sector 49')\n",
    "df['sector'] = df['sector'].str.replace('golf course ext road','Golf Course Extension Road')\n",
    "df['sector'] = df['sector'].str.replace('shankar vihar','Sector 4')\n",
    "df['sector'] = df['sector'].str.replace('faridabad road','Faridabad Road')\n",
    "df['sector'] = df['sector'].str.replace('damdma','Damdama')\n",
    "df['sector'] = df['sector'].str.replace('laxman vihar, railway road,','Sector 3A')\n",
    "df['sector'] = df['sector'].str.replace('new jyoti park','Sector 9')\n",
    "df['sector'] = df['sector'].str.replace('dhankot','Dhankot')\n",
    "df['sector'] = df['sector'].str.replace('mahavir pura','Sector 4')\n",
    "df['sector'] = df['sector'].str.replace('g block dlf city phase 1','Sector 28')\n",
    "df['sector'] = df['sector'].str.replace('naharpur rupa','Sector 111')\n",
    "df['sector'] = df['sector'].str.replace('park view','Sector 3')\n",
    "df['sector'] = df['sector'].str.replace('ravi nager basai road','Sector 9')\n",
    "df['sector'] = df['sector'].str.replace('begampur khatola','Begampur Khatola')\n",
    "df['sector'] = df['sector'].str.replace('sadar bazar','Sector 9')\n",
    "df['sector'] = df['sector'].str.replace('near nand hospital','Unknown')\n",
    "df['sector'] = df['sector'].str.replace('devi lal colony gali no 12 gurgaon nr omkar public school','Sector 9')\n",
    "df['sector'] = df['sector'].str.replace('alipur','Alipur')\n",
    "df['sector'] = df['sector'].str.replace('mahalaxmi garden, rajendra place','Unknown')\n",
    "df['sector'] = df['sector'].str.replace('saraswati enclave','Sector 28')\n",
    "df['sector'] = df['sector'].str.replace('sec 3 bhim vihar part 1 bhimgher kheri','Sector 5')\n",
    "df['sector'] = df['sector'].str.replace('near euro','Unknown')\n",
    "df['sector'] = df['sector'].str.replace('bhimgarh kheri phase 3','Unknown')\n",
    "df['sector'] = df['sector'].str.replace('huda saraswati vihar','Sector 10')\n",
    "df['sector'] = df['sector'].str.replace('laxmna vihar, phase 2','Sector 37')\n",
    "df['sector'] = df['sector'].str.replace('rajiv colony','Sector 9')\n",
    "df['sector'] = df['sector'].str.replace('south city','Sector 41')\n",
    "df['sector'] = df['sector'].str.replace('v block dlf phase 3','Sector 24')\n",
    "df['sector'] = df['sector'].str.replace('rattan garden','Unknown')\n",
    "df['sector'] = df['sector'].str.replace('ashok vihar phase 3','Sector 35')\n",
    "df['sector'] = df['sector'].str.replace('udyog vihar phase 1','Udyog Vihar Phase 1')\n",
    "df['sector'] = df['sector'].str.replace('shivji park colony','Unknown')\n",
    "df['sector'] = df['sector'].str.replace('near pataudi chowk','Unknown')\n",
    "df['sector'] = df['sector'].str.replace('bhora kalan','Bhora Kalan')\n",
    "df['sector'] = df['sector'].str.replace('ats marigold','ATS Marigold')\n",
    "df['sector'] = df['sector'].str.replace('civil l','Sector 2')\n",
    "df['sector'] = df['sector'].str.replace('ashok vihar phase i','Sector 3A')\n",
    "df['sector'] = df['sector'].str.replace('block h ashok vihar phase iii extension','Sector 5')\n",
    "df['sector'] = df['sector'].str.replace('sultanpur','Sultanpur')\n",
    "df['sector'] = df['sector'].str.replace('carterpuri village','Carterpuri')\n",
    "df['sector'] = df['sector'].str.replace('sai kunj','Sai Kunj')\n",
    "df['sector'] = df['sector'].str.replace('khandsa','Khandsa')\n",
    "df['sector'] = df['sector'].str.replace('heritage city','Heritage City')\n",
    "df['sector'] = df['sector'].str.replace('near khandsa road','Unknown')\n",
    "df['sector'] = df['sector'].str.replace('kanahi','Kanahi')\n",
    "df['sector'] = df['sector'].str.replace('lucknow','Lucknow')\n",
    "df['sector'] = df['sector'].str.replace('pataudi road','Pataudi Road')\n",
    "df['sector'] = df['sector'].str.replace('saroop garden rajendra park','Sector 105')\n",
    "df['sector'] = df['sector'].str.replace('kheri','Kheri')\n",
    "df['sector'] = df['sector'].str.replace('jat colony,fazilpur/taj nagar road','Unknown')\n",
    "df['sector'] = df['sector'].str.replace('gopal nagar, garhi ghasita, sonipat','Unknown')\n",
    "df['sector'] = df['sector'].str.replace('vir nagar','Vir Nagar')\n",
    "df['sector'] = df['sector'].str.replace('hno 13 sagar enclave sura','Unknown')\n",
    "df['sector'] = df['sector'].str.replace('ram nagar','Ram Nagar')\n",
    "df['sector'] = df['sector'].str.replace('om nagar','Sector 7')\n",
    "df['sector'] = df['sector'].str.replace('garauli kalan','Garauli Kalan')\n",
    "df['sector'] = df['sector'].str.replace('tekchand nagar','Tekchand Nagar')\n",
    "df['sector'] = df['sector'].str.replace('cyber city','Cyber City')\n",
    "df['sector'] = df['sector'].str.replace('jacobpura near sadar bazar','Sector 12A')\n",
    "df['sector'] = df['sector'].str.replace('bptp','BPTP')\n"
   ]
  },
  {
   "cell_type": "code",
   "execution_count": null,
   "id": "c6c5573f",
   "metadata": {
    "scrolled": false
   },
   "outputs": [],
   "source": [
    "df['sector'].value_counts()"
   ]
  },
  {
   "cell_type": "code",
   "execution_count": null,
   "id": "62438bed",
   "metadata": {},
   "outputs": [],
   "source": [
    "df = df[df['sector'].str.contains(r'\\bsector\\b', case=False, na=False)]"
   ]
  },
  {
   "cell_type": "code",
   "execution_count": null,
   "id": "f66b479d",
   "metadata": {},
   "outputs": [],
   "source": [
    "def clean_sector(x):\n",
    "    match = re.search(r'sector\\s+(\\d+)', x)\n",
    "    \n",
    "    if match:\n",
    "        extract_text = match.group(0)\n",
    "        return extract_text\n",
    "    else:\n",
    "        return x"
   ]
  },
  {
   "cell_type": "code",
   "execution_count": null,
   "id": "4b8448bc",
   "metadata": {},
   "outputs": [],
   "source": [
    "df['sector'] = df['sector'].str.strip().str.lower().apply(clean_sector)\n",
    "df['sector'] = df['sector'].str.replace('old delhi road, opp sector-14', 'sector 14')\n",
    "df['sector'] = df['sector'].str.replace('anand garden, sector-105', 'sector 105')\n",
    "df['sector'] = df['sector'].str.replace('sector 24', 'sector 23')\n",
    "df['sector'] = df['sector'].str.replace('sector 42', 'sector 43')"
   ]
  },
  {
   "cell_type": "code",
   "execution_count": null,
   "id": "58e32aae",
   "metadata": {},
   "outputs": [],
   "source": [
    "df['sector'].unique()"
   ]
  },
  {
   "cell_type": "code",
   "execution_count": null,
   "id": "93d840d3",
   "metadata": {},
   "outputs": [],
   "source": [
    "df.shape"
   ]
  },
  {
   "cell_type": "code",
   "execution_count": null,
   "id": "ed787fe0",
   "metadata": {},
   "outputs": [],
   "source": [
    "df.head()"
   ]
  },
  {
   "cell_type": "code",
   "execution_count": null,
   "id": "1699fe27",
   "metadata": {},
   "outputs": [],
   "source": [
    "df.drop(columns=['property_name','address','description','rating'], inplace=True)"
   ]
  },
  {
   "cell_type": "code",
   "execution_count": null,
   "id": "f54747d0",
   "metadata": {},
   "outputs": [],
   "source": [
    "df.head()"
   ]
  },
  {
   "cell_type": "code",
   "execution_count": null,
   "id": "8d7e2018",
   "metadata": {},
   "outputs": [],
   "source": [
    "# feature engineering required => areaWithType, facing, agePassession, furnishDetails, features"
   ]
  },
  {
   "cell_type": "markdown",
   "id": "2960baf9",
   "metadata": {},
   "source": [
    "### Feature Engineering"
   ]
  },
  {
   "cell_type": "code",
   "execution_count": null,
   "id": "8d1674bf",
   "metadata": {},
   "outputs": [],
   "source": [
    "df.duplicated().sum()"
   ]
  },
  {
   "cell_type": "code",
   "execution_count": null,
   "id": "e6b5e9ef",
   "metadata": {},
   "outputs": [],
   "source": [
    "df.shape"
   ]
  },
  {
   "cell_type": "code",
   "execution_count": null,
   "id": "c2d62df3",
   "metadata": {},
   "outputs": [],
   "source": [
    "df.head(2)"
   ]
  },
  {
   "cell_type": "markdown",
   "id": "53f470a6",
   "metadata": {},
   "source": [
    "Focus on => areaWithType, additionalRoom, agePossession, furnishDetails, features "
   ]
  },
  {
   "cell_type": "markdown",
   "id": "f6a37db4",
   "metadata": {},
   "source": [
    "## 1. areaWithType"
   ]
  },
  {
   "cell_type": "code",
   "execution_count": null,
   "id": "cc521c5b",
   "metadata": {},
   "outputs": [],
   "source": [
    "df[['area','areaWithType']].sample(5)"
   ]
  },
  {
   "cell_type": "code",
   "execution_count": null,
   "id": "4f6eace3",
   "metadata": {},
   "outputs": [],
   "source": [
    "# this function extract super buldup area\n",
    "def super_buildup_area(text):\n",
    "    match = re.search(r'Super Built up area (\\d+\\.?\\d*)',text)\n",
    "    if match:\n",
    "        return float(match.group(1))\n",
    "    return None"
   ]
  },
  {
   "cell_type": "code",
   "execution_count": null,
   "id": "98ce6ce9",
   "metadata": {},
   "outputs": [],
   "source": [
    "# this fuction extract buildup area or corpet area\n",
    "def get_area(text,area_type):\n",
    "    match = re.search(area_type + r'\\s*:\\s*(\\d+\\.?\\d*)',text)\n",
    "    if match:\n",
    "        return float(match.group(1))\n",
    "    return None"
   ]
  },
  {
   "cell_type": "code",
   "execution_count": null,
   "id": "35bfb479",
   "metadata": {},
   "outputs": [],
   "source": [
    "# this function check if the area is provided in sq m and converts into sq ft if needed\n",
    "def convert_to_sqft(text, area_value):\n",
    "    if area_value is None:\n",
    "        return None\n",
    "    match = re.search(r'{} \\((\\d+\\.?\\d*) sq.m.\\)'.format(area_value), text)\n",
    "    if match:\n",
    "        sq_m_value = float(match.group(1))\n",
    "        return sq_m_value * 10.7639\n",
    "    return area_value"
   ]
  },
  {
   "cell_type": "code",
   "execution_count": null,
   "id": "6bc792a0",
   "metadata": {},
   "outputs": [],
   "source": [
    "# Extract super built up area and conver sqft if needed \n",
    "df['super_built_up_area'] = df['areaWithType'].apply(super_buildup_area)\n",
    "df['super_built_up_area'] = df.apply(lambda x: convert_to_sqft(x['areaWithType'], x['super_built_up_area']), axis=1)\n",
    "\n",
    "# Extract built up area and convert to sqft if needed\n",
    "df['built_up_area'] = df['areaWithType'].apply(lambda x:get_area(x, 'Built Up area'))\n",
    "df['built_up_area'] = df.apply(lambda x: convert_to_sqft(x['areaWithType'], x['built_up_area']), axis=1)\n",
    "\n",
    "# Extract carpet area and convert to sqft if needed\n",
    "df['carpet_area'] = df['areaWithType'].apply(lambda x:get_area(x,'Carpet area'))\n",
    "df['carpet_area'] = df.apply(lambda x:convert_to_sqft(x['areaWithType'],x['carpet_area']), axis=1)"
   ]
  },
  {
   "cell_type": "code",
   "execution_count": null,
   "id": "bbe95eaa",
   "metadata": {},
   "outputs": [],
   "source": [
    "df[['price','Property_type','area','areaWithType','super_built_up_area','built_up_area','carpet_area']].sample(5)"
   ]
  },
  {
   "cell_type": "code",
   "execution_count": null,
   "id": "94a4ed4b",
   "metadata": {},
   "outputs": [],
   "source": [
    "df[~((df['super_built_up_area'].isnull()) | (df['built_up_area'].isnull()) |(df['carpet_area'].isnull()))][['price','Property_type','area','areaWithType','super_built_up_area','built_up_area','carpet_area']]"
   ]
  },
  {
   "cell_type": "code",
   "execution_count": null,
   "id": "e46e638c",
   "metadata": {},
   "outputs": [],
   "source": [
    "df[df['areaWithType'].str.contains('Plot')][['price','Property_type','area','areaWithType','super_built_up_area','built_up_area','carpet_area']].shape"
   ]
  },
  {
   "cell_type": "code",
   "execution_count": null,
   "id": "492ef57d",
   "metadata": {},
   "outputs": [],
   "source": [
    "df.isnull().sum()"
   ]
  },
  {
   "cell_type": "code",
   "execution_count": null,
   "id": "82d9e909",
   "metadata": {},
   "outputs": [],
   "source": [
    "all_nan_df = df[((df['super_built_up_area'].isnull()) & (df['built_up_area'].isnull()) & (df['carpet_area'].isnull()))][['price','Property_type','area','areaWithType','super_built_up_area','built_up_area','carpet_area']]"
   ]
  },
  {
   "cell_type": "code",
   "execution_count": null,
   "id": "fbdcba07",
   "metadata": {},
   "outputs": [],
   "source": [
    "all_nan_index = df[((df['super_built_up_area'].isnull()) & (df['built_up_area'].isnull()) & (df['carpet_area'].isnull()))][['price','Property_type','area','areaWithType','super_built_up_area','built_up_area','carpet_area']].index"
   ]
  },
  {
   "cell_type": "code",
   "execution_count": null,
   "id": "565bcaa1",
   "metadata": {},
   "outputs": [],
   "source": [
    "# Function to extract plot area from 'areaWithType' column\n",
    "\n",
    "def extract_plot_area(area_with_type):\n",
    "    match = re.search(r'Plot area (\\d+\\.?\\d*)', area_with_type)\n",
    "    return float(match.group(1)) if match else None"
   ]
  },
  {
   "cell_type": "code",
   "execution_count": null,
   "id": "e5d9247e",
   "metadata": {},
   "outputs": [],
   "source": [
    "all_nan_df['built_up_area'] = all_nan_df['areaWithType'].apply(extract_plot_area)"
   ]
  },
  {
   "cell_type": "code",
   "execution_count": null,
   "id": "7ed857ea",
   "metadata": {},
   "outputs": [],
   "source": [
    "all_nan_df"
   ]
  },
  {
   "cell_type": "code",
   "execution_count": null,
   "id": "c4ea82a6",
   "metadata": {},
   "outputs": [],
   "source": [
    "def convert_scale(row):\n",
    "    if np.isnan(row['area']) or np.isnan(row['built_up_area']):\n",
    "        return row['built_up_area']\n",
    "    else:\n",
    "        if round(row['area']/row['built_up_area']) ==9.0:\n",
    "            return row['built_up_area'] * 9\n",
    "        elif round(row['area']/row['built_up_area']) == 11:\n",
    "            return row['built_up_area'] *10.7\n",
    "        else:\n",
    "            return row['built_up_area']"
   ]
  },
  {
   "cell_type": "code",
   "execution_count": null,
   "id": "bc4dc89b",
   "metadata": {},
   "outputs": [],
   "source": [
    "all_nan_df['built_up_area'] = all_nan_df.apply(convert_scale,axis=1)"
   ]
  },
  {
   "cell_type": "code",
   "execution_count": null,
   "id": "851b47e1",
   "metadata": {},
   "outputs": [],
   "source": [
    "all_nan_df"
   ]
  },
  {
   "cell_type": "code",
   "execution_count": null,
   "id": "24b14da5",
   "metadata": {},
   "outputs": [],
   "source": [
    "# update original dataframe\n",
    "df.update(all_nan_df)"
   ]
  },
  {
   "cell_type": "code",
   "execution_count": null,
   "id": "f666cc7e",
   "metadata": {},
   "outputs": [],
   "source": [
    "df.isnull().sum()"
   ]
  },
  {
   "cell_type": "markdown",
   "id": "52d5b900",
   "metadata": {},
   "source": [
    "## 2. additionalRoom"
   ]
  },
  {
   "cell_type": "code",
   "execution_count": null,
   "id": "4922fd41",
   "metadata": {},
   "outputs": [],
   "source": [
    "df['additionalRoom'].value_counts()"
   ]
  },
  {
   "cell_type": "code",
   "execution_count": null,
   "id": "36c9824d",
   "metadata": {},
   "outputs": [],
   "source": [
    "# additional room\n",
    "new_cols = ['servant room','study room','others','pooja room','store room']\n",
    "\n",
    "# populate the new columns based on the 'additionalRoom' column\n",
    "\n",
    "for col in new_cols:\n",
    "    df[col] = df['additionalRoom'].str.contains(col).astype(int)"
   ]
  },
  {
   "cell_type": "code",
   "execution_count": null,
   "id": "3d09ec77",
   "metadata": {},
   "outputs": [],
   "source": [
    "df.sample(5)[['additionalRoom','servant room','study room','others','pooja room','store room']]"
   ]
  },
  {
   "cell_type": "markdown",
   "id": "7fd4ab58",
   "metadata": {},
   "source": [
    "## 3. agePossession"
   ]
  },
  {
   "cell_type": "code",
   "execution_count": null,
   "id": "51dd2762",
   "metadata": {},
   "outputs": [],
   "source": [
    "df['agePossession'].value_counts()"
   ]
  },
  {
   "cell_type": "code",
   "execution_count": null,
   "id": "5a5d07d5",
   "metadata": {},
   "outputs": [],
   "source": [
    "def categorize_age_possession(value):\n",
    "    if pd.isna(value):\n",
    "        return 'Undefined'\n",
    "    value = str(value)\n",
    "    if '0 to 1 Year Old' in value or \"Within 6 months\" in value or 'Within 3 months' in value:\n",
    "        return \"New Property\"\n",
    "    if '1 to 5 Year Old' in value:\n",
    "        return 'Relatively New'\n",
    "    if '5 to 10 Year Old' in value:\n",
    "        return 'Moderately Old'\n",
    "    if '10+ Year Old' in value:\n",
    "        return 'Old Property'\n",
    "    if 'Under Construction' in value or 'By' in value:\n",
    "        return 'Under Construction'\n",
    "    try:\n",
    "        # for entry like 'May 2024'\n",
    "        int(value.split(' ')[-1])\n",
    "        return 'Under Construction'\n",
    "    except:\n",
    "        return 'Undefined'"
   ]
  },
  {
   "cell_type": "code",
   "execution_count": null,
   "id": "eefac39c",
   "metadata": {},
   "outputs": [],
   "source": [
    "df['agePossession'] = df['agePossession'].apply(categorize_age_possession)"
   ]
  },
  {
   "cell_type": "code",
   "execution_count": null,
   "id": "3fb3f311",
   "metadata": {},
   "outputs": [],
   "source": [
    "df['agePossession'].value_counts()"
   ]
  },
  {
   "cell_type": "markdown",
   "id": "30ad9866",
   "metadata": {},
   "source": [
    "## 4. furnishDetails"
   ]
  },
  {
   "cell_type": "code",
   "execution_count": null,
   "id": "3ffc3350",
   "metadata": {},
   "outputs": [],
   "source": [
    "df.sample(5)[['furnishDetails','features']]"
   ]
  },
  {
   "cell_type": "code",
   "execution_count": null,
   "id": "36db9879",
   "metadata": {},
   "outputs": [],
   "source": [
    "# Extract all unique furnishings from the furnishDetails column\n",
    "all_furnishings = []\n",
    "for details in df['furnishDetails'].dropna():\n",
    "    furnishings = details.replace('[','').replace(']','').replace(\"'\",\"\").split(',')\n",
    "    all_furnishings.extend(furnishings)\n",
    "unique_furnishings = list(set(all_furnishings))"
   ]
  },
  {
   "cell_type": "code",
   "execution_count": null,
   "id": "fdb258eb",
   "metadata": {},
   "outputs": [],
   "source": [
    "unique_furnishings"
   ]
  },
  {
   "cell_type": "code",
   "execution_count": null,
   "id": "4008d846",
   "metadata": {},
   "outputs": [],
   "source": [
    "# Define a function to extract the count of a furnishing from the furnishingDetails\n",
    "def get_furnishing_count(details, furnishing):\n",
    "    if isinstance(details, str):\n",
    "        if f\"No {furnishing}\" in details:\n",
    "            return 0\n",
    "        pattern = re.compile(f\"(\\d+) {furnishing}\")\n",
    "        match = pattern.search(details)\n",
    "        if match:\n",
    "            return int(match.group(1))\n",
    "        elif furnishing in details:\n",
    "            return 1\n",
    "    return 0\n",
    "\n",
    "# Simplify the furnishing list by removing \"No\" prefix and numbers\n",
    "columns_to_include = [re.sub(r'No |\\d+','',furnishing).strip() for furnishing in unique_furnishings]\n",
    "columns_to_include = list(set(columns_to_include)) # get unique furnishings\n",
    "columns_to_include = [furnishing for furnishing in columns_to_include if furnishing] # remove empaty string\n",
    "\n",
    "# create new columns for each unique furnishing and papulate with counts\n",
    "for furnishing in columns_to_include:\n",
    "    df[furnishing] = df['furnishDetails'].apply(lambda x : get_furnishing_count(x, furnishing))\n",
    "    \n",
    "# create the new dataframe with the required columns\n",
    "furnishing_df = df[['furnishDetails'] + columns_to_include]"
   ]
  },
  {
   "cell_type": "code",
   "execution_count": null,
   "id": "a4ecd652",
   "metadata": {},
   "outputs": [],
   "source": [
    "furnishing_df.shape"
   ]
  },
  {
   "cell_type": "code",
   "execution_count": null,
   "id": "ccff8ea4",
   "metadata": {},
   "outputs": [],
   "source": [
    "furnishing_df.drop(columns=['furnishDetails'], inplace=True)"
   ]
  },
  {
   "cell_type": "code",
   "execution_count": null,
   "id": "19cacd97",
   "metadata": {},
   "outputs": [],
   "source": [
    "furnishing_df.sample(5)"
   ]
  },
  {
   "cell_type": "code",
   "execution_count": null,
   "id": "ab7d81eb",
   "metadata": {},
   "outputs": [],
   "source": [
    "import matplotlib.pyplot as plt\n",
    "from sklearn.cluster import KMeans\n",
    "from sklearn.preprocessing import StandardScaler"
   ]
  },
  {
   "cell_type": "code",
   "execution_count": null,
   "id": "93558fd9",
   "metadata": {},
   "outputs": [],
   "source": [
    "scaler = StandardScaler()\n",
    "scaled_data = scaler.fit_transform(furnishing_df)"
   ]
  },
  {
   "cell_type": "code",
   "execution_count": null,
   "id": "547bf44d",
   "metadata": {},
   "outputs": [],
   "source": [
    "wcss_reduced = []\n",
    "\n",
    "for i in range(1,11):\n",
    "    kmeans = KMeans(n_clusters=i, init='k-means++', random_state=42)\n",
    "    kmeans.fit(scaled_data)\n",
    "    wcss_reduced.append(kmeans.inertia_)"
   ]
  },
  {
   "cell_type": "code",
   "execution_count": null,
   "id": "37fd5fe9",
   "metadata": {},
   "outputs": [],
   "source": [
    "# plot the result\n",
    "\n",
    "plt.figure(figsize=(12,8))\n",
    "plt.plot(range(1,11),wcss_reduced,marker='o', linestyle = '-')\n",
    "plt.title('Find number of cluster')\n",
    "plt.xlabel('Number of Cluster')\n",
    "plt.ylabel('WCSS')\n",
    "plt.grid(True)\n",
    "plt.show()"
   ]
  },
  {
   "cell_type": "code",
   "execution_count": null,
   "id": "8abbb012",
   "metadata": {},
   "outputs": [],
   "source": [
    "n_clusters = 3\n",
    "\n",
    "# fit the KMeans model\n",
    "\n",
    "kmeans = KMeans(n_clusters=n_clusters,random_state=42)\n",
    "kmeans.fit(scaled_data)\n",
    "\n",
    "# predict the cluster assignments for each row\n",
    "\n",
    "cluster_assignments = kmeans.predict(scaled_data)"
   ]
  },
  {
   "cell_type": "code",
   "execution_count": null,
   "id": "a9b736bb",
   "metadata": {},
   "outputs": [],
   "source": [
    "df =df.iloc[:,:-18]"
   ]
  },
  {
   "cell_type": "code",
   "execution_count": null,
   "id": "335401f6",
   "metadata": {},
   "outputs": [],
   "source": [
    "df['furnishing_type'] = cluster_assignments"
   ]
  },
  {
   "cell_type": "code",
   "execution_count": null,
   "id": "09ba6d14",
   "metadata": {},
   "outputs": [],
   "source": [
    "df.sample(5)[['furnishDetails','furnishing_type']]\n",
    "#0 => unfurnished\n",
    "#1 => semi-furnished\n",
    "#2 => furnished"
   ]
  },
  {
   "cell_type": "markdown",
   "id": "828b6b8d",
   "metadata": {},
   "source": [
    "## 5. feature"
   ]
  },
  {
   "cell_type": "code",
   "execution_count": null,
   "id": "dfdba3a5",
   "metadata": {},
   "outputs": [],
   "source": [
    "df[['society','features']].sample(5)"
   ]
  },
  {
   "cell_type": "code",
   "execution_count": null,
   "id": "a80aba94",
   "metadata": {},
   "outputs": [],
   "source": [
    "df['features'].isnull().sum()"
   ]
  },
  {
   "cell_type": "code",
   "execution_count": null,
   "id": "b17b99a1",
   "metadata": {},
   "outputs": [],
   "source": [
    "app_df = pd.read_excel('real_estate_data.xlsx')\n",
    "app_df.head(2)"
   ]
  },
  {
   "cell_type": "code",
   "execution_count": null,
   "id": "9d8464df",
   "metadata": {},
   "outputs": [],
   "source": [
    "app_df['PropertyName'] = app_df['PropertyName'].str.lower()"
   ]
  },
  {
   "cell_type": "code",
   "execution_count": null,
   "id": "da38703c",
   "metadata": {},
   "outputs": [],
   "source": [
    "temp_df = df[df['features'].isnull()]"
   ]
  },
  {
   "cell_type": "code",
   "execution_count": null,
   "id": "2f0e5869",
   "metadata": {},
   "outputs": [],
   "source": [
    "temp_df.shape"
   ]
  },
  {
   "cell_type": "code",
   "execution_count": null,
   "id": "29c06bf1",
   "metadata": {},
   "outputs": [],
   "source": [
    "temp_df"
   ]
  },
  {
   "cell_type": "code",
   "execution_count": null,
   "id": "9b762a64",
   "metadata": {},
   "outputs": [],
   "source": [
    "x = temp_df.merge(app_df,left_on='society',right_on='PropertyName',how='left')['TopFacilities']"
   ]
  },
  {
   "cell_type": "code",
   "execution_count": null,
   "id": "ee09f88b",
   "metadata": {},
   "outputs": [],
   "source": [
    "x.values"
   ]
  },
  {
   "cell_type": "code",
   "execution_count": null,
   "id": "1a58920b",
   "metadata": {},
   "outputs": [],
   "source": [
    "df.loc[temp_df.index].shape"
   ]
  },
  {
   "cell_type": "code",
   "execution_count": null,
   "id": "f9069817",
   "metadata": {
    "scrolled": true
   },
   "outputs": [],
   "source": [
    "df.loc[temp_df.index,'features'] = x.values"
   ]
  },
  {
   "cell_type": "code",
   "execution_count": null,
   "id": "e5874f57",
   "metadata": {},
   "outputs": [],
   "source": [
    "x.shape"
   ]
  },
  {
   "cell_type": "code",
   "execution_count": null,
   "id": "84f31241",
   "metadata": {},
   "outputs": [],
   "source": [
    "df['features'].isnull().sum()"
   ]
  },
  {
   "cell_type": "code",
   "execution_count": null,
   "id": "7e5799a3",
   "metadata": {},
   "outputs": [],
   "source": [
    "from sklearn.preprocessing import MultiLabelBinarizer\n",
    "import ast"
   ]
  },
  {
   "cell_type": "code",
   "execution_count": null,
   "id": "ae46d069",
   "metadata": {},
   "outputs": [],
   "source": [
    "# convert the string representation of lists in the 'features' column to actual lists\n",
    "\n",
    "df['features_list'] = df['features'].apply(lambda x: ast.literal_eval(x) if pd.notnull(x) and x.startswith('[') else [])\n",
    "\n",
    "# Use multilabelBinarizer to convert the features list into a binary metrix\n",
    "mlb = MultiLabelBinarizer()\n",
    "features_binary_metrix = mlb.fit_transform(df['features_list'])\n",
    "\n",
    "# convert the binary metrix into Dataframe\n",
    "features_binary_df = pd.DataFrame(features_binary_metrix,columns=mlb.classes_)"
   ]
  },
  {
   "cell_type": "code",
   "execution_count": null,
   "id": "be114ee1",
   "metadata": {},
   "outputs": [],
   "source": [
    "features_binary_df.sample(5)"
   ]
  },
  {
   "cell_type": "code",
   "execution_count": null,
   "id": "abe58994",
   "metadata": {},
   "outputs": [],
   "source": [
    "# Define the weights for each feature as provided\n",
    "# Assigning weights based on perceived luxury contribution\n",
    "weights = {\n",
    "     '24/7 Power Backup': 8,\n",
    "    '24/7 Water Supply': 4,\n",
    "    '24x7 Security': 7,\n",
    "    'ATM': 4,\n",
    "    'Aerobics Centre': 6,\n",
    "    'Airy Rooms': 8,\n",
    "    'Amphitheatre': 7,\n",
    "    'Badminton Court': 7,\n",
    "    'Banquet Hall': 8,\n",
    "    'Bar/Chill-Out Lounge': 9,\n",
    "    'Barbecue': 7,\n",
    "    'Basketball Court': 7,\n",
    "    'Billiards': 7,\n",
    "    'Bowling Alley': 8,\n",
    "    'Business Lounge': 9,\n",
    "    'CCTV Camera Security': 8,\n",
    "    'Cafeteria': 6,\n",
    "    'Car Parking': 6,\n",
    "    'Card Room': 6,\n",
    "    'Centrally Air Conditioned': 9,\n",
    "    'Changing Area': 6,\n",
    "    \"Children's Play Area\": 7,\n",
    "    'Cigar Lounge': 9,\n",
    "    'Clinic': 5,\n",
    "    'Club House': 9,\n",
    "    'Concierge Service': 9,\n",
    "    'Conference room': 8,\n",
    "    'Creche/Day care': 7,\n",
    "    'Cricket Pitch': 7,\n",
    "    'Doctor on Call': 6,\n",
    "    'Earthquake Resistant': 5,\n",
    "    'Entrance Lobby': 7,\n",
    "    'False Ceiling Lighting': 6,\n",
    "    'Feng Shui / Vaastu Compliant': 5,\n",
    "    'Fire Fighting Systems': 8,\n",
    "    'Fitness Centre / GYM': 8,\n",
    "    'Flower Garden': 7,\n",
    "    'Food Court': 6,\n",
    "    'Foosball': 5,\n",
    "    'Football': 7,\n",
    "    'Fountain': 7,\n",
    "    'Gated Community': 7,\n",
    "    'Golf Course': 10,\n",
    "    'Grocery Shop': 6,\n",
    "    'Gymnasium': 8,\n",
    "    'High Ceiling Height': 8,\n",
    "    'High Speed Elevators': 8,\n",
    "    'Infinity Pool': 9,\n",
    "    'Intercom Facility': 7,\n",
    "    'Internal Street Lights': 6,\n",
    "    'Internet/wi-fi connectivity': 7,\n",
    "    'Jacuzzi': 9,\n",
    "    'Jogging Track': 7,\n",
    "    'Landscape Garden': 8,\n",
    "    'Laundry': 6,\n",
    "    'Lawn Tennis Court': 8,\n",
    "    'Library': 8,\n",
    "    'Lounge': 8,\n",
    "    'Low Density Society': 7,\n",
    "    'Maintenance Staff': 6,\n",
    "    'Manicured Garden': 7,\n",
    "    'Medical Centre': 5,\n",
    "    'Milk Booth': 4,\n",
    "    'Mini Theatre': 9,\n",
    "    'Multipurpose Court': 7,\n",
    "    'Multipurpose Hall': 7,\n",
    "    'Natural Light': 8,\n",
    "    'Natural Pond': 7,\n",
    "    'Park': 8,\n",
    "    'Party Lawn': 8,\n",
    "    'Piped Gas': 7,\n",
    "    'Pool Table': 7,\n",
    "    'Power Back up Lift': 8,\n",
    "    'Private Garden / Terrace': 9,\n",
    "    'Property Staff': 7,\n",
    "    'RO System': 7,\n",
    "    'Rain Water Harvesting': 7,\n",
    "    'Reading Lounge': 8,\n",
    "    'Restaurant': 8,\n",
    "    'Salon': 8,\n",
    "    'Sauna': 9,\n",
    "    'Security / Fire Alarm': 9,\n",
    "    'Security Personnel': 9,\n",
    "    'Separate entry for servant room': 8,\n",
    "    'Sewage Treatment Plant': 6,\n",
    "    'Shopping Centre': 7,\n",
    "    'Skating Rink': 7,\n",
    "    'Solar Lighting': 6,\n",
    "    'Solar Water Heating': 7,\n",
    "    'Spa': 9,\n",
    "    'Spacious Interiors': 9,\n",
    "    'Squash Court': 8,\n",
    "    'Steam Room': 9,\n",
    "    'Sun Deck': 8,\n",
    "    'Swimming Pool': 8,\n",
    "    'Temple': 5,\n",
    "    'Theatre': 9,\n",
    "    'Toddler Pool': 7,\n",
    "    'Valet Parking': 9,\n",
    "    'Video Door Security': 9,\n",
    "    'Visitor Parking': 7,\n",
    "    'Water Softener Plant': 7,\n",
    "    'Water Storage': 7,\n",
    "    'Water purifier': 7,\n",
    "    'Yoga/Meditation Area': 7\n",
    "}\n",
    "# Calculate luxury score for each row\n",
    "luxury_score = features_binary_df[list(weights.keys())].multiply(list(weights.values())).sum(axis=1)"
   ]
  },
  {
   "cell_type": "code",
   "execution_count": null,
   "id": "d7d7d2ac",
   "metadata": {},
   "outputs": [],
   "source": [
    "df['luxury_score'] = luxury_score"
   ]
  },
  {
   "cell_type": "code",
   "execution_count": null,
   "id": "2f2f85f5",
   "metadata": {},
   "outputs": [],
   "source": [
    "df['luxury_score'].fillna(0, inplace=True)"
   ]
  },
  {
   "cell_type": "code",
   "execution_count": null,
   "id": "96da8f42",
   "metadata": {},
   "outputs": [],
   "source": [
    "df.head()"
   ]
  },
  {
   "cell_type": "code",
   "execution_count": null,
   "id": "59deb6c2",
   "metadata": {},
   "outputs": [],
   "source": [
    "# cols to drap -> nearbylocations, furnishDetails, features, features_list, assitionalRoom\n",
    "df.drop(columns=['nearbyLocations','furnishDetails','features','features_list','additionalRoom'], inplace=True)"
   ]
  },
  {
   "cell_type": "code",
   "execution_count": null,
   "id": "fdedd43c",
   "metadata": {},
   "outputs": [],
   "source": [
    "df.sample(5)"
   ]
  },
  {
   "cell_type": "code",
   "execution_count": null,
   "id": "82a9289a",
   "metadata": {},
   "outputs": [],
   "source": [
    "df.shape"
   ]
  },
  {
   "cell_type": "code",
   "execution_count": null,
   "id": "4681d9cc",
   "metadata": {},
   "outputs": [],
   "source": [
    "df['luxury_score'].isnull().sum()"
   ]
  },
  {
   "cell_type": "markdown",
   "id": "3f08ddd1",
   "metadata": {},
   "source": [
    "## EDA (Exploratory Data Analysis)"
   ]
  },
  {
   "cell_type": "markdown",
   "id": "1a63e11b",
   "metadata": {},
   "source": [
    "### Univeriant Analysis"
   ]
  },
  {
   "cell_type": "code",
   "execution_count": null,
   "id": "33a0033d",
   "metadata": {
    "scrolled": true
   },
   "outputs": [],
   "source": [
    "df.shape"
   ]
  },
  {
   "cell_type": "code",
   "execution_count": null,
   "id": "5d1b62d3",
   "metadata": {
    "scrolled": true
   },
   "outputs": [],
   "source": [
    "df.info()"
   ]
  },
  {
   "cell_type": "code",
   "execution_count": null,
   "id": "d33c1451",
   "metadata": {},
   "outputs": [],
   "source": [
    "df.duplicated().sum()"
   ]
  },
  {
   "cell_type": "code",
   "execution_count": null,
   "id": "b9233622",
   "metadata": {},
   "outputs": [],
   "source": [
    "df.drop_duplicates(inplace=True)"
   ]
  },
  {
   "cell_type": "code",
   "execution_count": null,
   "id": "43f6327a",
   "metadata": {},
   "outputs": [],
   "source": [
    "df.head()"
   ]
  },
  {
   "cell_type": "markdown",
   "id": "79759981",
   "metadata": {},
   "source": [
    "### Property_type"
   ]
  },
  {
   "cell_type": "code",
   "execution_count": null,
   "id": "c0db58b5",
   "metadata": {},
   "outputs": [],
   "source": [
    "df['Property_type'].value_counts().plot(kind='bar')"
   ]
  },
  {
   "cell_type": "markdown",
   "id": "8fe5fbc2",
   "metadata": {},
   "source": [
    "#### Observations:\n",
    "- Flats are in majority(75 percent) and there are less number of houses(~25 percent)\n",
    "- No missing values"
   ]
  },
  {
   "cell_type": "markdown",
   "id": "777f4c83",
   "metadata": {},
   "source": [
    "### Society"
   ]
  },
  {
   "cell_type": "code",
   "execution_count": null,
   "id": "176f468c",
   "metadata": {},
   "outputs": [],
   "source": [
    "df['society'].value_counts().shape"
   ]
  },
  {
   "cell_type": "code",
   "execution_count": null,
   "id": "b5d2afa3",
   "metadata": {},
   "outputs": [],
   "source": [
    "df['society'].value_counts()"
   ]
  },
  {
   "cell_type": "code",
   "execution_count": null,
   "id": "615541ce",
   "metadata": {},
   "outputs": [],
   "source": [
    "df[df['society'] != 'independent']['society'].value_counts(normalize=True).cumsum().head(75)"
   ]
  },
  {
   "cell_type": "code",
   "execution_count": null,
   "id": "3a844975",
   "metadata": {},
   "outputs": [],
   "source": [
    "society_count = df['society'].value_counts()\n",
    "\n",
    "#Frequency distribution for societies\n",
    "\n",
    "frequency_bins = {\n",
    "    'Very High (>100)':(society_count >100).sum(),\n",
    "    'High (50-100)': (society_count>=50).sum(),\n",
    "    'Average(10-49)': (society_count>=10).sum(),\n",
    "    'Low (2-9)':(society_count<10).sum(),\n",
    "    'Very Low (1)':(society_count == 1).sum()\n",
    "}"
   ]
  },
  {
   "cell_type": "code",
   "execution_count": null,
   "id": "8d5cb107",
   "metadata": {},
   "outputs": [],
   "source": [
    "frequency_bins"
   ]
  },
  {
   "cell_type": "code",
   "execution_count": null,
   "id": "00c39dff",
   "metadata": {},
   "outputs": [],
   "source": [
    "#Top 10 socities\n",
    "df[df['society'] != 'independent']['society'].value_counts().head(10).plot(kind='bar')"
   ]
  },
  {
   "cell_type": "code",
   "execution_count": null,
   "id": "79fbbf0a",
   "metadata": {},
   "outputs": [],
   "source": [
    "df['society'].isnull().sum()"
   ]
  },
  {
   "cell_type": "markdown",
   "id": "3f608378",
   "metadata": {},
   "source": [
    "### Observations:\n",
    "\n",
    "- Around 13% properties comes under independent tag\n",
    "- There are 702 societies\n",
    "- The top 75 societies have 50% of the properties and the rest of percent of the properties comes under the remaining 600 societies\n",
    "    - Very High(>100): Only 1 society has more than 100 entries\n",
    "    - High (50-100): 3 societies have 50-100 entries\n",
    "    - Average(10-49): 98 societies have 10-49 entries\n",
    "    - Low(2-9): 605 societies have 2 to 9 entries\n",
    "    - Very Low (1): 308 socities have only 1 entries"
   ]
  },
  {
   "cell_type": "markdown",
   "id": "038b9ad3",
   "metadata": {},
   "source": [
    "### Sector"
   ]
  },
  {
   "cell_type": "code",
   "execution_count": null,
   "id": "ffdbd77f",
   "metadata": {},
   "outputs": [],
   "source": [
    "# unique Sectors\n",
    "df['sector'].value_counts().shape"
   ]
  },
  {
   "cell_type": "code",
   "execution_count": null,
   "id": "515a8432",
   "metadata": {},
   "outputs": [],
   "source": [
    "# Top 10 Sectors\n",
    "df['sector'].value_counts().head(10).plot(kind='bar')"
   ]
  },
  {
   "cell_type": "code",
   "execution_count": null,
   "id": "58963eb9",
   "metadata": {},
   "outputs": [],
   "source": [
    "# Frequency distribution for sectors\n",
    "\n",
    "sector_counts = df['sector'].value_counts()\n",
    "\n",
    "sector_frequency_bins = {\n",
    "    'Very High (>100)': (sector_counts > 100).sum(),\n",
    "    'High (50-100)': ((sector_counts >= 50) & (sector_counts <= 100)).sum(),\n",
    "    'Average (10-49)':((sector_counts >= 10) & (sector_counts < 50)).sum(),\n",
    "    'Low (2-9)': ((sector_counts >=2) & (sector_counts < 10)).sum(),\n",
    "    'Very Low (1)': (sector_counts == 1).sum()\n",
    "}"
   ]
  },
  {
   "cell_type": "code",
   "execution_count": null,
   "id": "3b7c5a50",
   "metadata": {},
   "outputs": [],
   "source": [
    "sector_frequency_bins"
   ]
  },
  {
   "cell_type": "markdown",
   "id": "783e9540",
   "metadata": {},
   "source": [
    "### Observations:\n",
    "\n",
    "- There are total of 98 sectors in the dataset\n",
    "- Frequency distribution of the sector:\n",
    "    - Very High (>100): 6 sectors have more than 100 entries\n",
    "    - High (50-100) : 23 sectors have entries between 50 to 100\n",
    "    - Average (10-49): 52 sectors have entries between 10 to 49\n",
    "    - Low (2-9): 16 sectors have entries between 2 to 9\n",
    "    - Very Low (1): 1 sectors have only one entry"
   ]
  },
  {
   "cell_type": "markdown",
   "id": "20184cd2",
   "metadata": {},
   "source": [
    "## Price"
   ]
  },
  {
   "cell_type": "code",
   "execution_count": null,
   "id": "3e6653fc",
   "metadata": {},
   "outputs": [],
   "source": [
    "df['price'].isnull().sum()"
   ]
  },
  {
   "cell_type": "code",
   "execution_count": null,
   "id": "7527ac00",
   "metadata": {},
   "outputs": [],
   "source": [
    "df['price'].describe()"
   ]
  },
  {
   "cell_type": "code",
   "execution_count": null,
   "id": "242b4eb9",
   "metadata": {},
   "outputs": [],
   "source": [
    "sns.histplot(df['price'], kde=True, bins=50)"
   ]
  },
  {
   "cell_type": "code",
   "execution_count": null,
   "id": "0acbad6d",
   "metadata": {},
   "outputs": [],
   "source": [
    "sns.boxplot(x=df['price'], color='lightgrey')\n",
    "plt.grid()"
   ]
  },
  {
   "cell_type": "markdown",
   "id": "0884145b",
   "metadata": {},
   "source": [
    "### Descriptive Statistics:\n",
    "\n",
    "- Count There are 3747 non-missing price listing\n",
    "- Mean Price: The average price approximately 2.53 crores.\n",
    "- Median Price: The median (or 50th percentile) price is 1.52 crores.\n",
    "- Standard Deviation:The prices have a standard deviation of 2.98, indicating data variability in the prices.\n",
    "- Range: Prices range from a minimum of 0.07 crores to a maximum of 31.5 crores.\n",
    "- IQR: The Interquartile range (difference between 75th and 25th percentile) is from 0.95 crores to 2.75 crores.\n",
    "\n",
    "### Visualizations:\n",
    "\n",
    "- Distribution: The histogram indicates the most properties are priced in the lower range (below 5 crores), with a few proparties going beyond 10 crores.\n",
    "- Box Plot: The box plot showcases the spread of the data and potential outliers. Properties priced above approximately 10 crores might be considered outliers as they lie beyond the upper whisker of the box plot.\n",
    "\n",
    "#### Missing Values: There are 18 missing values in the price column."
   ]
  },
  {
   "cell_type": "code",
   "execution_count": null,
   "id": "084198f1",
   "metadata": {},
   "outputs": [],
   "source": [
    "# Skewness and Kurtosis\n",
    "skewness = df['price'].skew()\n",
    "kurtosis = df['price'].kurt()\n",
    "\n",
    "print(skewness, kurtosis)"
   ]
  },
  {
   "cell_type": "markdown",
   "id": "d0ae31b7",
   "metadata": {},
   "source": [
    "<b>Skewness</b>:The price distribution has a skewness of approximately 3.31, indicating a positive skew. This means that the distribution tail is skewed to right, which aligns with our observation from the histogram where most properties have prices on the lower end  with a few high-priced properties.\n",
    "\n",
    "<b>Kurtosis</b>: The kurtosis value is approximately 15.25. A kurtosis value greater than 3 indicates distribution with heavier tails and more outliers compared to a normal distribution."
   ]
  },
  {
   "cell_type": "code",
   "execution_count": null,
   "id": "db1135df",
   "metadata": {},
   "outputs": [],
   "source": [
    "# Quantile Analysis\n",
    "quantiles = df['price'].quantile([0.01, 0.05, 0.95, 0.99])\n",
    "\n",
    "quantiles"
   ]
  },
  {
   "cell_type": "markdown",
   "id": "1f58d655",
   "metadata": {},
   "source": [
    "### Quantile Analysis:\n",
    "\n",
    "- 1% Quantile: Only 1% of properties are priced below 0.25 crores.\n",
    "- 5% Quantile: 5% of properties are priced below 0.37 crores.\n",
    "- 95% Quantile: 95% of properties are priced below 8.48 crores.\n",
    "- 99% Quantile: 99% of properties are priced below 15.04 crores, indicating that very few properties are priced above this value."
   ]
  },
  {
   "cell_type": "code",
   "execution_count": null,
   "id": "31fc7b78",
   "metadata": {},
   "outputs": [],
   "source": [
    "# Identify potential outliers using IQR method\n",
    "\n",
    "Q1 = df['price'].describe()['25%']\n",
    "Q3 = df['price'].describe()['75%']\n",
    "\n",
    "IQR = Q3-Q1\n",
    "IQR"
   ]
  },
  {
   "cell_type": "code",
   "execution_count": null,
   "id": "be135d74",
   "metadata": {},
   "outputs": [],
   "source": [
    "lower_bound = Q1 - 1.5*IQR\n",
    "upper_bound = Q3 + 1.5*IQR\n",
    "\n",
    "print(lower_bound, upper_bound)"
   ]
  },
  {
   "cell_type": "code",
   "execution_count": null,
   "id": "51998859",
   "metadata": {},
   "outputs": [],
   "source": [
    "outliers = df[(df['price'] <lower_bound) | (df['price'] > upper_bound)]\n",
    "outliers.shape"
   ]
  },
  {
   "cell_type": "code",
   "execution_count": null,
   "id": "55af2008",
   "metadata": {},
   "outputs": [],
   "source": [
    "outliers['price'].describe()"
   ]
  },
  {
   "cell_type": "markdown",
   "id": "00497a63",
   "metadata": {},
   "source": [
    "### Outliers Analysis (using IQR method):\n",
    "\n",
    "- Based on the IQR method, there are 440 properties considered as outliers.\n",
    "- These outliers have an average price of approximately 9.17 crores.\n",
    "- The range for these outliers is from 6.44 crores to 31.5 crores"
   ]
  },
  {
   "cell_type": "code",
   "execution_count": null,
   "id": "48b43114",
   "metadata": {},
   "outputs": [],
   "source": [
    "# price binning\n",
    "bins = [0, 1, 2, 3, 5, 10, 20, 50]\n",
    "bin_labels = ['0-1', '1-2', '2-3', '3-5', '5-10', '10-20', '20-50']\n",
    "pd.cut(df['price'],bins=bins, labels=bin_labels, right=True).value_counts().sort_index().plot(kind='bar')"
   ]
  },
  {
   "cell_type": "markdown",
   "id": "a41a855a",
   "metadata": {},
   "source": [
    "- The majority of properties are priced in the '1-2 crores' and '2-3 crores' ranges\n",
    "- There's a significant drop in the number of properties priced above '5 crores'"
   ]
  },
  {
   "cell_type": "code",
   "execution_count": null,
   "id": "6ac93fd4",
   "metadata": {},
   "outputs": [],
   "source": [
    "# ecdf plot\n",
    "ecdf = df['price'].value_counts().sort_index().cumsum()/len(df['price'])\n",
    "plt.plot(ecdf.index, ecdf, marker='.', linestyle='none')\n",
    "plt.grid()"
   ]
  },
  {
   "cell_type": "code",
   "execution_count": null,
   "id": "04938a29",
   "metadata": {},
   "outputs": [],
   "source": [
    "plt.figure(figsize=(15, 6))\n",
    "\n",
    "# Distribution plot without log transformation\n",
    "plt.subplot(1, 2, 1)\n",
    "sns.distplot(df['price'], kde=True, bins=50,color='skyblue')\n",
    "plt.title('Distribution of prices (Original Data)')\n",
    "plt.xlabel('Price (in Crores)')\n",
    "plt.ylabel('Frequency')\n",
    "\n",
    "# Distribution plot with log transformation\n",
    "plt.subplot(1,2,2)\n",
    "sns.distplot(np.log1p(df['price']), kde=True, bins=50, color='lightgreen')\n",
    "plt.title('Distribution of price (Log Transformed)')\n",
    "plt.xlabel('Log(Price)')\n",
    "plt.ylabel('Frequency')\n",
    "\n",
    "plt.tight_layout()\n",
    "plt.show()"
   ]
  },
  {
   "cell_type": "markdown",
   "id": "18f1ecc6",
   "metadata": {},
   "source": [
    "np.log1p(x). This function computes the natural logarithm of 1+x. It's designed to provide more accurate results for values of x that are very close to zero.\n",
    "\n",
    "Using np.log1p helps in transforming the price column while ensuring the any any value (including zero, if present) is handed appropriately.When we need to reverse the transformation, we can use np.expm1 which is computes e^x-1."
   ]
  },
  {
   "cell_type": "code",
   "execution_count": null,
   "id": "2e247913",
   "metadata": {},
   "outputs": [],
   "source": [
    "skewness = np.log1p(df['price']).skew()\n",
    "kurtosis = np.log1p(df['price']).kurt()\n",
    "\n",
    "print(skewness, kurtosis)"
   ]
  },
  {
   "cell_type": "code",
   "execution_count": null,
   "id": "06546def",
   "metadata": {},
   "outputs": [],
   "source": [
    "## Box Plot with log transformed data\n",
    "\n",
    "plt.figure(figsize=(15, 6))\n",
    "\n",
    "# Distribution plot without log transformation\n",
    "plt.subplot(1, 2, 1)\n",
    "sns.boxplot(df['price'], color='skyblue',orient='h')\n",
    "plt.title('Distribution of Price (Original)')\n",
    "plt.xlabel('Price (in Crores)')\n",
    "plt.ylabel('Frequency')\n",
    "\n",
    "# Distribution plot with Log transformation\n",
    "plt.subplot(1, 2, 2)\n",
    "sns.boxplot(np.log1p(df['price']), color='lightgreen',orient='h')\n",
    "plt.title('Distribution of Price (Log Transformed Data)')\n",
    "plt.xlabel('Log (Price)')\n",
    "plt.ylabel('Frequency')\n",
    "\n",
    "# plt.tight_layout()\n",
    "plt.show()"
   ]
  },
  {
   "cell_type": "markdown",
   "id": "6e1c9f2a",
   "metadata": {},
   "source": [
    "### Price_per_sqFeets"
   ]
  },
  {
   "cell_type": "code",
   "execution_count": null,
   "id": "21574b75",
   "metadata": {},
   "outputs": [],
   "source": [
    "df['Price_Per_sqFeets'].isnull().sum()"
   ]
  },
  {
   "cell_type": "code",
   "execution_count": null,
   "id": "435f852b",
   "metadata": {},
   "outputs": [],
   "source": [
    "df['Price_Per_sqFeets'].describe()"
   ]
  },
  {
   "cell_type": "code",
   "execution_count": null,
   "id": "852fa9c6",
   "metadata": {},
   "outputs": [],
   "source": [
    "sns.histplot(df['Price_Per_sqFeets'], bins=50, color='skyblue', kde=True)"
   ]
  },
  {
   "cell_type": "markdown",
   "id": "2c3a4631",
   "metadata": {},
   "source": [
    "Most properties have a price_per_sqFeets ranging between approximately 0 and 40,000. There is a significant concentration in the lower range, with few properties having exceptionally high price_per_sqfeets."
   ]
  },
  {
   "cell_type": "code",
   "execution_count": null,
   "id": "07137ab9",
   "metadata": {},
   "outputs": [],
   "source": [
    "sns.boxplot(df['Price_Per_sqFeets'], color='lightgreen', orient='h')"
   ]
  },
  {
   "cell_type": "markdown",
   "id": "30b428fd",
   "metadata": {},
   "source": [
    "The box plot clearly shows several outliers, especially on the higher side. The interquartile range (IQR) is relativaly compact, but there are many data point beyond the 'whiskers' of the box plot, indicating potential outliers"
   ]
  },
  {
   "cell_type": "markdown",
   "id": "8e6066e8",
   "metadata": {},
   "source": [
    "### Observation:\n",
    "\n",
    "- Potential Outliers\n",
    "- Right skewed data\n",
    "- 19 missing values"
   ]
  },
  {
   "cell_type": "markdown",
   "id": "0763c8b7",
   "metadata": {},
   "source": [
    "## bedRoom"
   ]
  },
  {
   "cell_type": "code",
   "execution_count": null,
   "id": "451132a6",
   "metadata": {},
   "outputs": [],
   "source": [
    "df['bedRoom'].isnull().sum()"
   ]
  },
  {
   "cell_type": "code",
   "execution_count": null,
   "id": "669dc4d0",
   "metadata": {},
   "outputs": [],
   "source": [
    "df['bedRoom'].value_counts().sort_index().plot(kind='bar')"
   ]
  },
  {
   "cell_type": "code",
   "execution_count": null,
   "id": "7c0d0a63",
   "metadata": {},
   "outputs": [],
   "source": [
    "df['bedRoom'].value_counts(normalize=True).head().plot(kind='pie',autopct='%0.2f%%')"
   ]
  },
  {
   "cell_type": "markdown",
   "id": "28da36a8",
   "metadata": {},
   "source": [
    "### Bathroom"
   ]
  },
  {
   "cell_type": "code",
   "execution_count": null,
   "id": "38ea5f0c",
   "metadata": {},
   "outputs": [],
   "source": [
    "df['bathroom'].isnull().sum()"
   ]
  },
  {
   "cell_type": "code",
   "execution_count": null,
   "id": "d78bf74d",
   "metadata": {},
   "outputs": [],
   "source": [
    "df['bathroom'].value_counts()"
   ]
  },
  {
   "cell_type": "code",
   "execution_count": null,
   "id": "e8d06f4b",
   "metadata": {},
   "outputs": [],
   "source": [
    "df['bathroom'].value_counts().sort_index().plot(kind='bar')"
   ]
  },
  {
   "cell_type": "code",
   "execution_count": null,
   "id": "d207cfa3",
   "metadata": {},
   "outputs": [],
   "source": [
    "df['bathroom'].value_counts(normalize=True).sort_index().head().plot(kind='pie',autopct='%0.2f%%')"
   ]
  },
  {
   "cell_type": "code",
   "execution_count": null,
   "id": "a3121bfc",
   "metadata": {},
   "outputs": [],
   "source": [
    "df.head()"
   ]
  },
  {
   "cell_type": "code",
   "execution_count": null,
   "id": "79e43278",
   "metadata": {},
   "outputs": [],
   "source": [
    "df['balcony'].isnull().sum()"
   ]
  },
  {
   "cell_type": "code",
   "execution_count": null,
   "id": "911f4a1d",
   "metadata": {},
   "outputs": [],
   "source": [
    "df['balcony'].value_counts()"
   ]
  },
  {
   "cell_type": "code",
   "execution_count": null,
   "id": "97a80db6",
   "metadata": {},
   "outputs": [],
   "source": [
    "df['balcony'].value_counts().head().plot(kind='bar')"
   ]
  },
  {
   "cell_type": "code",
   "execution_count": null,
   "id": "2c7bf247",
   "metadata": {},
   "outputs": [],
   "source": [
    "df['balcony'].value_counts(normalize=True).plot(kind='pie', autopct= '%0.2f%%')"
   ]
  },
  {
   "cell_type": "markdown",
   "id": "cb871cb5",
   "metadata": {},
   "source": [
    "## floornum"
   ]
  },
  {
   "cell_type": "code",
   "execution_count": null,
   "id": "f9fe724d",
   "metadata": {},
   "outputs": [],
   "source": [
    "df['floorNum'].isnull().sum()"
   ]
  },
  {
   "cell_type": "code",
   "execution_count": null,
   "id": "ad1da31d",
   "metadata": {},
   "outputs": [],
   "source": [
    "df['floorNum'].describe()"
   ]
  },
  {
   "cell_type": "code",
   "execution_count": null,
   "id": "bb882879",
   "metadata": {},
   "outputs": [],
   "source": [
    "df['floorNum'].value_counts().sort_index().plot(kind='bar')"
   ]
  },
  {
   "cell_type": "code",
   "execution_count": null,
   "id": "a4ddfcca",
   "metadata": {},
   "outputs": [],
   "source": [
    "sns.boxplot(df['floorNum'],color='lightgreen',orient='h')"
   ]
  },
  {
   "cell_type": "markdown",
   "id": "b0f394b6",
   "metadata": {},
   "source": [
    "### Observations:\n",
    "\n",
    "- The majority of the properties lie between the ground floor (0) and the 25th floor\n",
    "- Floors 1 to 4 are particularly common, with the 3rd floor being the most frequent.\n",
    "- There are a few proparties located at higher floors, but their frequency is much lower\n",
    "- The box plot reveal that the majority of the properties are concertrated around the lower floors. The interquartile range (IQR) lies between approximately the 2nd and 10th floors.\n",
    "- Data points beyond the 'whiskers' of the box plot, especially on the higher side, indicate potential outliers."
   ]
  },
  {
   "cell_type": "markdown",
   "id": "86136510",
   "metadata": {},
   "source": [
    "### Facing"
   ]
  },
  {
   "cell_type": "code",
   "execution_count": null,
   "id": "74270ffa",
   "metadata": {},
   "outputs": [],
   "source": [
    "df['facing'].isnull().sum()"
   ]
  },
  {
   "cell_type": "code",
   "execution_count": null,
   "id": "0d3fa90b",
   "metadata": {},
   "outputs": [],
   "source": [
    "df['facing'].fillna('NA',inplace=True)"
   ]
  },
  {
   "cell_type": "code",
   "execution_count": null,
   "id": "adf3d236",
   "metadata": {},
   "outputs": [],
   "source": [
    "df['facing'].value_counts()"
   ]
  },
  {
   "cell_type": "markdown",
   "id": "ef375d92",
   "metadata": {},
   "source": [
    "### agePossession"
   ]
  },
  {
   "cell_type": "code",
   "execution_count": null,
   "id": "c7af15a2",
   "metadata": {},
   "outputs": [],
   "source": [
    "df['agePossession'].isnull().sum()"
   ]
  },
  {
   "cell_type": "code",
   "execution_count": null,
   "id": "b14e0019",
   "metadata": {},
   "outputs": [],
   "source": [
    "df['agePossession'].value_counts()"
   ]
  },
  {
   "cell_type": "markdown",
   "id": "0b609f6d",
   "metadata": {},
   "source": [
    "### areas"
   ]
  },
  {
   "cell_type": "code",
   "execution_count": null,
   "id": "cde98e57",
   "metadata": {},
   "outputs": [],
   "source": [
    "# super build up area\n",
    "df['super_built_up_area'].isnull().sum()"
   ]
  },
  {
   "cell_type": "code",
   "execution_count": null,
   "id": "987e7200",
   "metadata": {},
   "outputs": [],
   "source": [
    "df['super_built_up_area'].describe()"
   ]
  },
  {
   "cell_type": "code",
   "execution_count": null,
   "id": "41b7c7a5",
   "metadata": {},
   "outputs": [],
   "source": [
    "sns.histplot(df['super_built_up_area'].dropna(), bins=50, color='skyblue',kde= True)"
   ]
  },
  {
   "cell_type": "code",
   "execution_count": null,
   "id": "2eb92d90",
   "metadata": {},
   "outputs": [],
   "source": [
    "sns.boxplot(df['super_built_up_area'], color='lightgreen',orient='h')"
   ]
  },
  {
   "cell_type": "markdown",
   "id": "a9d663d0",
   "metadata": {},
   "source": [
    "#### Observation:\n",
    "- Most properties have a super built-up area ranging between approximately 1,000 sq. feets and 2500 sq.feets.\n",
    "- There are a few properties with a significantly larger area, leading to a right skewed distribution.\n",
    "- The Interquartile Range (IQR) is a between roughly 1,480 sq. feets and 2,215 sq. feets, indicating that the middle 50% of the properties fall within this range.\n",
    "- There are serval data points beyond the upper \"whisker\" of box plot, indicating potential outliers. These are properties with an unusually large super built-up area"
   ]
  },
  {
   "cell_type": "code",
   "execution_count": null,
   "id": "d2099df4",
   "metadata": {},
   "outputs": [],
   "source": [
    "# built-up area\n",
    "df['built_up_area'].isnull().sum()"
   ]
  },
  {
   "cell_type": "code",
   "execution_count": null,
   "id": "f6724414",
   "metadata": {},
   "outputs": [],
   "source": [
    "df['built_up_area'].describe()"
   ]
  },
  {
   "cell_type": "code",
   "execution_count": null,
   "id": "234fd3be",
   "metadata": {},
   "outputs": [],
   "source": [
    "sns.histplot(df['built_up_area'].dropna(), bins=50, color='skyblue', kde=False)"
   ]
  },
  {
   "cell_type": "code",
   "execution_count": null,
   "id": "83c3ea14",
   "metadata": {},
   "outputs": [],
   "source": [
    "sns.boxplot(df['built_up_area'],color='lightgreen',orient='h')"
   ]
  },
  {
   "cell_type": "markdown",
   "id": "ea700e3a",
   "metadata": {},
   "source": [
    "#### Observation:\n",
    "- Most properties have a built-up area ranging roughly between 500 sq.feets and 3,500 sq feets.\n",
    "- There are very few properties with a much larger built-up area leading to a highly right skewed distribution.\n",
    "- The box plot confirms the presence of significant outliers on the higher side. The data's interquantile range (IQR) is relatively compact but the \"whiskers\" of the box plot are streched due to outliers.\n",
    "\n",
    "The presence of extreme values, especially on the higher side, suggests that there may be outliers or data error. This could also be due to some properties being exceptionaly large, like a commercial complex or an entire building being listed."
   ]
  },
  {
   "cell_type": "code",
   "execution_count": null,
   "id": "31386733",
   "metadata": {},
   "outputs": [],
   "source": [
    "# carpet area\n",
    "df['carpet_area'].isnull().sum()"
   ]
  },
  {
   "cell_type": "code",
   "execution_count": null,
   "id": "a3fb0364",
   "metadata": {},
   "outputs": [],
   "source": [
    "df['carpet_area'].describe()"
   ]
  },
  {
   "cell_type": "code",
   "execution_count": null,
   "id": "613ed312",
   "metadata": {},
   "outputs": [],
   "source": [
    "sns.histplot(df['carpet_area'].dropna(), bins=50, color='skyblue',kde=False)"
   ]
  },
  {
   "cell_type": "code",
   "execution_count": null,
   "id": "34243284",
   "metadata": {},
   "outputs": [],
   "source": [
    "sns.boxplot(df['carpet_area'], color='lightgreen',orient='h')"
   ]
  },
  {
   "cell_type": "code",
   "execution_count": null,
   "id": "62eed76c",
   "metadata": {},
   "outputs": [],
   "source": [
    "df.iloc[:,16:]"
   ]
  },
  {
   "cell_type": "markdown",
   "id": "5d85186d",
   "metadata": {},
   "source": [
    "### Additional rooms"
   ]
  },
  {
   "cell_type": "code",
   "execution_count": null,
   "id": "139aaf4f",
   "metadata": {},
   "outputs": [],
   "source": [
    "plt.figure(figsize=(20,12))\n",
    "\n",
    "#create a subplot of pie charts for each room type\n",
    "for idx, room in enumerate(['study room', 'servant room', 'store room', 'pooja room', 'others'],1):\n",
    "    ax = plt.subplot(2,3,idx)\n",
    "    df[room].value_counts().plot(kind='pie',autopct='%1.1f%%',startangle=90, ax=ax)\n",
    "    plt.title(f'Distribution of {room.title()}')\n",
    "    plt.ylabel('')\n",
    "    \n",
    "plt.show()"
   ]
  },
  {
   "cell_type": "markdown",
   "id": "50699e51",
   "metadata": {},
   "source": [
    "### furnishing_type"
   ]
  },
  {
   "cell_type": "code",
   "execution_count": null,
   "id": "ba188e3d",
   "metadata": {},
   "outputs": [],
   "source": [
    "df['furnishing_type'].isnull().sum()"
   ]
  },
  {
   "cell_type": "code",
   "execution_count": null,
   "id": "a0cc7c15",
   "metadata": {},
   "outputs": [],
   "source": [
    "df['furnishing_type'].value_counts()"
   ]
  },
  {
   "cell_type": "code",
   "execution_count": null,
   "id": "666c859c",
   "metadata": {},
   "outputs": [],
   "source": [
    "df['furnishing_type'].value_counts().plot(kind='pie', autopct='%0.2f%%')"
   ]
  },
  {
   "cell_type": "markdown",
   "id": "ecff2570",
   "metadata": {},
   "source": [
    "    => 2 is unfurnished\n",
    "    => 1 is semi-furnished\n",
    "    => 0 is unfurnished"
   ]
  },
  {
   "cell_type": "markdown",
   "id": "d47768be",
   "metadata": {},
   "source": [
    "### luxury score"
   ]
  },
  {
   "cell_type": "code",
   "execution_count": null,
   "id": "b9a0381f",
   "metadata": {},
   "outputs": [],
   "source": [
    "df['luxury_score'].isnull().sum()"
   ]
  },
  {
   "cell_type": "code",
   "execution_count": null,
   "id": "01554a04",
   "metadata": {},
   "outputs": [],
   "source": [
    "df['luxury_score'].describe()"
   ]
  },
  {
   "cell_type": "code",
   "execution_count": null,
   "id": "20202ea5",
   "metadata": {},
   "outputs": [],
   "source": [
    "sns.histplot(df['luxury_score'], bins=50, color='skyblue',kde=True)"
   ]
  },
  {
   "cell_type": "code",
   "execution_count": null,
   "id": "fb52e9f0",
   "metadata": {},
   "outputs": [],
   "source": [
    "sns.boxplot(df['luxury_score'], color='lightgreen', orient='h')"
   ]
  },
  {
   "cell_type": "markdown",
   "id": "3b46015d",
   "metadata": {},
   "source": [
    "The luxury score distribution has multiple peeks, suggesting a multi-mode distribution. There's significant number of properties with lower luxury scrores (around 0-50), and other peak is observed around the 110-130 range.\n",
    "\n",
    "The box plot reveals that the majority of the properties have luxury scores between approximately 30 and 110. The interquantile range (IQR) lies between these values."
   ]
  },
  {
   "cell_type": "markdown",
   "id": "c6382b14",
   "metadata": {},
   "source": [
    "### Multivariant Analysis"
   ]
  },
  {
   "cell_type": "code",
   "execution_count": null,
   "id": "1b835270",
   "metadata": {},
   "outputs": [],
   "source": [
    "df.head()"
   ]
  },
  {
   "cell_type": "markdown",
   "id": "7626c8bf",
   "metadata": {},
   "source": [
    "## property_type vs price"
   ]
  },
  {
   "cell_type": "code",
   "execution_count": null,
   "id": "11cb0d88",
   "metadata": {},
   "outputs": [],
   "source": [
    "sns.barplot(x=df['Property_type'],y=df['price'])"
   ]
  },
  {
   "cell_type": "code",
   "execution_count": null,
   "id": "a7aedb46",
   "metadata": {},
   "outputs": [],
   "source": [
    "sns.boxplot(x=df['Property_type'], y=df['price'])"
   ]
  },
  {
   "cell_type": "markdown",
   "id": "4bf04acd",
   "metadata": {},
   "source": [
    "### Property_type vs Area"
   ]
  },
  {
   "cell_type": "code",
   "execution_count": null,
   "id": "7ed8849b",
   "metadata": {},
   "outputs": [],
   "source": [
    "sns.barplot(x=df['Property_type'], y=df['area'])"
   ]
  },
  {
   "cell_type": "code",
   "execution_count": null,
   "id": "53fab5e1",
   "metadata": {},
   "outputs": [],
   "source": [
    "df['area'].max()"
   ]
  },
  {
   "cell_type": "code",
   "execution_count": null,
   "id": "c79d3db6",
   "metadata": {},
   "outputs": [],
   "source": [
    "# remove crazy outliers\n",
    "\n",
    "df = df[df['area'] <= 14500.0]"
   ]
  },
  {
   "cell_type": "code",
   "execution_count": null,
   "id": "758687b9",
   "metadata": {},
   "outputs": [],
   "source": [
    "sns.boxplot(x=df['Property_type'], y=df['area'])"
   ]
  },
  {
   "cell_type": "markdown",
   "id": "9ea38fcd",
   "metadata": {},
   "source": [
    "### Property_type vs price_persqfeets"
   ]
  },
  {
   "cell_type": "code",
   "execution_count": null,
   "id": "d30c4217",
   "metadata": {},
   "outputs": [],
   "source": [
    "sns.barplot(x=df['Property_type'], y=df['Price_Per_sqFeets'], estimator=np.median)"
   ]
  },
  {
   "cell_type": "code",
   "execution_count": null,
   "id": "d51a04c7",
   "metadata": {},
   "outputs": [],
   "source": [
    "sns.boxplot(x=df['Property_type'], y=df['Price_Per_sqFeets'])"
   ]
  },
  {
   "cell_type": "code",
   "execution_count": null,
   "id": "915c7b25",
   "metadata": {},
   "outputs": [],
   "source": [
    "sns.heatmap(pd.crosstab(df['Property_type'],df['bedRoom']))"
   ]
  },
  {
   "cell_type": "code",
   "execution_count": null,
   "id": "792c2774",
   "metadata": {},
   "outputs": [],
   "source": [
    "sns.barplot(x=df['Property_type'],y=df['floorNum'])"
   ]
  },
  {
   "cell_type": "code",
   "execution_count": null,
   "id": "1b8b0158",
   "metadata": {},
   "outputs": [],
   "source": [
    "sns.boxplot(x=df['Property_type'],y=df['floorNum'])"
   ]
  },
  {
   "cell_type": "code",
   "execution_count": null,
   "id": "c21ff783",
   "metadata": {},
   "outputs": [],
   "source": [
    "df.head()"
   ]
  },
  {
   "cell_type": "code",
   "execution_count": null,
   "id": "7f5ef571",
   "metadata": {},
   "outputs": [],
   "source": [
    "sns.heatmap(pd.crosstab(df['Property_type'], df['agePossession']))"
   ]
  },
  {
   "cell_type": "code",
   "execution_count": null,
   "id": "b605cd17",
   "metadata": {},
   "outputs": [],
   "source": [
    "sns.heatmap(pd.pivot_table(df, index='Property_type',columns='agePossession', values='price', aggfunc='mean'), annot=True)"
   ]
  },
  {
   "cell_type": "code",
   "execution_count": null,
   "id": "7cc9975f",
   "metadata": {},
   "outputs": [],
   "source": [
    "plt.figure(figsize=(15,4))\n",
    "sns.heatmap(pd.pivot_table(df, index='Property_type', columns='bedRoom', values='price', aggfunc='mean'),annot=True)"
   ]
  },
  {
   "cell_type": "code",
   "execution_count": null,
   "id": "a0d56ccc",
   "metadata": {},
   "outputs": [],
   "source": [
    "sns.heatmap(pd.crosstab(df['Property_type'], df['furnishing_type']))"
   ]
  },
  {
   "cell_type": "code",
   "execution_count": null,
   "id": "464f8e94",
   "metadata": {},
   "outputs": [],
   "source": [
    "sns.heatmap(pd.pivot_table(df, index='Property_type', columns='furnishing_type', values='price'), annot=True)"
   ]
  },
  {
   "cell_type": "code",
   "execution_count": null,
   "id": "597b6980",
   "metadata": {},
   "outputs": [],
   "source": [
    "sns.barplot(x=df['Property_type'],y=df['luxury_score'])"
   ]
  },
  {
   "cell_type": "code",
   "execution_count": null,
   "id": "145eeb82",
   "metadata": {},
   "outputs": [],
   "source": [
    "sns.boxplot(x=df['Property_type'], y= df['luxury_score'])"
   ]
  },
  {
   "cell_type": "code",
   "execution_count": null,
   "id": "fe7b77d0",
   "metadata": {},
   "outputs": [],
   "source": [
    "# sector analysis\n",
    "plt.figure(figsize=(15,6))\n",
    "sns.heatmap(pd.crosstab(df['Property_type'], df['sector']))"
   ]
  },
  {
   "cell_type": "code",
   "execution_count": null,
   "id": "7cc78cbf",
   "metadata": {},
   "outputs": [],
   "source": [
    "# sector analysis\n",
    "import re\n",
    "# Group by 'sector' and calculate the average price\n",
    "avg_price_per_sector = df.groupby('sector')['price'].mean().reset_index()\n",
    "\n",
    "# Function to extract sector numbers\n",
    "def extract_sector_number(sector_name):\n",
    "    match = re.search(r'\\d+', sector_name)\n",
    "    if match:\n",
    "        return int(match.group())\n",
    "    else:\n",
    "        return float('inf') # Return a Large number for non-numbered sectors\n",
    "    \n",
    "avg_price_per_sector['sector_number'] = avg_price_per_sector['sector'].apply(extract_sector_number)\n",
    "\n",
    "# sort by sector number\n",
    "avg_price_per_sector_sorted_by_sector = avg_price_per_sector.sort_values(by='sector_number')\n",
    "\n",
    "# Plote the heat map\n",
    "plt.figure(figsize=(5,25))\n",
    "sns.heatmap(avg_price_per_sector_sorted_by_sector.set_index('sector')[['price']],annot=True, fmt='.2f',linewidths=.5)\n",
    "plt.title('Average price per sector (Sorted by sector number)')\n",
    "plt.xlabel('Average Price')\n",
    "plt.ylabel('sector')\n",
    "plt.show()"
   ]
  },
  {
   "cell_type": "code",
   "execution_count": null,
   "id": "8dee4355",
   "metadata": {},
   "outputs": [],
   "source": [
    "import re\n",
    "# Group by 'sector' and calculate the average price\n",
    "avg_price_per_sector = df.groupby('sector')['Price_Per_sqFeets'].mean().reset_index()\n",
    "\n",
    "# Function to extract sector numbers\n",
    "def extract_sector_number(sector_name):\n",
    "    match = re.search(r'\\d+', sector_name)\n",
    "    if match:\n",
    "        return int(match.group())\n",
    "    else:\n",
    "        return float('inf') # Return a Large number for non-numbered sectors\n",
    "    \n",
    "avg_price_per_sector['sector_number'] = avg_price_per_sector['sector'].apply(extract_sector_number)\n",
    "\n",
    "# sort by sector number\n",
    "avg_price_per_sector_sorted_by_sector = avg_price_per_sector.sort_values(by='sector_number')\n",
    "\n",
    "# Plote the heat map\n",
    "plt.figure(figsize=(5,25))\n",
    "sns.heatmap(avg_price_per_sector_sorted_by_sector.set_index('sector')[['Price_Per_sqFeets']],annot=True, fmt='.2f',linewidths=.5)\n",
    "plt.title('Average price per sector (Sorted by sector number)')\n",
    "plt.xlabel('Average Price')\n",
    "plt.ylabel('sector')\n",
    "plt.show()"
   ]
  },
  {
   "cell_type": "code",
   "execution_count": null,
   "id": "24b98820",
   "metadata": {},
   "outputs": [],
   "source": [
    "# Group by 'sector' and calculate the average luxury score\n",
    "avg_price_per_sector = df.groupby('sector')['luxury_score'].mean().reset_index()\n",
    "\n",
    "# Function to extract sector numbers\n",
    "def extract_sector_number(sector_name):\n",
    "    match = re.search(r'\\d+', sector_name)\n",
    "    if match:\n",
    "        return int(match.group())\n",
    "    else:\n",
    "        return float('inf') # Return a Large number for non-numbered sectors\n",
    "    \n",
    "avg_price_per_sector['sector_number'] = avg_price_per_sector['sector'].apply(extract_sector_number)\n",
    "\n",
    "# sort by sector number\n",
    "avg_price_per_sector_sorted_by_sector = avg_price_per_sector.sort_values(by='sector_number')\n",
    "\n",
    "# Plote the heat map\n",
    "plt.figure(figsize=(5,25))\n",
    "sns.heatmap(avg_price_per_sector_sorted_by_sector.set_index('sector')[['luxury_score']],annot=True, fmt='.2f',linewidths=.5)\n",
    "plt.title('Average price per sector (Sorted by sector number)')\n",
    "plt.xlabel('Average Price')\n",
    "plt.ylabel('sector')\n",
    "plt.show()"
   ]
  },
  {
   "cell_type": "markdown",
   "id": "b32d6f42",
   "metadata": {},
   "source": [
    "### Price"
   ]
  },
  {
   "cell_type": "code",
   "execution_count": null,
   "id": "de93339f",
   "metadata": {},
   "outputs": [],
   "source": [
    "plt.figure(figsize=(12,8))\n",
    "sns.scatterplot(x=df[df['area']<10000]['area'],y=df['price'],hue=df['bedRoom'])"
   ]
  },
  {
   "cell_type": "markdown",
   "id": "201023fe",
   "metadata": {},
   "source": [
    "### Outliers Treated"
   ]
  },
  {
   "cell_type": "code",
   "execution_count": null,
   "id": "7827a59a",
   "metadata": {},
   "outputs": [],
   "source": [
    "df.head()"
   ]
  },
  {
   "cell_type": "code",
   "execution_count": null,
   "id": "8dc35b88",
   "metadata": {},
   "outputs": [],
   "source": [
    "df.shape"
   ]
  },
  {
   "cell_type": "code",
   "execution_count": null,
   "id": "e17d55c0",
   "metadata": {},
   "outputs": [],
   "source": [
    "df.columns"
   ]
  },
  {
   "cell_type": "code",
   "execution_count": null,
   "id": "00c2b897",
   "metadata": {},
   "outputs": [],
   "source": [
    "sns.distplot(df['price'])"
   ]
  },
  {
   "cell_type": "code",
   "execution_count": null,
   "id": "467f791e",
   "metadata": {},
   "outputs": [],
   "source": [
    "sns.boxplot(x=df['price'])"
   ]
  },
  {
   "cell_type": "code",
   "execution_count": null,
   "id": "3ff81e4f",
   "metadata": {},
   "outputs": [],
   "source": [
    "# Calculate the IQR for the 'price' column\n",
    "\n",
    "Q1 = df['price'].quantile(0.25)\n",
    "Q3 = df['price'].quantile(0.75)\n",
    "IQR = Q3-Q1\n",
    "\n",
    "# defind boundries\n",
    "lower_bound = Q1 - 1.5*IQR\n",
    "upper_bound = Q3 + 1.5*IQR\n",
    "\n",
    "# Identify Outliers\n",
    "outliers = df[(df['price'] < lower_bound) |(df['price'] > upper_bound)]\n",
    "\n",
    "# Display the number of outliers and some statistics\n",
    "num_outliers = outliers.shape[0]\n",
    "outliers_price_stats =outliers['price'].describe()\n",
    "\n",
    "num_outliers, outliers_price_stats"
   ]
  },
  {
   "cell_type": "code",
   "execution_count": null,
   "id": "de068d5b",
   "metadata": {},
   "outputs": [],
   "source": [
    "outliers.sort_values('price',ascending=False).head(20)"
   ]
  },
  {
   "cell_type": "code",
   "execution_count": null,
   "id": "2a09ece5",
   "metadata": {},
   "outputs": [],
   "source": [
    "# on the basis of price column is a genuanin data point"
   ]
  },
  {
   "cell_type": "markdown",
   "id": "ca446a3b",
   "metadata": {},
   "source": [
    "### Price_per_sqFeets"
   ]
  },
  {
   "cell_type": "code",
   "execution_count": null,
   "id": "92e9630f",
   "metadata": {},
   "outputs": [],
   "source": [
    "sns.distplot(df['Price_Per_sqFeets'])"
   ]
  },
  {
   "cell_type": "code",
   "execution_count": null,
   "id": "c27e8bf4",
   "metadata": {},
   "outputs": [],
   "source": [
    "sns.boxplot(x=df['Price_Per_sqFeets'])"
   ]
  },
  {
   "cell_type": "code",
   "execution_count": null,
   "id": "482eb6c7",
   "metadata": {},
   "outputs": [],
   "source": [
    "# find Outliers using IQR method\n",
    "Q1 = df['Price_Per_sqFeets'].quantile(0.25)\n",
    "Q3 = df['Price_Per_sqFeets'].quantile(0.75)\n",
    "IQR = Q3 - Q1\n",
    "\n",
    "# Find boudries\n",
    "lower_bound_pf = Q1 - 1.5*IQR\n",
    "upper_bound_pf = Q3 + 1.5*IQR\n",
    "\n",
    "outliers_price_sqfeets = df[(df['Price_Per_sqFeets'] < lower_bound_pf) | (df['Price_Per_sqFeets'] > upper_bound_pf)]\n",
    "\n",
    "# Display the outliers and some statistics and description\n",
    "num_outliers_pf = outliers_price_sqfeets.shape[0]\n",
    "outliers_price_stats_pf = outliers_price_sqfeets['Price_Per_sqFeets'].describe()\n",
    "\n",
    "num_outliers_pf, outliers_price_stats_pf"
   ]
  },
  {
   "cell_type": "code",
   "execution_count": null,
   "id": "2af11238",
   "metadata": {},
   "outputs": [],
   "source": [
    "outliers_price_sqfeets['area'] = outliers_price_sqfeets['area'].apply(lambda x:x*9 if x<1000 else x)"
   ]
  },
  {
   "cell_type": "code",
   "execution_count": null,
   "id": "81ac0b9f",
   "metadata": {},
   "outputs": [],
   "source": [
    "outliers_price_sqfeets['Price_Per_sqFeets'] = round((outliers_price_sqfeets['price']*10000000)/outliers_price_sqfeets['area'])"
   ]
  },
  {
   "cell_type": "code",
   "execution_count": null,
   "id": "660e15c0",
   "metadata": {},
   "outputs": [],
   "source": [
    "outliers_price_sqfeets.head()"
   ]
  },
  {
   "cell_type": "code",
   "execution_count": null,
   "id": "72e61aa2",
   "metadata": {},
   "outputs": [],
   "source": [
    "outliers_price_sqfeets['Price_Per_sqFeets'].describe()"
   ]
  },
  {
   "cell_type": "code",
   "execution_count": null,
   "id": "18e401da",
   "metadata": {},
   "outputs": [],
   "source": [
    "df.update(outliers_price_sqfeets)"
   ]
  },
  {
   "cell_type": "code",
   "execution_count": null,
   "id": "cc1d7b07",
   "metadata": {},
   "outputs": [],
   "source": [
    "sns.distplot(df['Price_Per_sqFeets'])"
   ]
  },
  {
   "cell_type": "code",
   "execution_count": null,
   "id": "dfe5772d",
   "metadata": {},
   "outputs": [],
   "source": [
    "sns.boxplot(x=df['Price_Per_sqFeets'])"
   ]
  },
  {
   "cell_type": "code",
   "execution_count": null,
   "id": "01d8639f",
   "metadata": {},
   "outputs": [],
   "source": [
    "df = df[df['Price_Per_sqFeets'] < 50000]"
   ]
  },
  {
   "cell_type": "code",
   "execution_count": null,
   "id": "6b75bbcc",
   "metadata": {},
   "outputs": [],
   "source": [
    "sns.boxplot(x=df['Price_Per_sqFeets'])"
   ]
  },
  {
   "cell_type": "markdown",
   "id": "64e190e4",
   "metadata": {},
   "source": [
    "### Area"
   ]
  },
  {
   "cell_type": "code",
   "execution_count": null,
   "id": "23744008",
   "metadata": {},
   "outputs": [],
   "source": [
    "sns.distplot(df['area'])"
   ]
  },
  {
   "cell_type": "code",
   "execution_count": null,
   "id": "ca719fb4",
   "metadata": {},
   "outputs": [],
   "source": [
    "sns.boxplot(x=df['area'])"
   ]
  },
  {
   "cell_type": "code",
   "execution_count": null,
   "id": "a450d867",
   "metadata": {},
   "outputs": [],
   "source": [
    "df['area'].describe()"
   ]
  },
  {
   "cell_type": "code",
   "execution_count": null,
   "id": "b82637be",
   "metadata": {},
   "outputs": [],
   "source": [
    "df[df['area'] > 100000].shape"
   ]
  },
  {
   "cell_type": "code",
   "execution_count": null,
   "id": "94a5f959",
   "metadata": {},
   "outputs": [],
   "source": [
    "df = df[df['area']<100000]"
   ]
  },
  {
   "cell_type": "code",
   "execution_count": null,
   "id": "65d7d541",
   "metadata": {},
   "outputs": [],
   "source": [
    "sns.distplot(df['area'])"
   ]
  },
  {
   "cell_type": "code",
   "execution_count": null,
   "id": "e1e6d729",
   "metadata": {},
   "outputs": [],
   "source": [
    "sns.boxplot(x=df['area'])"
   ]
  },
  {
   "cell_type": "code",
   "execution_count": null,
   "id": "0f767ff6",
   "metadata": {},
   "outputs": [],
   "source": [
    "df[df['area'] > 10000].sort_values('area', ascending=False)"
   ]
  },
  {
   "cell_type": "code",
   "execution_count": null,
   "id": "45bfa821",
   "metadata": {},
   "outputs": [],
   "source": [
    "df.drop(index=[3102, 2852, 1639, 3564, 3630], inplace=True)"
   ]
  },
  {
   "cell_type": "code",
   "execution_count": null,
   "id": "82575f82",
   "metadata": {},
   "outputs": [],
   "source": [
    "df.drop(index=[3641], inplace=True)"
   ]
  },
  {
   "cell_type": "code",
   "execution_count": null,
   "id": "3b5cb4c0",
   "metadata": {},
   "outputs": [],
   "source": [
    "df[df['area'] > 10000].sort_values('area',ascending=False)"
   ]
  },
  {
   "cell_type": "code",
   "execution_count": null,
   "id": "9b6e8c4e",
   "metadata": {},
   "outputs": [],
   "source": [
    "df.loc[3283, 'area'] = 115*9\n",
    "df.loc[3359, 'area'] = 7250\n",
    "df.loc[3552, 'area'] = 5800\n",
    "df.loc[3085, 'area'] = 2660\n",
    "df.loc[3092, 'area'] = 2160\n",
    "df.loc[2832, 'area'] = 1175\n",
    "df.loc[3500, 'area'] = 3500"
   ]
  },
  {
   "cell_type": "code",
   "execution_count": null,
   "id": "b0a93a86",
   "metadata": {},
   "outputs": [],
   "source": [
    "df.loc[3614, 'area'] = 2850"
   ]
  },
  {
   "cell_type": "code",
   "execution_count": null,
   "id": "6b389f06",
   "metadata": {},
   "outputs": [],
   "source": [
    "sns.distplot(df['area'])"
   ]
  },
  {
   "cell_type": "code",
   "execution_count": null,
   "id": "885a243e",
   "metadata": {},
   "outputs": [],
   "source": [
    "sns.boxplot(x=df['area'])"
   ]
  },
  {
   "cell_type": "code",
   "execution_count": null,
   "id": "2841eb52",
   "metadata": {},
   "outputs": [],
   "source": [
    "df['area'].describe()"
   ]
  },
  {
   "cell_type": "markdown",
   "id": "3f7884ca",
   "metadata": {},
   "source": [
    "### BedRoom"
   ]
  },
  {
   "cell_type": "code",
   "execution_count": null,
   "id": "2a111dbd",
   "metadata": {},
   "outputs": [],
   "source": [
    "sns.distplot(df['bedRoom'])"
   ]
  },
  {
   "cell_type": "code",
   "execution_count": null,
   "id": "7d7c82c1",
   "metadata": {},
   "outputs": [],
   "source": [
    "sns.boxplot(x=df['bedRoom'])"
   ]
  },
  {
   "cell_type": "code",
   "execution_count": null,
   "id": "95bde38d",
   "metadata": {},
   "outputs": [],
   "source": [
    "df['bedRoom'].describe()"
   ]
  },
  {
   "cell_type": "code",
   "execution_count": null,
   "id": "c741d2d7",
   "metadata": {},
   "outputs": [],
   "source": [
    "df[df['bedRoom'] > 10].shape"
   ]
  },
  {
   "cell_type": "code",
   "execution_count": null,
   "id": "cc6fc218",
   "metadata": {},
   "outputs": [],
   "source": [
    "df = df[df['bedRoom'] <= 10]"
   ]
  },
  {
   "cell_type": "code",
   "execution_count": null,
   "id": "f5c9205e",
   "metadata": {},
   "outputs": [],
   "source": [
    "df.shape"
   ]
  },
  {
   "cell_type": "code",
   "execution_count": null,
   "id": "dd449dc2",
   "metadata": {},
   "outputs": [],
   "source": [
    "df['bedRoom'].describe()"
   ]
  },
  {
   "cell_type": "code",
   "execution_count": null,
   "id": "c359e80f",
   "metadata": {},
   "outputs": [],
   "source": [
    "sns.distplot(df['bedRoom'])"
   ]
  },
  {
   "cell_type": "code",
   "execution_count": null,
   "id": "cbee2fe4",
   "metadata": {},
   "outputs": [],
   "source": [
    "sns.boxplot(x=df['bedRoom'])"
   ]
  },
  {
   "cell_type": "code",
   "execution_count": null,
   "id": "8bef4ca0",
   "metadata": {},
   "outputs": [],
   "source": [
    "sns.distplot(df['bathroom'])"
   ]
  },
  {
   "cell_type": "code",
   "execution_count": null,
   "id": "5d7e89f1",
   "metadata": {},
   "outputs": [],
   "source": [
    "sns.boxplot(x=df['bathroom'])"
   ]
  },
  {
   "cell_type": "code",
   "execution_count": null,
   "id": "6b5ebc6e",
   "metadata": {},
   "outputs": [],
   "source": [
    "df[df['bathroom'] > 10].sort_values('bathroom', ascending=False)"
   ]
  },
  {
   "cell_type": "code",
   "execution_count": null,
   "id": "00ad3ea2",
   "metadata": {},
   "outputs": [],
   "source": [
    "df.head()"
   ]
  },
  {
   "cell_type": "markdown",
   "id": "2c1af92f",
   "metadata": {},
   "source": [
    "### Super built up area"
   ]
  },
  {
   "cell_type": "code",
   "execution_count": null,
   "id": "9fb9930a",
   "metadata": {},
   "outputs": [],
   "source": [
    "sns.distplot(df['super_built_up_area'])"
   ]
  },
  {
   "cell_type": "code",
   "execution_count": null,
   "id": "102272a6",
   "metadata": {},
   "outputs": [],
   "source": [
    "sns.boxplot(x=df['super_built_up_area'])"
   ]
  },
  {
   "cell_type": "code",
   "execution_count": null,
   "id": "a5a28bc6",
   "metadata": {},
   "outputs": [],
   "source": [
    "df['super_built_up_area'].describe()"
   ]
  },
  {
   "cell_type": "code",
   "execution_count": null,
   "id": "49764dfd",
   "metadata": {},
   "outputs": [],
   "source": [
    "df[df['super_built_up_area'] > 6000]"
   ]
  },
  {
   "cell_type": "markdown",
   "id": "eee03a84",
   "metadata": {},
   "source": [
    "### built up area"
   ]
  },
  {
   "cell_type": "code",
   "execution_count": null,
   "id": "f1e857cc",
   "metadata": {},
   "outputs": [],
   "source": [
    "sns.distplot(df['built_up_area'])"
   ]
  },
  {
   "cell_type": "code",
   "execution_count": null,
   "id": "f83b754d",
   "metadata": {},
   "outputs": [],
   "source": [
    "sns.boxplot(x=df['built_up_area'])"
   ]
  },
  {
   "cell_type": "code",
   "execution_count": null,
   "id": "3a9f25fc",
   "metadata": {},
   "outputs": [],
   "source": [
    "df = df[(df['built_up_area'] != 13500) | (df['built_up_area'] != 26000)]"
   ]
  },
  {
   "cell_type": "code",
   "execution_count": null,
   "id": "48997176",
   "metadata": {},
   "outputs": [],
   "source": [
    "df.shape"
   ]
  },
  {
   "cell_type": "markdown",
   "id": "f947485d",
   "metadata": {},
   "source": [
    "### carpet area"
   ]
  },
  {
   "cell_type": "code",
   "execution_count": null,
   "id": "eed6b946",
   "metadata": {},
   "outputs": [],
   "source": [
    "sns.distplot(df['carpet_area'])"
   ]
  },
  {
   "cell_type": "code",
   "execution_count": null,
   "id": "8e6ede6e",
   "metadata": {},
   "outputs": [],
   "source": [
    "sns.boxplot(x=df['carpet_area'])"
   ]
  },
  {
   "cell_type": "code",
   "execution_count": null,
   "id": "7c48a051",
   "metadata": {},
   "outputs": [],
   "source": [
    "df = df[df['carpet_area'] != 18122]"
   ]
  },
  {
   "cell_type": "code",
   "execution_count": null,
   "id": "8ef84dd0",
   "metadata": {},
   "outputs": [],
   "source": [
    "df.shape"
   ]
  },
  {
   "cell_type": "code",
   "execution_count": null,
   "id": "433392fd",
   "metadata": {},
   "outputs": [],
   "source": [
    "sns.distplot(df['carpet_area'])"
   ]
  },
  {
   "cell_type": "code",
   "execution_count": null,
   "id": "efd1a057",
   "metadata": {},
   "outputs": [],
   "source": [
    "sns.distplot(df['luxury_score'])"
   ]
  },
  {
   "cell_type": "code",
   "execution_count": null,
   "id": "26fde03b",
   "metadata": {},
   "outputs": [],
   "source": [
    "sns.boxplot(x=df['luxury_score'])"
   ]
  },
  {
   "cell_type": "code",
   "execution_count": null,
   "id": "763bf733",
   "metadata": {},
   "outputs": [],
   "source": [
    "df.shape"
   ]
  },
  {
   "cell_type": "code",
   "execution_count": null,
   "id": "4582f9fe",
   "metadata": {},
   "outputs": [],
   "source": [
    "df.head()"
   ]
  },
  {
   "cell_type": "code",
   "execution_count": null,
   "id": "18102cf5",
   "metadata": {},
   "outputs": [],
   "source": [
    "df['Price_Per_sqFeets']= round((df['price']*10000000)/df['area'])"
   ]
  },
  {
   "cell_type": "code",
   "execution_count": null,
   "id": "13a2923d",
   "metadata": {},
   "outputs": [],
   "source": [
    "df.head()"
   ]
  },
  {
   "cell_type": "code",
   "execution_count": null,
   "id": "8e20eeb6",
   "metadata": {},
   "outputs": [],
   "source": [
    "sns.distplot(df['Price_Per_sqFeets'])"
   ]
  },
  {
   "cell_type": "code",
   "execution_count": null,
   "id": "bed49200",
   "metadata": {},
   "outputs": [],
   "source": [
    "sns.boxplot(x=df['Price_Per_sqFeets'])"
   ]
  },
  {
   "cell_type": "code",
   "execution_count": null,
   "id": "54eefcd1",
   "metadata": {},
   "outputs": [],
   "source": [
    "x = df[df['Price_Per_sqFeets'] <= 20000]\n",
    "(x['area']/x['bedRoom']).quantile(0.05)"
   ]
  },
  {
   "cell_type": "code",
   "execution_count": null,
   "id": "08867ff9",
   "metadata": {},
   "outputs": [],
   "source": [
    "df[(df['area']/df['bedRoom']) < 250]"
   ]
  },
  {
   "cell_type": "code",
   "execution_count": null,
   "id": "5a6a1bc9",
   "metadata": {},
   "outputs": [],
   "source": [
    "sns.lmplot(data=df, x='area', y='bedRoom')"
   ]
  },
  {
   "cell_type": "code",
   "execution_count": null,
   "id": "72310e4a",
   "metadata": {},
   "outputs": [],
   "source": [
    "df['area_room_ratio'] = df['area']/df['bedRoom']"
   ]
  },
  {
   "cell_type": "code",
   "execution_count": null,
   "id": "ce19df88",
   "metadata": {},
   "outputs": [],
   "source": [
    "(df[df['area_room_ratio'] < 250])['bedRoom'].value_counts()"
   ]
  },
  {
   "cell_type": "code",
   "execution_count": null,
   "id": "dc7205eb",
   "metadata": {},
   "outputs": [],
   "source": [
    "df = df[df['area_room_ratio'] > 100]"
   ]
  },
  {
   "cell_type": "code",
   "execution_count": null,
   "id": "774a04a8",
   "metadata": {},
   "outputs": [],
   "source": [
    "outliers_df = df[(df['area_room_ratio'] < 250) & (df['bedRoom'] >3)]"
   ]
  },
  {
   "cell_type": "code",
   "execution_count": null,
   "id": "fe44da8c",
   "metadata": {},
   "outputs": [],
   "source": [
    "outliers_df['bedRoom'] = round(outliers_df['bedRoom']/outliers_df['floorNum'])"
   ]
  },
  {
   "cell_type": "code",
   "execution_count": null,
   "id": "de92cc76",
   "metadata": {},
   "outputs": [],
   "source": [
    "df.update(outliers_df)"
   ]
  },
  {
   "cell_type": "code",
   "execution_count": null,
   "id": "e94a5d16",
   "metadata": {},
   "outputs": [],
   "source": [
    "df['area_room_ratio'] = df['area']/df['bedRoom']"
   ]
  },
  {
   "cell_type": "code",
   "execution_count": null,
   "id": "b72eccc0",
   "metadata": {},
   "outputs": [],
   "source": [
    "df[(df['area_room_ratio'] < 250) & (df['bedRoom'] > 4)]"
   ]
  },
  {
   "cell_type": "code",
   "execution_count": null,
   "id": "660c5cb4",
   "metadata": {},
   "outputs": [],
   "source": [
    "df[(df['area_room_ratio'] < 250) & (df['bedRoom'] > 4)].shape"
   ]
  },
  {
   "cell_type": "code",
   "execution_count": null,
   "id": "9e5da5fc",
   "metadata": {},
   "outputs": [],
   "source": [
    "df = df[~((df['area_room_ratio'] < 250) & (df['bedRoom'] > 4))]"
   ]
  },
  {
   "cell_type": "code",
   "execution_count": null,
   "id": "05ebae43",
   "metadata": {},
   "outputs": [],
   "source": [
    "sns.lmplot(data=df, x='area', y='bedRoom')"
   ]
  },
  {
   "cell_type": "code",
   "execution_count": null,
   "id": "5a8d10a1",
   "metadata": {},
   "outputs": [],
   "source": [
    "df.shape"
   ]
  },
  {
   "cell_type": "markdown",
   "id": "7c0e557a",
   "metadata": {},
   "source": [
    "### Missing Values Handle"
   ]
  },
  {
   "cell_type": "code",
   "execution_count": null,
   "id": "486faa79",
   "metadata": {},
   "outputs": [],
   "source": [
    "df.shape"
   ]
  },
  {
   "cell_type": "code",
   "execution_count": null,
   "id": "3ff854ad",
   "metadata": {},
   "outputs": [],
   "source": [
    "df.head()"
   ]
  },
  {
   "cell_type": "code",
   "execution_count": null,
   "id": "738cbc7b",
   "metadata": {},
   "outputs": [],
   "source": [
    "df.isnull().sum()"
   ]
  },
  {
   "cell_type": "markdown",
   "id": "e5d22252",
   "metadata": {},
   "source": [
    "### Built up area"
   ]
  },
  {
   "cell_type": "code",
   "execution_count": null,
   "id": "067da9de",
   "metadata": {},
   "outputs": [],
   "source": [
    "sns.scatterplot(x=df['built_up_area'],y=df['super_built_up_area'])"
   ]
  },
  {
   "cell_type": "code",
   "execution_count": null,
   "id": "c6d4589f",
   "metadata": {},
   "outputs": [],
   "source": [
    "sns.scatterplot(x=df['built_up_area'],y=df['carpet_area'])"
   ]
  },
  {
   "cell_type": "code",
   "execution_count": null,
   "id": "94510d1e",
   "metadata": {},
   "outputs": [],
   "source": [
    "all_present_df = df[~((df['super_built_up_area'].isnull()) | (df['built_up_area'].isnull()) | (df['carpet_area'].isnull()))]"
   ]
  },
  {
   "cell_type": "code",
   "execution_count": null,
   "id": "5a2269a9",
   "metadata": {},
   "outputs": [],
   "source": [
    "all_present_df.shape"
   ]
  },
  {
   "cell_type": "code",
   "execution_count": null,
   "id": "0421a45e",
   "metadata": {},
   "outputs": [],
   "source": [
    "super_to_built_up_ratio = (all_present_df['super_built_up_area']/all_present_df['built_up_area']).median()"
   ]
  },
  {
   "cell_type": "code",
   "execution_count": null,
   "id": "f356230d",
   "metadata": {},
   "outputs": [],
   "source": [
    "carpet_to_built_up_ratio = (all_present_df['carpet_area']/all_present_df['built_up_area']).median()"
   ]
  },
  {
   "cell_type": "code",
   "execution_count": null,
   "id": "cf88909b",
   "metadata": {},
   "outputs": [],
   "source": [
    "print(super_to_built_up_ratio,carpet_to_built_up_ratio)"
   ]
  },
  {
   "cell_type": "code",
   "execution_count": null,
   "id": "9929a588",
   "metadata": {},
   "outputs": [],
   "source": [
    "# both present built up null\n",
    "\n",
    "sbc_df = df[~(df['super_built_up_area'].isnull()) & (df['built_up_area'].isnull()) & ~(df['carpet_area'].isnull())]"
   ]
  },
  {
   "cell_type": "code",
   "execution_count": null,
   "id": "31d6a479",
   "metadata": {},
   "outputs": [],
   "source": [
    "sbc_df['built_up_area'].fillna(round(((sbc_df['super_built_up_area']/1.105) + (sbc_df['carpet_area']/0.9))/2), inplace=True)"
   ]
  },
  {
   "cell_type": "code",
   "execution_count": null,
   "id": "b8dd84fb",
   "metadata": {},
   "outputs": [],
   "source": [
    "sbc_df"
   ]
  },
  {
   "cell_type": "code",
   "execution_count": null,
   "id": "1ddb8e5a",
   "metadata": {},
   "outputs": [],
   "source": [
    "df.update(sbc_df)"
   ]
  },
  {
   "cell_type": "code",
   "execution_count": null,
   "id": "2973a220",
   "metadata": {},
   "outputs": [],
   "source": [
    "df.isnull().sum()"
   ]
  },
  {
   "cell_type": "code",
   "execution_count": null,
   "id": "21f37db8",
   "metadata": {},
   "outputs": [],
   "source": [
    "# super built up area present, Carpet_area is null, bult_up_area is null\n",
    "sb_df = df[~(df['super_built_up_area'].isnull()) & (df['built_up_area'].isnull()) & (df['carpet_area'].isnull())]"
   ]
  },
  {
   "cell_type": "code",
   "execution_count": null,
   "id": "72e4d555",
   "metadata": {},
   "outputs": [],
   "source": [
    "sb_df.head()"
   ]
  },
  {
   "cell_type": "code",
   "execution_count": null,
   "id": "dc0b46af",
   "metadata": {},
   "outputs": [],
   "source": [
    "sb_df['built_up_area'].fillna(round(sb_df['super_built_up_area']/1.105), inplace=True)"
   ]
  },
  {
   "cell_type": "code",
   "execution_count": null,
   "id": "12c88b4f",
   "metadata": {},
   "outputs": [],
   "source": [
    "df.update(sb_df)"
   ]
  },
  {
   "cell_type": "code",
   "execution_count": null,
   "id": "e4569db1",
   "metadata": {},
   "outputs": [],
   "source": [
    "df.isnull().sum()"
   ]
  },
  {
   "cell_type": "code",
   "execution_count": null,
   "id": "5807de11",
   "metadata": {},
   "outputs": [],
   "source": [
    "ca_df = df[(df['super_built_up_area'].isnull()) & (df['built_up_area'].isnull()) & ~(df['carpet_area'].isnull())]"
   ]
  },
  {
   "cell_type": "code",
   "execution_count": null,
   "id": "6c0ac967",
   "metadata": {},
   "outputs": [],
   "source": [
    "ca_df"
   ]
  },
  {
   "cell_type": "code",
   "execution_count": null,
   "id": "97197cb5",
   "metadata": {},
   "outputs": [],
   "source": [
    "ca_df['built_up_area'].fillna(round(ca_df['carpet_area']/0.9), inplace=True)"
   ]
  },
  {
   "cell_type": "code",
   "execution_count": null,
   "id": "e81016f5",
   "metadata": {},
   "outputs": [],
   "source": [
    "ca_df"
   ]
  },
  {
   "cell_type": "code",
   "execution_count": null,
   "id": "adb9fb09",
   "metadata": {},
   "outputs": [],
   "source": [
    "df.update(ca_df)"
   ]
  },
  {
   "cell_type": "code",
   "execution_count": null,
   "id": "c47d9628",
   "metadata": {},
   "outputs": [],
   "source": [
    "df.isnull().sum()"
   ]
  },
  {
   "cell_type": "code",
   "execution_count": null,
   "id": "95188bd2",
   "metadata": {},
   "outputs": [],
   "source": [
    "sns.scatterplot(x=df['built_up_area'],y=df['price'])"
   ]
  },
  {
   "cell_type": "code",
   "execution_count": null,
   "id": "d3e1aba7",
   "metadata": {},
   "outputs": [],
   "source": [
    "anamoly_df = df[(df['built_up_area'] < 2000) & (df['price'] > 2.5)][['price','area','built_up_area']]"
   ]
  },
  {
   "cell_type": "code",
   "execution_count": null,
   "id": "2d8645ba",
   "metadata": {},
   "outputs": [],
   "source": [
    "anamoly_df.shape"
   ]
  },
  {
   "cell_type": "code",
   "execution_count": null,
   "id": "5edfd707",
   "metadata": {},
   "outputs": [],
   "source": [
    "anamoly_df['built_up_area'] = anamoly_df['area']"
   ]
  },
  {
   "cell_type": "code",
   "execution_count": null,
   "id": "3cacf648",
   "metadata": {},
   "outputs": [],
   "source": [
    "anamoly_df"
   ]
  },
  {
   "cell_type": "code",
   "execution_count": null,
   "id": "a55ea60e",
   "metadata": {},
   "outputs": [],
   "source": [
    "df.update(anamoly_df)"
   ]
  },
  {
   "cell_type": "code",
   "execution_count": null,
   "id": "15246359",
   "metadata": {},
   "outputs": [],
   "source": [
    "sns.scatterplot(x = df['built_up_area'], y= df['price'])"
   ]
  },
  {
   "cell_type": "code",
   "execution_count": null,
   "id": "d4c67084",
   "metadata": {},
   "outputs": [],
   "source": [
    "df.head()"
   ]
  },
  {
   "cell_type": "code",
   "execution_count": null,
   "id": "73c20099",
   "metadata": {},
   "outputs": [],
   "source": [
    "df.drop(columns=['area','areaWithType','super_built_up_area','carpet_area','area_room_ratio'], inplace=True)"
   ]
  },
  {
   "cell_type": "code",
   "execution_count": null,
   "id": "6ce3b903",
   "metadata": {},
   "outputs": [],
   "source": [
    "df.head()"
   ]
  },
  {
   "cell_type": "code",
   "execution_count": null,
   "id": "517e621f",
   "metadata": {},
   "outputs": [],
   "source": [
    "df.isnull().sum()"
   ]
  },
  {
   "cell_type": "code",
   "execution_count": null,
   "id": "ffb55a7a",
   "metadata": {},
   "outputs": [],
   "source": [
    "df[df['floorNum'].isnull()]"
   ]
  },
  {
   "cell_type": "code",
   "execution_count": null,
   "id": "3274f52f",
   "metadata": {},
   "outputs": [],
   "source": [
    "df[df['Property_type'] == 'house']['floorNum'].median()"
   ]
  },
  {
   "cell_type": "code",
   "execution_count": null,
   "id": "bc249405",
   "metadata": {},
   "outputs": [],
   "source": [
    "df['floorNum'].fillna(2.0, inplace=True)"
   ]
  },
  {
   "cell_type": "code",
   "execution_count": null,
   "id": "d28b6325",
   "metadata": {},
   "outputs": [],
   "source": [
    "df.isnull().sum()"
   ]
  },
  {
   "cell_type": "markdown",
   "id": "89cc36a1",
   "metadata": {},
   "source": [
    "### Facing"
   ]
  },
  {
   "cell_type": "code",
   "execution_count": null,
   "id": "7ec28678",
   "metadata": {},
   "outputs": [],
   "source": [
    "df['facing'].value_counts().plot(kind='pie',autopct='%0.2f%%')"
   ]
  },
  {
   "cell_type": "code",
   "execution_count": null,
   "id": "0feb8aca",
   "metadata": {},
   "outputs": [],
   "source": [
    "df.drop(columns=['facing'], inplace=True)"
   ]
  },
  {
   "cell_type": "code",
   "execution_count": null,
   "id": "9f98274c",
   "metadata": {},
   "outputs": [],
   "source": [
    "df.head()"
   ]
  },
  {
   "cell_type": "code",
   "execution_count": null,
   "id": "1ff75f3d",
   "metadata": {},
   "outputs": [],
   "source": [
    "df.isnull().sum()"
   ]
  },
  {
   "cell_type": "code",
   "execution_count": null,
   "id": "210205f2",
   "metadata": {},
   "outputs": [],
   "source": [
    "df.isnull().sum()"
   ]
  },
  {
   "cell_type": "code",
   "execution_count": null,
   "id": "42ca024a",
   "metadata": {},
   "outputs": [],
   "source": [
    "df[df['agePossession'] == 'Undefined']"
   ]
  },
  {
   "cell_type": "code",
   "execution_count": null,
   "id": "b4a49fbf",
   "metadata": {},
   "outputs": [],
   "source": [
    "def mode_based_imputation(row):\n",
    "    if row['agePossession'] == 'Undefined':\n",
    "        mode_value = df[(df['sector'] == row['sector']) & (df['Property_type'] == row['Property_type'])]['agePossession'].mode()\n",
    "        if not mode_value.empty:\n",
    "            return mode_value.iloc[0]\n",
    "        else:\n",
    "            return np.nan\n",
    "    else:\n",
    "        return row['agePossession']"
   ]
  },
  {
   "cell_type": "code",
   "execution_count": null,
   "id": "8c1a6971",
   "metadata": {},
   "outputs": [],
   "source": [
    "df['agePossession'] = df.apply(mode_based_imputation,axis=1)"
   ]
  },
  {
   "cell_type": "code",
   "execution_count": null,
   "id": "a0e730e8",
   "metadata": {},
   "outputs": [],
   "source": [
    "df['agePossession'].value_counts()"
   ]
  },
  {
   "cell_type": "code",
   "execution_count": null,
   "id": "dc035452",
   "metadata": {},
   "outputs": [],
   "source": [
    "def mode_based_imputation2(row):\n",
    "    if row['agePossession'] == 'Undefined':\n",
    "        mode_value = df[(df['sector'] == row['sector'])]['agePossession'].mode()\n",
    "        if not mode_value.empty:\n",
    "            return mode_value.iloc[0]\n",
    "        else:\n",
    "            return np.nan\n",
    "    else:\n",
    "        return row['agePossession']"
   ]
  },
  {
   "cell_type": "code",
   "execution_count": null,
   "id": "6f0481b6",
   "metadata": {},
   "outputs": [],
   "source": [
    "df['agePossession'] = df.apply(mode_based_imputation2, axis=1)"
   ]
  },
  {
   "cell_type": "code",
   "execution_count": null,
   "id": "64029368",
   "metadata": {},
   "outputs": [],
   "source": [
    "df['agePossession'].value_counts()"
   ]
  },
  {
   "cell_type": "code",
   "execution_count": null,
   "id": "7b3fbcaf",
   "metadata": {},
   "outputs": [],
   "source": [
    "def mode_based_imputation3(row):\n",
    "    if row['agePossession'] == 'Undefined':\n",
    "        mode_value = df[(df['Property_type'] == row['Property_type'])]['agePossession'].mode()\n",
    "        if not mode_value.empty:\n",
    "            return mode_value.iloc[0]\n",
    "        else:\n",
    "            return np.nan\n",
    "    else:\n",
    "        return row['agePossession']"
   ]
  },
  {
   "cell_type": "code",
   "execution_count": null,
   "id": "bdbbbefd",
   "metadata": {},
   "outputs": [],
   "source": [
    "df['agePossession'] = df.apply(mode_based_imputation3,axis=1)"
   ]
  },
  {
   "cell_type": "code",
   "execution_count": null,
   "id": "ead743e1",
   "metadata": {},
   "outputs": [],
   "source": [
    "df['agePossession'].value_counts()"
   ]
  },
  {
   "cell_type": "code",
   "execution_count": null,
   "id": "49328c16",
   "metadata": {},
   "outputs": [],
   "source": [
    "df.isnull().sum()"
   ]
  },
  {
   "cell_type": "markdown",
   "id": "73b9ead5",
   "metadata": {},
   "source": [
    "### Feature Selection"
   ]
  },
  {
   "cell_type": "code",
   "execution_count": null,
   "id": "507f65c7",
   "metadata": {},
   "outputs": [],
   "source": [
    "df.shape"
   ]
  },
  {
   "cell_type": "code",
   "execution_count": null,
   "id": "1576b134",
   "metadata": {},
   "outputs": [],
   "source": [
    "df.head()"
   ]
  },
  {
   "cell_type": "code",
   "execution_count": null,
   "id": "8d3e869f",
   "metadata": {},
   "outputs": [],
   "source": [
    "train_df = df.drop(columns=['society','Price_Per_sqFeets'])"
   ]
  },
  {
   "cell_type": "code",
   "execution_count": null,
   "id": "14bf4403",
   "metadata": {},
   "outputs": [],
   "source": [
    "train_df.head()"
   ]
  },
  {
   "cell_type": "code",
   "execution_count": null,
   "id": "0dc13daf",
   "metadata": {},
   "outputs": [],
   "source": [
    "plt.figure(figsize=(15,6))\n",
    "sns.heatmap(train_df.corr(), annot=True)"
   ]
  },
  {
   "cell_type": "code",
   "execution_count": null,
   "id": "a0816e62",
   "metadata": {},
   "outputs": [],
   "source": [
    "train_df.corr()['price'].sort_values(ascending=False)"
   ]
  },
  {
   "cell_type": "markdown",
   "id": "997fc292",
   "metadata": {},
   "source": [
    "### luxury score"
   ]
  },
  {
   "cell_type": "code",
   "execution_count": null,
   "id": "4afed20c",
   "metadata": {},
   "outputs": [],
   "source": [
    "sns.boxplot(df['luxury_score'], orient='h')"
   ]
  },
  {
   "cell_type": "code",
   "execution_count": null,
   "id": "5baa0aa6",
   "metadata": {},
   "outputs": [],
   "source": [
    "def categorize_luxury(score):\n",
    "    if 0 <= score <50:\n",
    "        return \"Low\"\n",
    "    elif 50 <= score < 150:\n",
    "        return \"Medium\"\n",
    "    elif 150 <= score <= 175:\n",
    "        return \"High\"\n",
    "    else:\n",
    "        return None"
   ]
  },
  {
   "cell_type": "code",
   "execution_count": null,
   "id": "4c648937",
   "metadata": {},
   "outputs": [],
   "source": [
    "train_df['luxury_score'] = train_df['luxury_score'].apply(categorize_luxury)"
   ]
  },
  {
   "cell_type": "code",
   "execution_count": null,
   "id": "106b5574",
   "metadata": {},
   "outputs": [],
   "source": [
    "train_df.head()"
   ]
  },
  {
   "cell_type": "markdown",
   "id": "0dfc09d9",
   "metadata": {},
   "source": [
    "### floorNum"
   ]
  },
  {
   "cell_type": "code",
   "execution_count": null,
   "id": "b169b6e9",
   "metadata": {},
   "outputs": [],
   "source": [
    "sns.boxplot(df['floorNum'], orient='h')"
   ]
  },
  {
   "cell_type": "code",
   "execution_count": null,
   "id": "36ef4f06",
   "metadata": {},
   "outputs": [],
   "source": [
    "df['floorNum'].value_counts()"
   ]
  },
  {
   "cell_type": "code",
   "execution_count": null,
   "id": "196ea61c",
   "metadata": {},
   "outputs": [],
   "source": [
    "def categorize_floor(floor):\n",
    "    if 0 <= floor <=2:\n",
    "        return \"Low Floor\"\n",
    "    elif 3 <= floor <= 10:\n",
    "        return \"Mid Floor\"\n",
    "    elif 11 <= floor <= 51:\n",
    "        return \"High Floor\"\n",
    "    else:\n",
    "        return None"
   ]
  },
  {
   "cell_type": "code",
   "execution_count": null,
   "id": "b73e55d0",
   "metadata": {},
   "outputs": [],
   "source": [
    "train_df['floor_category'] = train_df['floorNum'].apply(categorize_floor)"
   ]
  },
  {
   "cell_type": "code",
   "execution_count": null,
   "id": "0eba9f1a",
   "metadata": {},
   "outputs": [],
   "source": [
    "train_df.head()"
   ]
  },
  {
   "cell_type": "code",
   "execution_count": null,
   "id": "34a59c89",
   "metadata": {},
   "outputs": [],
   "source": [
    "train_df.drop(columns=['floorNum','luxury_score'], inplace=True)"
   ]
  },
  {
   "cell_type": "code",
   "execution_count": null,
   "id": "83365975",
   "metadata": {},
   "outputs": [],
   "source": [
    "train_df.head()"
   ]
  },
  {
   "cell_type": "code",
   "execution_count": null,
   "id": "5bbe1949",
   "metadata": {},
   "outputs": [],
   "source": [
    "from sklearn.preprocessing import OrdinalEncoder\n",
    "\n",
    "# Create a copy of the original data for Label encoding\n",
    "data_label_encoded = train_df.copy()\n",
    "\n",
    "categorical_cols = train_df.select_dtypes(include=['object']).columns\n",
    "\n",
    "# Apply Label encoding to categorical columns\n",
    "for col in categorical_cols:\n",
    "    oe = OrdinalEncoder()\n",
    "    data_label_encoded[col] = oe.fit_transform(data_label_encoded[[col]])\n",
    "    print(oe.categories_)\n",
    "    \n",
    "# Splitting the dataset into training and testing sets\n",
    "x_label = data_label_encoded.drop('price', axis=1)\n",
    "y_label = data_label_encoded['price']"
   ]
  },
  {
   "cell_type": "code",
   "execution_count": null,
   "id": "031a7d13",
   "metadata": {},
   "outputs": [],
   "source": [
    "x_label"
   ]
  },
  {
   "cell_type": "markdown",
   "id": "7dcf57c3",
   "metadata": {},
   "source": [
    "## Feature Selection Technique-1 - Correlation Analysis"
   ]
  },
  {
   "cell_type": "code",
   "execution_count": null,
   "id": "7d670950",
   "metadata": {},
   "outputs": [],
   "source": [
    "plt.figure(figsize=(15,6))\n",
    "sns.heatmap(data_label_encoded.corr(), annot=True)"
   ]
  },
  {
   "cell_type": "code",
   "execution_count": null,
   "id": "8faf1c7c",
   "metadata": {},
   "outputs": [],
   "source": [
    "f1_df1 = data_label_encoded.corr()['price'].iloc[1:].to_frame().reset_index().rename(columns={'index':'feature','price':'corr_coeff'})\n",
    "f1_df1"
   ]
  },
  {
   "cell_type": "markdown",
   "id": "34666fe7",
   "metadata": {},
   "source": [
    "### Technique 2 - Random Forest Feature Importance"
   ]
  },
  {
   "cell_type": "code",
   "execution_count": null,
   "id": "169686e5",
   "metadata": {},
   "outputs": [],
   "source": [
    "from sklearn.ensemble import RandomForestRegressor\n",
    "\n",
    "# Train a Random Forest regression on lebel encoded data\n",
    "rf_label = RandomForestRegressor(n_estimators=100, random_state=42)\n",
    "rf_label.fit(x_label,y_label)\n",
    "\n",
    "# Extract feature importance scores for Label encoded data\n",
    "fi_df2 = pd.DataFrame({\n",
    "    'feature':x_label.columns,\n",
    "    'rf_importance': rf_label.feature_importances_\n",
    "}).sort_values(by='rf_importance', ascending=False)"
   ]
  },
  {
   "cell_type": "code",
   "execution_count": null,
   "id": "a3bec11c",
   "metadata": {},
   "outputs": [],
   "source": [
    "fi_df2"
   ]
  },
  {
   "cell_type": "markdown",
   "id": "1178fa49",
   "metadata": {},
   "source": [
    "### Technique 3 - Gradient Boosting Feature importances"
   ]
  },
  {
   "cell_type": "code",
   "execution_count": null,
   "id": "d91feebb",
   "metadata": {},
   "outputs": [],
   "source": [
    "from sklearn.ensemble import GradientBoostingRegressor\n",
    "\n",
    "# Train a Gradient Boosting Regressor on Label encoded data\n",
    "gb_label = GradientBoostingRegressor()\n",
    "gb_label.fit(x_label,y_label)\n",
    "\n",
    "# Extract feature importance scores for label encoded data\n",
    "fi_df3 = pd.DataFrame({\n",
    "    'feature': x_label.columns,\n",
    "    'gb_importance': gb_label.feature_importances_\n",
    "}).sort_values(by='gb_importance', ascending=False)\n",
    "\n",
    "fi_df3"
   ]
  },
  {
   "cell_type": "markdown",
   "id": "db8a1ae8",
   "metadata": {},
   "source": [
    "### Technique - 4 - Permutation Importance"
   ]
  },
  {
   "cell_type": "code",
   "execution_count": null,
   "id": "95b93556",
   "metadata": {},
   "outputs": [],
   "source": [
    "from sklearn.inspection import permutation_importance\n",
    "from sklearn.model_selection import train_test_split\n",
    "\n",
    "x_train_label, x_test_label, y_train_label, y_test_label = train_test_split(x_label, y_label, test_size=0.2, random_state=42)\n",
    "\n",
    "# Train a Random Forest Regrassor on label encoded data\n",
    "rf_label = RandomForestRegressor(n_estimators=100, random_state=42)\n",
    "rf_label.fit(x_train_label, y_train_label)\n",
    "\n",
    "# Calculate Permutation Importance\n",
    "perm_importance = permutation_importance(rf_label, x_test_label,y_test_label, n_repeats=30, random_state=42)\n",
    "\n",
    "# Organize results into a DataFrame\n",
    "\n",
    "fi_df4 = pd.DataFrame({\n",
    "    'feature': x_label.columns,\n",
    "    'permutation_importance': perm_importance.importances_mean\n",
    "}).sort_values(by='permutation_importance', ascending=False)"
   ]
  },
  {
   "cell_type": "code",
   "execution_count": null,
   "id": "33018e7c",
   "metadata": {},
   "outputs": [],
   "source": [
    "fi_df4"
   ]
  },
  {
   "cell_type": "markdown",
   "id": "2569e925",
   "metadata": {},
   "source": [
    "### Technique 5 - LASSO"
   ]
  },
  {
   "cell_type": "code",
   "execution_count": null,
   "id": "064f4012",
   "metadata": {},
   "outputs": [],
   "source": [
    "from sklearn.linear_model import Lasso\n",
    "from sklearn.preprocessing import StandardScaler\n",
    "\n",
    "# Standardize the features\n",
    "scaler = StandardScaler()\n",
    "x_scaled = scaler.fit_transform(x_label)\n",
    "\n",
    "# Train a LASSO regression model\n",
    "# We'll use a relatively small value for alpha (the regularization strength) for demonstration purposes\n",
    "lasso = Lasso(alpha=0.01, random_state=42)\n",
    "lasso.fit(x_label, y_label)\n",
    "\n",
    "#Extract coefficients\n",
    "fi_df5 = pd.DataFrame({\n",
    "    'feature': x_label.columns,\n",
    "    'lasso_coeff': lasso.coef_\n",
    "}).sort_values(by='lasso_coeff', ascending=False)\n",
    "\n",
    "fi_df5"
   ]
  },
  {
   "cell_type": "markdown",
   "id": "c648490b",
   "metadata": {},
   "source": [
    "### Technique 6 - RFE"
   ]
  },
  {
   "cell_type": "code",
   "execution_count": null,
   "id": "32313895",
   "metadata": {},
   "outputs": [],
   "source": [
    "from sklearn.feature_selection import RFE\n",
    "\n",
    "# Initialize the base estimator\n",
    "estimator = RandomForestRegressor()\n",
    "\n",
    "# Apply RFE on the label-encoded and standardized training data\n",
    "selector_label = RFE(estimator, n_features_to_select=x_label.shape[1], step=1)\n",
    "selector_label = selector_label.fit(x_label, y_label)\n",
    "\n",
    "# Get the selected features based on REF\n",
    "selected_features = x_label.columns[selector_label.support_]\n",
    "\n",
    "# Extract the coefficients for the selected features from the underlying Linearregression model\n",
    "selected_coefficients = selector_label.estimator_.feature_importances_\n",
    "\n",
    "# Organize the results into a DataFrame\n",
    "fi_df6 = pd.DataFrame({\n",
    "    'feature': selected_features,\n",
    "    'rfe_score': selected_coefficients\n",
    "}).sort_values(by='rfe_score', ascending=False)\n",
    "\n",
    "fi_df6"
   ]
  },
  {
   "cell_type": "markdown",
   "id": "4484cd3a",
   "metadata": {},
   "source": [
    "### Technique 7 - Linear Regression Weights"
   ]
  },
  {
   "cell_type": "code",
   "execution_count": null,
   "id": "45bca3ee",
   "metadata": {},
   "outputs": [],
   "source": [
    "# Train a linear regression model on the Label encoded and standardized training data\n",
    "from sklearn.linear_model import LinearRegression\n",
    "\n",
    "lin_reg = LinearRegression()\n",
    "lin_reg.fit(x_scaled, y_label)\n",
    "\n",
    "# Extract coefficients\n",
    "fi_df7 = pd.DataFrame({\n",
    "    'feature': x_label.columns,\n",
    "    'reg_coeffs': lin_reg.coef_\n",
    "}).sort_values(by='reg_coeffs', ascending=False)\n",
    "\n",
    "fi_df7"
   ]
  },
  {
   "cell_type": "code",
   "execution_count": null,
   "id": "ea2bb5b6",
   "metadata": {},
   "outputs": [],
   "source": [
    "final_fi_df = f1_df1.merge(fi_df2, on='feature').merge(fi_df3, on='feature').merge(fi_df4, on='feature').merge(fi_df5, on='feature').merge(fi_df6, on='feature').merge(fi_df7, on = 'feature').set_index('feature')"
   ]
  },
  {
   "cell_type": "code",
   "execution_count": null,
   "id": "db069d2b",
   "metadata": {},
   "outputs": [],
   "source": [
    "final_fi_df"
   ]
  },
  {
   "cell_type": "code",
   "execution_count": null,
   "id": "016bcf53",
   "metadata": {},
   "outputs": [],
   "source": [
    "# normalize the score\n",
    "final_fi_df = final_fi_df.divide(final_fi_df.sum(axis=0), axis=1)"
   ]
  },
  {
   "cell_type": "code",
   "execution_count": null,
   "id": "5983fd40",
   "metadata": {},
   "outputs": [],
   "source": [
    "final_fi_df[['rf_importance','gb_importance','permutation_importance','rfe_score']].mean(axis=1).sort_values(ascending=False)"
   ]
  },
  {
   "cell_type": "code",
   "execution_count": null,
   "id": "109b95f5",
   "metadata": {
    "scrolled": true
   },
   "outputs": [],
   "source": [
    "# to drop pooja room, study room, others\n",
    "x_label"
   ]
  },
  {
   "cell_type": "code",
   "execution_count": null,
   "id": "42f2418d",
   "metadata": {},
   "outputs": [],
   "source": [
    "# with all the cols\n",
    "from sklearn.model_selection import cross_val_score\n",
    "\n",
    "rf = RandomForestRegressor(n_estimators=100, random_state=42)\n",
    "\n",
    "scorrs = cross_val_score(rf, x_label, y_label, cv=5, scoring='r2')"
   ]
  },
  {
   "cell_type": "code",
   "execution_count": null,
   "id": "183310ee",
   "metadata": {},
   "outputs": [],
   "source": [
    "scorrs.mean()"
   ]
  },
  {
   "cell_type": "code",
   "execution_count": null,
   "id": "3201fc7c",
   "metadata": {},
   "outputs": [],
   "source": [
    "scores = cross_val_score(rf, x_label.drop(columns=['pooja room','study room','others']), y_label, cv=5, scoring='r2')"
   ]
  },
  {
   "cell_type": "code",
   "execution_count": null,
   "id": "330cbabe",
   "metadata": {},
   "outputs": [],
   "source": [
    "scores.mean()"
   ]
  },
  {
   "cell_type": "code",
   "execution_count": null,
   "id": "e6267276",
   "metadata": {},
   "outputs": [],
   "source": [
    "export_df = x_label.drop(columns=['pooja room','study room','others'])\n",
    "export_df['price'] = y_label"
   ]
  },
  {
   "cell_type": "code",
   "execution_count": null,
   "id": "427fa666",
   "metadata": {},
   "outputs": [],
   "source": [
    "final_df = train_df.drop(columns=['pooja room','study room','others'])\n",
    "final_df['price'] =y_label"
   ]
  },
  {
   "cell_type": "code",
   "execution_count": null,
   "id": "bb2a3c20",
   "metadata": {},
   "outputs": [],
   "source": [
    "final_df"
   ]
  },
  {
   "cell_type": "code",
   "execution_count": null,
   "id": "d11763cf",
   "metadata": {},
   "outputs": [],
   "source": [
    "final_df['luxury_category'] = df['luxury_score'].apply(categorize_luxury)"
   ]
  },
  {
   "cell_type": "code",
   "execution_count": null,
   "id": "15ec7d6e",
   "metadata": {
    "scrolled": true
   },
   "outputs": [],
   "source": [
    "final_df"
   ]
  },
  {
   "cell_type": "code",
   "execution_count": null,
   "id": "450a096a",
   "metadata": {},
   "outputs": [],
   "source": [
    "final_df.isnull().sum()"
   ]
  },
  {
   "cell_type": "markdown",
   "id": "ef0c817e",
   "metadata": {},
   "source": [
    "### Model Train and Select"
   ]
  },
  {
   "cell_type": "code",
   "execution_count": null,
   "id": "a07f9fb5",
   "metadata": {},
   "outputs": [],
   "source": [
    "final_df.head()"
   ]
  },
  {
   "cell_type": "code",
   "execution_count": null,
   "id": "83581d62",
   "metadata": {},
   "outputs": [],
   "source": [
    "final_df.info()"
   ]
  },
  {
   "cell_type": "code",
   "execution_count": null,
   "id": "0399fef1",
   "metadata": {},
   "outputs": [],
   "source": [
    "final_df['furnishing_type'].value_counts()"
   ]
  },
  {
   "cell_type": "code",
   "execution_count": null,
   "id": "d91ed92e",
   "metadata": {},
   "outputs": [],
   "source": [
    "# 2 -> unfurnished\n",
    "# 0 -> semifurnished\n",
    "# 1 -> furnished\n",
    "final_df['furnishing_type'] = final_df['furnishing_type'].replace({2.0:'unfurnished',0.0:'semifurnished',1.0:'furnished'})"
   ]
  },
  {
   "cell_type": "code",
   "execution_count": null,
   "id": "705dba8f",
   "metadata": {},
   "outputs": [],
   "source": [
    "final_df.head()"
   ]
  },
  {
   "cell_type": "code",
   "execution_count": null,
   "id": "b2da31ad",
   "metadata": {},
   "outputs": [],
   "source": [
    "X = final_df.drop(columns=['price'])\n",
    "y = final_df['price']"
   ]
  },
  {
   "cell_type": "code",
   "execution_count": null,
   "id": "15996e23",
   "metadata": {},
   "outputs": [],
   "source": [
    "# Applying the log1p transformation to the target variable\n",
    "y_transformed = np.log1p(y)"
   ]
  },
  {
   "cell_type": "code",
   "execution_count": null,
   "id": "cf857fa5",
   "metadata": {},
   "outputs": [],
   "source": [
    "X.isnull().sum()"
   ]
  },
  {
   "cell_type": "markdown",
   "id": "a517f036",
   "metadata": {},
   "source": [
    "### Ordinal Encoding"
   ]
  },
  {
   "cell_type": "code",
   "execution_count": null,
   "id": "4eeb02e8",
   "metadata": {},
   "outputs": [],
   "source": [
    "columns_to_encode = ['Property_type','sector', 'balcony', 'agePossession', 'furnishing_type', 'luxury_category', 'floor_category']"
   ]
  },
  {
   "cell_type": "code",
   "execution_count": null,
   "id": "05b6dfb3",
   "metadata": {},
   "outputs": [],
   "source": [
    "# Creating a column transformer for preprocessing\n",
    "preprocessor = ColumnTransformer(\n",
    "    transformers=[\n",
    "        ('num', StandardScaler(), ['bedRoom', 'bathroom', 'built_up_area', 'servant room', 'store room']),\n",
    "        ('cat', OrdinalEncoder(), columns_to_encode)\n",
    "    ], \n",
    "    remainder='passthrough'\n",
    ")"
   ]
  },
  {
   "cell_type": "code",
   "execution_count": null,
   "id": "7d54aa51",
   "metadata": {},
   "outputs": [],
   "source": [
    "# Creating a pipeline\n",
    "pipeline = Pipeline([\n",
    "    ('preprocessor', preprocessor),\n",
    "    ('regressor', LinearRegression())\n",
    "])"
   ]
  },
  {
   "cell_type": "code",
   "execution_count": null,
   "id": "d1964a83",
   "metadata": {
    "scrolled": false
   },
   "outputs": [],
   "source": [
    "# K-fold cross-validation\n",
    "kfold = KFold(n_splits=10, shuffle=True, random_state=42)\n",
    "scores = cross_val_score(pipeline, X, y_transformed, cv=kfold, scoring='r2')"
   ]
  },
  {
   "cell_type": "code",
   "execution_count": null,
   "id": "e56f149e",
   "metadata": {},
   "outputs": [],
   "source": [
    "scores.mean(),scores.std()"
   ]
  },
  {
   "cell_type": "code",
   "execution_count": null,
   "id": "5d2e1b72",
   "metadata": {},
   "outputs": [],
   "source": [
    "X_train, X_test, y_train, y_test = train_test_split(X,y_transformed,test_size=0.2,random_state=42)"
   ]
  },
  {
   "cell_type": "code",
   "execution_count": null,
   "id": "c1cc86ee",
   "metadata": {},
   "outputs": [],
   "source": [
    "pipeline.fit(X_train,y_train)"
   ]
  },
  {
   "cell_type": "code",
   "execution_count": null,
   "id": "1fbcc89d",
   "metadata": {},
   "outputs": [],
   "source": [
    "y_pred = pipeline.predict(X_test)"
   ]
  },
  {
   "cell_type": "code",
   "execution_count": null,
   "id": "1aae4a7c",
   "metadata": {},
   "outputs": [],
   "source": [
    "y_pred = np.expm1(y_pred)"
   ]
  },
  {
   "cell_type": "code",
   "execution_count": null,
   "id": "fcc15b04",
   "metadata": {},
   "outputs": [],
   "source": [
    "mean_absolute_error(np.expm1(y_test),y_pred)"
   ]
  },
  {
   "cell_type": "code",
   "execution_count": null,
   "id": "2051ad70",
   "metadata": {},
   "outputs": [],
   "source": [
    "def scorer(model_name, model):\n",
    "    \n",
    "    output = []\n",
    "    \n",
    "    output.append(model_name)\n",
    "    \n",
    "    pipeline = Pipeline([\n",
    "        ('preprocessor', preprocessor),\n",
    "        ('regressor', model)\n",
    "    ])\n",
    "    \n",
    "    # K-fold cross-validation\n",
    "    kfold = KFold(n_splits=10, shuffle=True, random_state=42)\n",
    "    scores = cross_val_score(pipeline, X, y_transformed, cv=kfold, scoring='r2')\n",
    "    \n",
    "    output.append(scores.mean())\n",
    "    \n",
    "    X_train, X_test, y_train, y_test = train_test_split(X,y_transformed,test_size=0.2,random_state=42)\n",
    "    \n",
    "    pipeline.fit(X_train,y_train)\n",
    "    \n",
    "    y_pred = pipeline.predict(X_test)\n",
    "    \n",
    "    y_pred = np.expm1(y_pred)\n",
    "    \n",
    "    output.append(mean_absolute_error(np.expm1(y_test),y_pred))\n",
    "    \n",
    "    return output\n",
    "    "
   ]
  },
  {
   "cell_type": "code",
   "execution_count": null,
   "id": "dca9553e",
   "metadata": {},
   "outputs": [],
   "source": [
    "model_dict = {\n",
    "    'linear_reg':LinearRegression(),\n",
    "    'svr':SVR(),\n",
    "    'ridge':Ridge(),\n",
    "    'LASSO':Lasso(),\n",
    "    'decision tree': DecisionTreeRegressor(),\n",
    "    'random forest':RandomForestRegressor(),\n",
    "    'extra trees': ExtraTreesRegressor(),\n",
    "    'gradient boosting': GradientBoostingRegressor(),\n",
    "    'adaboost': AdaBoostRegressor(),\n",
    "    'mlp': MLPRegressor(),\n",
    "    'xgboost':XGBRegressor()\n",
    "}"
   ]
  },
  {
   "cell_type": "code",
   "execution_count": null,
   "id": "b8a9d1d4",
   "metadata": {},
   "outputs": [],
   "source": [
    "model_output = []\n",
    "for model_name,model in model_dict.items():\n",
    "    model_output.append(scorer(model_name, model))"
   ]
  },
  {
   "cell_type": "code",
   "execution_count": null,
   "id": "fab0a513",
   "metadata": {},
   "outputs": [],
   "source": [
    "model_output"
   ]
  },
  {
   "cell_type": "code",
   "execution_count": null,
   "id": "ac628d76",
   "metadata": {},
   "outputs": [],
   "source": [
    "model_df = pd.DataFrame(model_output, columns=['name','r2','mae'])"
   ]
  },
  {
   "cell_type": "code",
   "execution_count": null,
   "id": "143ff7b2",
   "metadata": {},
   "outputs": [],
   "source": [
    "model_df.sort_values(['mae'])"
   ]
  },
  {
   "cell_type": "markdown",
   "id": "60ca5697",
   "metadata": {},
   "source": [
    "### OneHotEncoding"
   ]
  },
  {
   "cell_type": "code",
   "execution_count": null,
   "id": "50130423",
   "metadata": {},
   "outputs": [],
   "source": [
    "# Creating a column transformer for preprocessing\n",
    "preprocessor = ColumnTransformer(\n",
    "    transformers=[\n",
    "        ('num', StandardScaler(), ['bedRoom', 'bathroom', 'built_up_area', 'servant room', 'store room']),\n",
    "        ('cat', OrdinalEncoder(), columns_to_encode),\n",
    "        ('cat1',OneHotEncoder(drop='first'),['sector','agePossession','furnishing_type'])\n",
    "    ], \n",
    "    remainder='passthrough'\n",
    ")"
   ]
  },
  {
   "cell_type": "code",
   "execution_count": null,
   "id": "861b508b",
   "metadata": {},
   "outputs": [],
   "source": [
    "# Creating a pipeline\n",
    "pipeline = Pipeline([\n",
    "    ('preprocessor', preprocessor),\n",
    "    ('regressor', LinearRegression())\n",
    "])"
   ]
  },
  {
   "cell_type": "code",
   "execution_count": null,
   "id": "d9455a15",
   "metadata": {},
   "outputs": [],
   "source": [
    "# K-fold cross-validation\n",
    "kfold = KFold(n_splits=10, shuffle=True, random_state=42)\n",
    "scores = cross_val_score(pipeline, X, y_transformed, cv=kfold, scoring='r2')"
   ]
  },
  {
   "cell_type": "code",
   "execution_count": null,
   "id": "5d8dc0df",
   "metadata": {},
   "outputs": [],
   "source": [
    "scores.mean()"
   ]
  },
  {
   "cell_type": "code",
   "execution_count": null,
   "id": "6ff52ada",
   "metadata": {},
   "outputs": [],
   "source": [
    "scores.std()"
   ]
  },
  {
   "cell_type": "code",
   "execution_count": null,
   "id": "594d17c7",
   "metadata": {},
   "outputs": [],
   "source": [
    "X_train, X_test, y_train, y_test = train_test_split(X,y_transformed,test_size=0.2,random_state=42)"
   ]
  },
  {
   "cell_type": "code",
   "execution_count": null,
   "id": "6c182b60",
   "metadata": {},
   "outputs": [],
   "source": [
    "pipeline.fit(X_train,y_train)"
   ]
  },
  {
   "cell_type": "code",
   "execution_count": null,
   "id": "f50b7f8f",
   "metadata": {},
   "outputs": [],
   "source": [
    "y_pred = pipeline.predict(X_test)"
   ]
  },
  {
   "cell_type": "code",
   "execution_count": null,
   "id": "56328d6a",
   "metadata": {},
   "outputs": [],
   "source": [
    "y_pred = np.expm1(y_pred)"
   ]
  },
  {
   "cell_type": "code",
   "execution_count": null,
   "id": "47cb17aa",
   "metadata": {},
   "outputs": [],
   "source": [
    "mean_absolute_error(np.expm1(y_test),y_pred)"
   ]
  },
  {
   "cell_type": "code",
   "execution_count": null,
   "id": "16b2d377",
   "metadata": {},
   "outputs": [],
   "source": [
    "def scorer(model_name, model):\n",
    "    \n",
    "    output = []\n",
    "    \n",
    "    output.append(model_name)\n",
    "    \n",
    "    pipeline = Pipeline([\n",
    "        ('preprocessor', preprocessor),\n",
    "        ('regressor', model)\n",
    "    ])\n",
    "    \n",
    "    # K-fold cross-validation\n",
    "    kfold = KFold(n_splits=10, shuffle=True, random_state=42)\n",
    "    scores = cross_val_score(pipeline, X, y_transformed, cv=kfold, scoring='r2')\n",
    "    \n",
    "    output.append(scores.mean())\n",
    "    \n",
    "    X_train, X_test, y_train, y_test = train_test_split(X,y_transformed,test_size=0.2,random_state=42)\n",
    "    \n",
    "    pipeline.fit(X_train,y_train)\n",
    "    \n",
    "    y_pred = pipeline.predict(X_test)\n",
    "    \n",
    "    y_pred = np.expm1(y_pred)\n",
    "    \n",
    "    output.append(mean_absolute_error(np.expm1(y_test),y_pred))\n",
    "    \n",
    "    return output\n",
    "    "
   ]
  },
  {
   "cell_type": "code",
   "execution_count": null,
   "id": "3fdef9c9",
   "metadata": {},
   "outputs": [],
   "source": [
    "model_dict = {\n",
    "    'linear_reg':LinearRegression(),\n",
    "    'svr':SVR(),\n",
    "    'ridge':Ridge(),\n",
    "    'LASSO':Lasso(),\n",
    "    'decision tree': DecisionTreeRegressor(),\n",
    "    'random forest':RandomForestRegressor(),\n",
    "    'extra trees': ExtraTreesRegressor(),\n",
    "    'gradient boosting': GradientBoostingRegressor(),\n",
    "    'adaboost': AdaBoostRegressor(),\n",
    "    'mlp': MLPRegressor(),\n",
    "    'xgboost':XGBRegressor()\n",
    "}"
   ]
  },
  {
   "cell_type": "code",
   "execution_count": null,
   "id": "bd43a9ac",
   "metadata": {},
   "outputs": [],
   "source": [
    "model_output = []\n",
    "for model_name,model in model_dict.items():\n",
    "    model_output.append(scorer(model_name, model))"
   ]
  },
  {
   "cell_type": "code",
   "execution_count": null,
   "id": "99f87bf1",
   "metadata": {},
   "outputs": [],
   "source": [
    "model_df = pd.DataFrame(model_output, columns=['name','r2','mae'])"
   ]
  },
  {
   "cell_type": "code",
   "execution_count": null,
   "id": "077430c8",
   "metadata": {},
   "outputs": [],
   "source": [
    "model_df.sort_values(['mae'])"
   ]
  },
  {
   "cell_type": "markdown",
   "id": "407728e2",
   "metadata": {},
   "source": [
    "### OneHotEncoding With PCA"
   ]
  },
  {
   "cell_type": "code",
   "execution_count": null,
   "id": "b29b48c6",
   "metadata": {},
   "outputs": [],
   "source": [
    "# Creating a column transformer for preprocessing\n",
    "preprocessor = ColumnTransformer(\n",
    "    transformers=[\n",
    "        ('num', StandardScaler(), ['bedRoom', 'bathroom', 'built_up_area', 'servant room', 'store room']),\n",
    "        ('cat', OrdinalEncoder(), columns_to_encode),\n",
    "        ('cat1',OneHotEncoder(drop='first',sparse_output=False),['sector','agePossession'])\n",
    "    ], \n",
    "    remainder='passthrough'\n",
    ")"
   ]
  },
  {
   "cell_type": "code",
   "execution_count": null,
   "id": "f1d0099e",
   "metadata": {},
   "outputs": [],
   "source": [
    "# Creating a pipeline\n",
    "pipeline = Pipeline([\n",
    "    ('preprocessor', preprocessor),\n",
    "    ('pca', PCA(n_components=0.95)),\n",
    "    ('regressor', LinearRegression())\n",
    "])"
   ]
  },
  {
   "cell_type": "code",
   "execution_count": null,
   "id": "3024633c",
   "metadata": {},
   "outputs": [],
   "source": [
    "# K-fold cross-validation\n",
    "kfold = KFold(n_splits=10, shuffle=True, random_state=42)\n",
    "scores = cross_val_score(pipeline, X, y_transformed, cv=kfold, scoring='r2')"
   ]
  },
  {
   "cell_type": "code",
   "execution_count": null,
   "id": "7df1dbeb",
   "metadata": {},
   "outputs": [],
   "source": [
    "scores.mean()"
   ]
  },
  {
   "cell_type": "code",
   "execution_count": null,
   "id": "134c3769",
   "metadata": {},
   "outputs": [],
   "source": [
    "scores.std()"
   ]
  },
  {
   "cell_type": "code",
   "execution_count": null,
   "id": "704ba719",
   "metadata": {},
   "outputs": [],
   "source": [
    "def scorer(model_name, model):\n",
    "    \n",
    "    output = []\n",
    "    \n",
    "    output.append(model_name)\n",
    "    \n",
    "    pipeline = Pipeline([\n",
    "        ('preprocessor', preprocessor),\n",
    "        ('pca', PCA(n_components=0.95)),\n",
    "        ('regressor', model)\n",
    "    ])\n",
    "    \n",
    "    # K-fold cross-validation\n",
    "    kfold = KFold(n_splits=10, shuffle=True, random_state=42)\n",
    "    scores = cross_val_score(pipeline, X, y_transformed, cv=kfold, scoring='r2')\n",
    "    \n",
    "    output.append(scores.mean())\n",
    "    \n",
    "    X_train, X_test, y_train, y_test = train_test_split(X,y_transformed,test_size=0.2,random_state=42)\n",
    "    \n",
    "    pipeline.fit(X_train,y_train)\n",
    "    \n",
    "    y_pred = pipeline.predict(X_test)\n",
    "    \n",
    "    y_pred = np.expm1(y_pred)\n",
    "    \n",
    "    output.append(mean_absolute_error(np.expm1(y_test),y_pred))\n",
    "    \n",
    "    return output\n",
    "    "
   ]
  },
  {
   "cell_type": "code",
   "execution_count": null,
   "id": "ad4ffc60",
   "metadata": {},
   "outputs": [],
   "source": [
    "model_dict = {\n",
    "    'linear_reg':LinearRegression(),\n",
    "    'svr':SVR(),\n",
    "    'ridge':Ridge(),\n",
    "    'LASSO':Lasso(),\n",
    "    'decision tree': DecisionTreeRegressor(),\n",
    "    'random forest':RandomForestRegressor(),\n",
    "    'extra trees': ExtraTreesRegressor(),\n",
    "    'gradient boosting': GradientBoostingRegressor(),\n",
    "    'adaboost': AdaBoostRegressor(),\n",
    "    'mlp': MLPRegressor(),\n",
    "    'xgboost':XGBRegressor()\n",
    "}"
   ]
  },
  {
   "cell_type": "code",
   "execution_count": null,
   "id": "ea3ac5ea",
   "metadata": {},
   "outputs": [],
   "source": [
    "model_output = []\n",
    "for model_name,model in model_dict.items():\n",
    "    model_output.append(scorer(model_name, model))"
   ]
  },
  {
   "cell_type": "code",
   "execution_count": null,
   "id": "edc7a23d",
   "metadata": {},
   "outputs": [],
   "source": [
    "model_df = pd.DataFrame(model_output, columns=['name','r2','mae'])"
   ]
  },
  {
   "cell_type": "code",
   "execution_count": null,
   "id": "a757b875",
   "metadata": {},
   "outputs": [],
   "source": [
    "model_df.sort_values(['mae'])"
   ]
  },
  {
   "cell_type": "markdown",
   "id": "4c447af1",
   "metadata": {},
   "source": [
    "### Target Encoder"
   ]
  },
  {
   "cell_type": "code",
   "execution_count": null,
   "id": "579e9512",
   "metadata": {},
   "outputs": [],
   "source": [
    "import category_encoders as ce\n",
    "\n",
    "columns_to_encode = ['Property_type','sector', 'balcony', 'agePossession', 'furnishing_type', 'luxury_category', 'floor_category']\n",
    "\n",
    "# Creating a column transformer for preprocessing\n",
    "preprocessor = ColumnTransformer(\n",
    "    transformers=[\n",
    "        ('num', StandardScaler(), ['bedRoom', 'bathroom', 'built_up_area', 'servant room', 'store room']),\n",
    "        ('cat', OrdinalEncoder(), columns_to_encode),\n",
    "        ('cat1',OneHotEncoder(drop='first',sparse_output=False),['agePossession']),\n",
    "        ('target_enc', ce.TargetEncoder(), ['sector'])\n",
    "    ], \n",
    "    remainder='passthrough'\n",
    ")"
   ]
  },
  {
   "cell_type": "code",
   "execution_count": null,
   "id": "3b45ab99",
   "metadata": {},
   "outputs": [],
   "source": [
    "#!pip install category_encoders"
   ]
  },
  {
   "cell_type": "code",
   "execution_count": null,
   "id": "6bfed857",
   "metadata": {},
   "outputs": [],
   "source": [
    "# Creating a pipeline\n",
    "pipeline = Pipeline([\n",
    "    ('preprocessor', preprocessor),\n",
    "    ('regressor', LinearRegression())\n",
    "])"
   ]
  },
  {
   "cell_type": "code",
   "execution_count": null,
   "id": "f6d6d178",
   "metadata": {},
   "outputs": [],
   "source": [
    "model_dict = {\n",
    "    'linear_reg':LinearRegression(),\n",
    "    'svr':SVR(),\n",
    "    'ridge':Ridge(),\n",
    "    'LASSO':Lasso(),\n",
    "    'decision tree': DecisionTreeRegressor(),\n",
    "    'random forest':RandomForestRegressor(),\n",
    "    'extra trees': ExtraTreesRegressor(),\n",
    "    'gradient boosting': GradientBoostingRegressor(),\n",
    "    'adaboost': AdaBoostRegressor(),\n",
    "    'mlp': MLPRegressor(),\n",
    "    'xgboost':XGBRegressor()\n",
    "}"
   ]
  },
  {
   "cell_type": "code",
   "execution_count": null,
   "id": "4719d291",
   "metadata": {},
   "outputs": [],
   "source": [
    "def scorer(model_name, model):\n",
    "    \n",
    "    output = []\n",
    "    \n",
    "    output.append(model_name)\n",
    "    \n",
    "    pipeline = Pipeline([\n",
    "        ('preprocessor', preprocessor),\n",
    "        ('regressor', model)\n",
    "    ])\n",
    "    \n",
    "    # K-fold cross-validation\n",
    "    kfold = KFold(n_splits=10, shuffle=True, random_state=42)\n",
    "    scores = cross_val_score(pipeline, X, y=y_transformed, cv=kfold, scoring='r2')\n",
    "    \n",
    "    output.append(scores.mean())\n",
    "    \n",
    "    X_train, X_test, y_train, y_test = train_test_split(X,y_transformed,test_size=0.2,random_state=42)\n",
    "    \n",
    "    pipeline.fit(X_train,y_train)\n",
    "    \n",
    "    y_pred = pipeline.predict(X_test)\n",
    "    \n",
    "    y_pred = np.expm1(y_pred)\n",
    "    \n",
    "    output.append(mean_absolute_error(np.expm1(y_test),y_pred))\n",
    "    \n",
    "    return output\n",
    "    "
   ]
  },
  {
   "cell_type": "code",
   "execution_count": null,
   "id": "cab63e93",
   "metadata": {},
   "outputs": [],
   "source": [
    "# K-fold cross-validation\n",
    "kfold = KFold(n_splits=10, shuffle=True, random_state=42)\n",
    "scores = cross_val_score(pipeline, X, y_transformed, cv=kfold, scoring='r2')"
   ]
  },
  {
   "cell_type": "code",
   "execution_count": null,
   "id": "2cc65244",
   "metadata": {},
   "outputs": [],
   "source": [
    "scores.mean(),scores.std()"
   ]
  },
  {
   "cell_type": "code",
   "execution_count": null,
   "id": "a67db403",
   "metadata": {},
   "outputs": [],
   "source": [
    "model_output = []\n",
    "for model_name,model in model_dict.items():\n",
    "    model_output.append(scorer(model_name, model))"
   ]
  },
  {
   "cell_type": "code",
   "execution_count": null,
   "id": "7bfdc20f",
   "metadata": {},
   "outputs": [],
   "source": [
    "model_df = pd.DataFrame(model_output, columns=['name','r2','mae'])"
   ]
  },
  {
   "cell_type": "code",
   "execution_count": null,
   "id": "87e5b032",
   "metadata": {},
   "outputs": [],
   "source": [
    "model_df.sort_values(['mae'])"
   ]
  },
  {
   "cell_type": "markdown",
   "id": "31c671e7",
   "metadata": {},
   "source": [
    "### Hyperparameter Tuning"
   ]
  },
  {
   "cell_type": "code",
   "execution_count": null,
   "id": "84d0573f",
   "metadata": {},
   "outputs": [],
   "source": [
    "from sklearn.model_selection import GridSearchCV"
   ]
  },
  {
   "cell_type": "code",
   "execution_count": null,
   "id": "a81b8e78",
   "metadata": {},
   "outputs": [],
   "source": [
    "param_grid = {\n",
    "    'regressor__n_estimators': [50, 100, 200, 300],\n",
    "    'regressor__max_depth': [None, 10, 20, 30],\n",
    "    'regressor__max_samples':[0.1, 0.25, 0.5, 1.0],\n",
    "    'regressor__max_features': ['auto', 'sqrt']\n",
    "}"
   ]
  },
  {
   "cell_type": "code",
   "execution_count": null,
   "id": "e7397c82",
   "metadata": {},
   "outputs": [],
   "source": [
    "columns_to_encode = ['Property_type','sector', 'balcony', 'agePossession', 'furnishing_type', 'luxury_category', 'floor_category']\n",
    "\n",
    "# Creating a column transformer for preprocessing\n",
    "preprocessor = ColumnTransformer(\n",
    "    transformers=[\n",
    "        ('num', StandardScaler(), ['bedRoom', 'bathroom', 'built_up_area', 'servant room', 'store room']),\n",
    "        ('cat', OrdinalEncoder(), columns_to_encode),\n",
    "        ('cat1',OneHotEncoder(drop='first',sparse_output=False),['agePossession']),\n",
    "        ('target_enc', ce.TargetEncoder(), ['sector'])\n",
    "    ], \n",
    "    remainder='passthrough'\n",
    ")"
   ]
  },
  {
   "cell_type": "code",
   "execution_count": null,
   "id": "45807e15",
   "metadata": {},
   "outputs": [],
   "source": [
    "pipeline = Pipeline([\n",
    "    ('preprocessor', preprocessor),\n",
    "    ('regressor', RandomForestRegressor())\n",
    "])"
   ]
  },
  {
   "cell_type": "code",
   "execution_count": null,
   "id": "3287204e",
   "metadata": {},
   "outputs": [],
   "source": [
    "kfold = KFold(n_splits=10, shuffle=True, random_state=42)"
   ]
  },
  {
   "cell_type": "code",
   "execution_count": null,
   "id": "8a26e17a",
   "metadata": {},
   "outputs": [],
   "source": [
    "search = GridSearchCV(pipeline, param_grid, cv=kfold, scoring='r2', n_jobs=-1, verbose=4)"
   ]
  },
  {
   "cell_type": "code",
   "execution_count": null,
   "id": "6a468e2b",
   "metadata": {
    "scrolled": true
   },
   "outputs": [],
   "source": [
    "search.fit(X, y_transformed)"
   ]
  },
  {
   "cell_type": "code",
   "execution_count": null,
   "id": "c1e6178b",
   "metadata": {},
   "outputs": [],
   "source": [
    "final_pipe = search.best_estimator_"
   ]
  },
  {
   "cell_type": "code",
   "execution_count": null,
   "id": "76ec1ebc",
   "metadata": {},
   "outputs": [],
   "source": [
    "search.best_params_"
   ]
  },
  {
   "cell_type": "code",
   "execution_count": null,
   "id": "95dfccee",
   "metadata": {},
   "outputs": [],
   "source": [
    "search.best_score_"
   ]
  },
  {
   "cell_type": "code",
   "execution_count": null,
   "id": "6144c01d",
   "metadata": {},
   "outputs": [],
   "source": [
    "final_pipe.fit(X,y_transformed)"
   ]
  },
  {
   "cell_type": "markdown",
   "id": "fbf98781",
   "metadata": {},
   "source": [
    "### Exporting the model"
   ]
  },
  {
   "cell_type": "code",
   "execution_count": null,
   "id": "042d9738",
   "metadata": {},
   "outputs": [],
   "source": [
    "preprocessor = ColumnTransformer(\n",
    "    transformers=[\n",
    "        ('num', StandardScaler(), ['bedRoom', 'bathroom', 'built_up_area', 'servant room', 'store room']),\n",
    "        ('cat', OrdinalEncoder(), columns_to_encode),\n",
    "        ('cat1',OneHotEncoder(drop='first',sparse_output=False),['sector','agePossession'])\n",
    "    ], \n",
    "    remainder='passthrough'\n",
    ")"
   ]
  },
  {
   "cell_type": "code",
   "execution_count": null,
   "id": "c4b5c7cd",
   "metadata": {},
   "outputs": [],
   "source": [
    "pipeline = Pipeline([\n",
    "    ('preprocessor', preprocessor),\n",
    "    ('regressor', RandomForestRegressor(n_estimators=500))\n",
    "])"
   ]
  },
  {
   "cell_type": "code",
   "execution_count": null,
   "id": "b19d656f",
   "metadata": {},
   "outputs": [],
   "source": [
    "pipeline.fit(X,y_transformed)"
   ]
  },
  {
   "cell_type": "code",
   "execution_count": null,
   "id": "1de3fdae",
   "metadata": {},
   "outputs": [],
   "source": [
    "import pickle\n",
    "\n",
    "with open('pipeline.pkl', 'wb') as file:\n",
    "    pickle.dump(pipeline, file)"
   ]
  },
  {
   "cell_type": "code",
   "execution_count": null,
   "id": "9eacedc3",
   "metadata": {},
   "outputs": [],
   "source": [
    "with open('df.pkl', 'wb') as file:\n",
    "    pickle.dump(X, file)"
   ]
  },
  {
   "cell_type": "code",
   "execution_count": null,
   "id": "d4d4ad2f",
   "metadata": {},
   "outputs": [],
   "source": [
    "X"
   ]
  },
  {
   "cell_type": "markdown",
   "id": "a627e25e",
   "metadata": {},
   "source": [
    "### Trying out the predictions"
   ]
  },
  {
   "cell_type": "code",
   "execution_count": null,
   "id": "74524975",
   "metadata": {},
   "outputs": [],
   "source": [
    "X.columns"
   ]
  },
  {
   "cell_type": "code",
   "execution_count": null,
   "id": "02c770d7",
   "metadata": {},
   "outputs": [],
   "source": [
    "X.iloc[0].values"
   ]
  },
  {
   "cell_type": "code",
   "execution_count": null,
   "id": "8562f722",
   "metadata": {},
   "outputs": [],
   "source": [
    "data = [['house', 'sector 102', 4, 3, '3+', 'New Property', 2750, 0, 0, 'unfurnished', 'Low', 'Low Floor']]\n",
    "columns = ['Property_type', 'sector', 'bedRoom', 'bathroom', 'balcony',\n",
    "       'agePossession', 'built_up_area', 'servant room', 'store room',\n",
    "       'furnishing_type', 'luxury_category', 'floor_category']\n",
    "\n",
    "# Convert to DataFrame\n",
    "one_df = pd.DataFrame(data, columns=columns)\n",
    "\n",
    "one_df\n"
   ]
  },
  {
   "cell_type": "code",
   "execution_count": null,
   "id": "b51e7e8b",
   "metadata": {},
   "outputs": [],
   "source": [
    "np.expm1(pipeline.predict(one_df))"
   ]
  },
  {
   "cell_type": "code",
   "execution_count": null,
   "id": "c04fd413",
   "metadata": {},
   "outputs": [],
   "source": []
  }
 ],
 "metadata": {
  "kernelspec": {
   "display_name": "Python 3 (ipykernel)",
   "language": "python",
   "name": "python3"
  },
  "language_info": {
   "codemirror_mode": {
    "name": "ipython",
    "version": 3
   },
   "file_extension": ".py",
   "mimetype": "text/x-python",
   "name": "python",
   "nbconvert_exporter": "python",
   "pygments_lexer": "ipython3",
   "version": "3.11.4"
  }
 },
 "nbformat": 4,
 "nbformat_minor": 5
}
